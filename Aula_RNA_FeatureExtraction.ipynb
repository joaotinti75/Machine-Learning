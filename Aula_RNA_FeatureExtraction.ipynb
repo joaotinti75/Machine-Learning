{
  "nbformat": 4,
  "nbformat_minor": 0,
  "metadata": {
    "colab": {
      "provenance": [],
      "authorship_tag": "ABX9TyNfK++ZjWdBAJ9ueJcZoxxs",
      "include_colab_link": true
    },
    "kernelspec": {
      "name": "python3",
      "display_name": "Python 3"
    },
    "language_info": {
      "name": "python"
    }
  },
  "cells": [
    {
      "cell_type": "markdown",
      "metadata": {
        "id": "view-in-github",
        "colab_type": "text"
      },
      "source": [
        "<a href=\"https://colab.research.google.com/github/joaotinti75/Machine-Learning/blob/main/Aula_RNA_FeatureExtraction.ipynb\" target=\"_parent\"><img src=\"https://colab.research.google.com/assets/colab-badge.svg\" alt=\"Open In Colab\"/></a>"
      ]
    },
    {
      "cell_type": "markdown",
      "source": [
        "## Extração de características"
      ],
      "metadata": {
        "id": "RqYDTfOSM_Ld"
      }
    },
    {
      "cell_type": "code",
      "source": [
        "import cv2\n",
        "import numpy as np\n",
        "import os\n",
        "import zipfile\n",
        "from google.colab.patches import cv2_imshow\n",
        "import tensorflow as tf\n",
        "import pandas as pd\n",
        "import seaborn as sns\n",
        "import matplotlib.pyplot as plt"
      ],
      "metadata": {
        "id": "LxZjgJrBNUVE"
      },
      "execution_count": 1,
      "outputs": []
    },
    {
      "cell_type": "code",
      "source": [
        "from google.colab import drive\n",
        "drive.mount('/content/drive')"
      ],
      "metadata": {
        "colab": {
          "base_uri": "https://localhost:8080/"
        },
        "id": "6JtCGEMXNZa_",
        "outputId": "17e23725-4759-4204-ed9a-04ae6b77ebb5"
      },
      "execution_count": 3,
      "outputs": [
        {
          "output_type": "stream",
          "name": "stdout",
          "text": [
            "Mounted at /content/drive\n"
          ]
        }
      ]
    },
    {
      "cell_type": "code",
      "source": [
        "path = '/content/drive/MyDrive/Visão Computacional Guia Completo-20230201T234050Z-001/Visão Computacional Guia Completo/Datasets/homer_bart_1.zip'\n",
        "zip_object = zipfile.ZipFile(file = path, mode='r')\n",
        "\n",
        "zip_object.extractall('./')\n",
        "zip_object.close()\n",
        "     "
      ],
      "metadata": {
        "id": "k0kbsesYNaQd"
      },
      "execution_count": 4,
      "outputs": []
    },
    {
      "cell_type": "code",
      "source": [
        "diretorio = '/content/homer_bart_1'\n",
        "arquivos = [os.path.join(diretorio, f) for f in sorted(os.listdir(diretorio))] \n",
        "print(arquivos)"
      ],
      "metadata": {
        "colab": {
          "base_uri": "https://localhost:8080/"
        },
        "id": "cQLFqhC1NBBu",
        "outputId": "161d341d-63e6-4807-a36e-6545863c224b"
      },
      "execution_count": 5,
      "outputs": [
        {
          "output_type": "stream",
          "name": "stdout",
          "text": [
            "['/content/homer_bart_1/.DS_Store', '/content/homer_bart_1/bart1.bmp', '/content/homer_bart_1/bart10.bmp', '/content/homer_bart_1/bart100.bmp', '/content/homer_bart_1/bart101.bmp', '/content/homer_bart_1/bart102.bmp', '/content/homer_bart_1/bart103.bmp', '/content/homer_bart_1/bart104.bmp', '/content/homer_bart_1/bart105.bmp', '/content/homer_bart_1/bart106.bmp', '/content/homer_bart_1/bart108.bmp', '/content/homer_bart_1/bart109.bmp', '/content/homer_bart_1/bart11.bmp', '/content/homer_bart_1/bart110.bmp', '/content/homer_bart_1/bart111.bmp', '/content/homer_bart_1/bart112.bmp', '/content/homer_bart_1/bart113.bmp', '/content/homer_bart_1/bart114.bmp', '/content/homer_bart_1/bart115.bmp', '/content/homer_bart_1/bart116.bmp', '/content/homer_bart_1/bart117.bmp', '/content/homer_bart_1/bart118.bmp', '/content/homer_bart_1/bart119.bmp', '/content/homer_bart_1/bart12.bmp', '/content/homer_bart_1/bart120.bmp', '/content/homer_bart_1/bart121.bmp', '/content/homer_bart_1/bart122.bmp', '/content/homer_bart_1/bart123.bmp', '/content/homer_bart_1/bart124.bmp', '/content/homer_bart_1/bart125.bmp', '/content/homer_bart_1/bart126.bmp', '/content/homer_bart_1/bart127.bmp', '/content/homer_bart_1/bart128.bmp', '/content/homer_bart_1/bart13.bmp', '/content/homer_bart_1/bart130.bmp', '/content/homer_bart_1/bart131.bmp', '/content/homer_bart_1/bart132.bmp', '/content/homer_bart_1/bart133.bmp', '/content/homer_bart_1/bart134.bmp', '/content/homer_bart_1/bart135.bmp', '/content/homer_bart_1/bart136.bmp', '/content/homer_bart_1/bart137.bmp', '/content/homer_bart_1/bart138.bmp', '/content/homer_bart_1/bart139.bmp', '/content/homer_bart_1/bart14.bmp', '/content/homer_bart_1/bart141.bmp', '/content/homer_bart_1/bart142.bmp', '/content/homer_bart_1/bart143.bmp', '/content/homer_bart_1/bart144.bmp', '/content/homer_bart_1/bart145.bmp', '/content/homer_bart_1/bart146.bmp', '/content/homer_bart_1/bart147.bmp', '/content/homer_bart_1/bart148.bmp', '/content/homer_bart_1/bart149.bmp', '/content/homer_bart_1/bart15.bmp', '/content/homer_bart_1/bart150.bmp', '/content/homer_bart_1/bart151.bmp', '/content/homer_bart_1/bart153.bmp', '/content/homer_bart_1/bart154.bmp', '/content/homer_bart_1/bart155.bmp', '/content/homer_bart_1/bart156.bmp', '/content/homer_bart_1/bart157.bmp', '/content/homer_bart_1/bart158.bmp', '/content/homer_bart_1/bart159.bmp', '/content/homer_bart_1/bart16.bmp', '/content/homer_bart_1/bart160.bmp', '/content/homer_bart_1/bart161.bmp', '/content/homer_bart_1/bart162.bmp', '/content/homer_bart_1/bart164.bmp', '/content/homer_bart_1/bart165.bmp', '/content/homer_bart_1/bart166.bmp', '/content/homer_bart_1/bart167.bmp', '/content/homer_bart_1/bart168.bmp', '/content/homer_bart_1/bart169.bmp', '/content/homer_bart_1/bart17.bmp', '/content/homer_bart_1/bart18.bmp', '/content/homer_bart_1/bart19.bmp', '/content/homer_bart_1/bart2.bmp', '/content/homer_bart_1/bart20.bmp', '/content/homer_bart_1/bart21.bmp', '/content/homer_bart_1/bart22.bmp', '/content/homer_bart_1/bart23.bmp', '/content/homer_bart_1/bart24.bmp', '/content/homer_bart_1/bart25.bmp', '/content/homer_bart_1/bart26.bmp', '/content/homer_bart_1/bart27.bmp', '/content/homer_bart_1/bart28.bmp', '/content/homer_bart_1/bart29.bmp', '/content/homer_bart_1/bart3.bmp', '/content/homer_bart_1/bart30.bmp', '/content/homer_bart_1/bart31.bmp', '/content/homer_bart_1/bart32.bmp', '/content/homer_bart_1/bart34.bmp', '/content/homer_bart_1/bart35.bmp', '/content/homer_bart_1/bart36.bmp', '/content/homer_bart_1/bart37.bmp', '/content/homer_bart_1/bart38.bmp', '/content/homer_bart_1/bart39.bmp', '/content/homer_bart_1/bart4.bmp', '/content/homer_bart_1/bart40.bmp', '/content/homer_bart_1/bart42.bmp', '/content/homer_bart_1/bart43.bmp', '/content/homer_bart_1/bart44.bmp', '/content/homer_bart_1/bart45.bmp', '/content/homer_bart_1/bart46.bmp', '/content/homer_bart_1/bart47.bmp', '/content/homer_bart_1/bart48.bmp', '/content/homer_bart_1/bart49.bmp', '/content/homer_bart_1/bart5.bmp', '/content/homer_bart_1/bart50.bmp', '/content/homer_bart_1/bart51.bmp', '/content/homer_bart_1/bart52.bmp', '/content/homer_bart_1/bart53.bmp', '/content/homer_bart_1/bart54.bmp', '/content/homer_bart_1/bart55.bmp', '/content/homer_bart_1/bart56.bmp', '/content/homer_bart_1/bart57.bmp', '/content/homer_bart_1/bart58.bmp', '/content/homer_bart_1/bart59.bmp', '/content/homer_bart_1/bart6.bmp', '/content/homer_bart_1/bart60.bmp', '/content/homer_bart_1/bart61.bmp', '/content/homer_bart_1/bart62.bmp', '/content/homer_bart_1/bart63.bmp', '/content/homer_bart_1/bart64.bmp', '/content/homer_bart_1/bart65.bmp', '/content/homer_bart_1/bart66.bmp', '/content/homer_bart_1/bart67.bmp', '/content/homer_bart_1/bart68.bmp', '/content/homer_bart_1/bart69.bmp', '/content/homer_bart_1/bart7.bmp', '/content/homer_bart_1/bart70.bmp', '/content/homer_bart_1/bart71.bmp', '/content/homer_bart_1/bart72.bmp', '/content/homer_bart_1/bart73.bmp', '/content/homer_bart_1/bart74.bmp', '/content/homer_bart_1/bart75.bmp', '/content/homer_bart_1/bart76.bmp', '/content/homer_bart_1/bart77.bmp', '/content/homer_bart_1/bart79.bmp', '/content/homer_bart_1/bart8.bmp', '/content/homer_bart_1/bart80.bmp', '/content/homer_bart_1/bart81.bmp', '/content/homer_bart_1/bart82.bmp', '/content/homer_bart_1/bart83.bmp', '/content/homer_bart_1/bart84.bmp', '/content/homer_bart_1/bart85.bmp', '/content/homer_bart_1/bart86.bmp', '/content/homer_bart_1/bart87.bmp', '/content/homer_bart_1/bart89.bmp', '/content/homer_bart_1/bart9.bmp', '/content/homer_bart_1/bart90.bmp', '/content/homer_bart_1/bart91.bmp', '/content/homer_bart_1/bart92.bmp', '/content/homer_bart_1/bart93.bmp', '/content/homer_bart_1/bart94.bmp', '/content/homer_bart_1/bart95.bmp', '/content/homer_bart_1/bart96.bmp', '/content/homer_bart_1/bart97.bmp', '/content/homer_bart_1/bart98.bmp', '/content/homer_bart_1/bart99.bmp', '/content/homer_bart_1/homer1.bmp', '/content/homer_bart_1/homer10.bmp', '/content/homer_bart_1/homer100.bmp', '/content/homer_bart_1/homer101.bmp', '/content/homer_bart_1/homer102.bmp', '/content/homer_bart_1/homer103.bmp', '/content/homer_bart_1/homer104.bmp', '/content/homer_bart_1/homer105.bmp', '/content/homer_bart_1/homer106.bmp', '/content/homer_bart_1/homer107.bmp', '/content/homer_bart_1/homer109.bmp', '/content/homer_bart_1/homer110.bmp', '/content/homer_bart_1/homer112.bmp', '/content/homer_bart_1/homer113.bmp', '/content/homer_bart_1/homer115.bmp', '/content/homer_bart_1/homer116.bmp', '/content/homer_bart_1/homer117.bmp', '/content/homer_bart_1/homer119.bmp', '/content/homer_bart_1/homer120.bmp', '/content/homer_bart_1/homer121.bmp', '/content/homer_bart_1/homer122.bmp', '/content/homer_bart_1/homer123.bmp', '/content/homer_bart_1/homer124.bmp', '/content/homer_bart_1/homer13.bmp', '/content/homer_bart_1/homer14.bmp', '/content/homer_bart_1/homer15.bmp', '/content/homer_bart_1/homer16.bmp', '/content/homer_bart_1/homer17.bmp', '/content/homer_bart_1/homer18.bmp', '/content/homer_bart_1/homer2.bmp', '/content/homer_bart_1/homer20.bmp', '/content/homer_bart_1/homer21.bmp', '/content/homer_bart_1/homer22.bmp', '/content/homer_bart_1/homer23.bmp', '/content/homer_bart_1/homer24.bmp', '/content/homer_bart_1/homer26.bmp', '/content/homer_bart_1/homer27.bmp', '/content/homer_bart_1/homer28.bmp', '/content/homer_bart_1/homer29.bmp', '/content/homer_bart_1/homer3.bmp', '/content/homer_bart_1/homer30.bmp', '/content/homer_bart_1/homer31.bmp', '/content/homer_bart_1/homer32.bmp', '/content/homer_bart_1/homer33.bmp', '/content/homer_bart_1/homer34.bmp', '/content/homer_bart_1/homer35.bmp', '/content/homer_bart_1/homer36.bmp', '/content/homer_bart_1/homer37.bmp', '/content/homer_bart_1/homer38.bmp', '/content/homer_bart_1/homer4.bmp', '/content/homer_bart_1/homer40.bmp', '/content/homer_bart_1/homer41.bmp', '/content/homer_bart_1/homer43.bmp', '/content/homer_bart_1/homer44.bmp', '/content/homer_bart_1/homer45.bmp', '/content/homer_bart_1/homer46.bmp', '/content/homer_bart_1/homer47.bmp', '/content/homer_bart_1/homer48.bmp', '/content/homer_bart_1/homer49.bmp', '/content/homer_bart_1/homer5.bmp', '/content/homer_bart_1/homer50.bmp', '/content/homer_bart_1/homer51.bmp', '/content/homer_bart_1/homer52.bmp', '/content/homer_bart_1/homer54.bmp', '/content/homer_bart_1/homer55.bmp', '/content/homer_bart_1/homer56.bmp', '/content/homer_bart_1/homer57.bmp', '/content/homer_bart_1/homer58.bmp', '/content/homer_bart_1/homer59.bmp', '/content/homer_bart_1/homer6.bmp', '/content/homer_bart_1/homer60.bmp', '/content/homer_bart_1/homer61.bmp', '/content/homer_bart_1/homer62.bmp', '/content/homer_bart_1/homer63.bmp', '/content/homer_bart_1/homer65.bmp', '/content/homer_bart_1/homer66.bmp', '/content/homer_bart_1/homer68.bmp', '/content/homer_bart_1/homer69.bmp', '/content/homer_bart_1/homer7.bmp', '/content/homer_bart_1/homer70.bmp', '/content/homer_bart_1/homer71.bmp', '/content/homer_bart_1/homer72.bmp', '/content/homer_bart_1/homer73.bmp', '/content/homer_bart_1/homer74.bmp', '/content/homer_bart_1/homer75.bmp', '/content/homer_bart_1/homer76.bmp', '/content/homer_bart_1/homer77.bmp', '/content/homer_bart_1/homer78.bmp', '/content/homer_bart_1/homer79.bmp', '/content/homer_bart_1/homer8.bmp', '/content/homer_bart_1/homer80.bmp', '/content/homer_bart_1/homer81.bmp', '/content/homer_bart_1/homer82.bmp', '/content/homer_bart_1/homer83.bmp', '/content/homer_bart_1/homer84.bmp', '/content/homer_bart_1/homer85.bmp', '/content/homer_bart_1/homer86.bmp', '/content/homer_bart_1/homer87.bmp', '/content/homer_bart_1/homer9.bmp', '/content/homer_bart_1/homer90.bmp', '/content/homer_bart_1/homer91.bmp', '/content/homer_bart_1/homer92.bmp', '/content/homer_bart_1/homer93.bmp', '/content/homer_bart_1/homer94.bmp', '/content/homer_bart_1/homer95.bmp', '/content/homer_bart_1/homer96.bmp', '/content/homer_bart_1/homer97.bmp', '/content/homer_bart_1/homer98.bmp', '/content/homer_bart_1/homer99.bmp']\n"
          ]
        }
      ]
    },
    {
      "cell_type": "code",
      "source": [
        "export = 'boca,calca,sapato,camisa,calcao,tenis,classe\\n' #vamos exportar um arquivo contendo as características da imagem"
      ],
      "metadata": {
        "id": "_4dTzCB_NhkP"
      },
      "execution_count": 21,
      "outputs": []
    },
    {
      "cell_type": "code",
      "source": [
        "mostrar_imagens = False\n",
        "caracteristicas = []"
      ],
      "metadata": {
        "id": "nRgFe5r8N8g0"
      },
      "execution_count": 22,
      "outputs": []
    },
    {
      "cell_type": "code",
      "source": [
        "for imagem_caminho in arquivos:\n",
        "  try:\n",
        "    imagem_original = cv2.imread(imagem_caminho)\n",
        "    (H, W) = imagem_original.shape[:2]\n",
        "  except:\n",
        "    continue\n",
        "  \n",
        "  imagem_alterada = imagem_original.copy()\n",
        "  imagem_caracteristicas = []\n",
        "  imagem_nome = os.path.basename(os.path.normpath(imagem_caminho))\n",
        "  boca = calca = sapato = 0\n",
        "  camisa = calcao = tenis = 0\n",
        "\n",
        "  if imagem_nome.startswith('b'):\n",
        "    classe = 0\n",
        "  else:\n",
        "    classe = 1\n",
        "\n",
        "  for altura in range(0, H):\n",
        "    for largura in range(0, W):\n",
        "      azul = imagem_alterada.item(altura, largura, 0)\n",
        "      verde = imagem_alterada.item(altura, largura, 1)\n",
        "      vermelho = imagem_alterada.item(altura, largura, 2)\n",
        "\n",
        "      # Homer - marrom da boca\n",
        "      if (azul >= 95 and azul <= 140 and verde >= 160 and verde <= 185 and vermelho >= 175 and vermelho <= 205):\n",
        "        imagem_alterada[altura, largura] = [0, 0, 255]\n",
        "        boca += 1\n",
        "\n",
        "      # Homer - azul da calça\n",
        "      if (azul >= 150 and azul <= 180 and verde >= 98 and verde <= 120 and vermelho >= 0 and vermelho <= 90):\n",
        "        imagem_alterada[altura, largura] = [0, 0, 255]\n",
        "        calca += 1\n",
        "\n",
        "      # Homer - cinza do sapato\n",
        "      if altura > (H / 2): # o sapato do homer geralmente está na parte inferior da imagem\n",
        "        if (azul >= 25 and azul <= 45 and verde >= 25 and verde <= 45 and vermelho >= 25 and vermelho <= 45):\n",
        "            imagem_alterada[altura, largura] = [0, 0, 255]\n",
        "            sapato += 1\n",
        "\n",
        "      # Bart - laranja da camisa\n",
        "      if (azul >= 11 and azul <= 50 and verde >= 85 and verde <= 105 and vermelho >= 240 and vermelho <= 255):\n",
        "        imagem_alterada[altura, largura] = [0, 255, 128]\n",
        "        camisa += 1\n",
        "\n",
        "      # Bart - azul do calção\n",
        "      if (azul >= 125 and azul <= 170 and verde >= 0 and verde <= 12 and vermelho >= 0 and vermelho <= 20):\n",
        "        imagem_alterada[altura, largura] = [0, 255, 128]\n",
        "        calcao += 1\n",
        "\n",
        "      # Bart - azul do tenis\n",
        "      if altura > (H / 2):\n",
        "        if (azul >= 125 and azul <= 170 and verde >= 0 and verde <= 12 and vermelho >= 0 and vermelho <= 20):\n",
        "          imagem_alterada[altura, largura] = [0, 255, 128]\n",
        "          calcao += 1\n",
        "\n",
        "  boca = round((boca / (H * W)) * 100, 9) #extraindo o proporcional de pixels que existe em cada uma das imagens\n",
        "  calca = round((calca / (H * W)) * 100, 9)\n",
        "  sapato = round((sapato / (H * W)) * 100, 9)\n",
        "  camisa = round((camisa / (H * W)) * 100, 9)\n",
        "  calcao = round((calcao / (H * W)) * 100, 9)\n",
        "  tenis = round((tenis / (H * W)) * 100, 9)\n",
        "\n",
        "  imagem_caracteristicas.append(boca)\n",
        "  imagem_caracteristicas.append(calca)\n",
        "  imagem_caracteristicas.append(sapato)\n",
        "  imagem_caracteristicas.append(camisa)\n",
        "  imagem_caracteristicas.append(calcao)\n",
        "  imagem_caracteristicas.append(tenis)\n",
        "  imagem_caracteristicas.append(classe)\n",
        "\n",
        "  caracteristicas.append(imagem_caracteristicas)  \n",
        "\n",
        "  f = (','.join([str(item) for item in imagem_caracteristicas]))\n",
        "  export += f + '\\n'\n",
        "\n",
        "  if mostrar_imagens == True:\n",
        "    imagem_alterada = cv2.cvtColor(imagem_alterada, cv2.COLOR_BGR2RGB)\n",
        "    imagem_original = cv2.cvtColor(imagem_original, cv2.COLOR_BGR2RGB)\n",
        "\n",
        "    figura, im = plt.subplots(1, 2) #1 linha e 2 colunas\n",
        "    im[0].imshow(imagem_original)\n",
        "    im[0].axis('off')\n",
        "    im[1].imshow(imagem_alterada)\n",
        "    img[1].axis('off')\n",
        "    plt.show()\n",
        "\n",
        "  #print('Home boca: ', imagem_caracteristicas[0])"
      ],
      "metadata": {
        "id": "C6wm9kENN__r"
      },
      "execution_count": 23,
      "outputs": []
    },
    {
      "cell_type": "code",
      "source": [
        "export"
      ],
      "metadata": {
        "id": "KSNOJ3AGr_JH",
        "outputId": "442ee7a3-0d73-4e49-be66-0f58603e3b2d",
        "colab": {
          "base_uri": "https://localhost:8080/",
          "height": 192
        }
      },
      "execution_count": 24,
      "outputs": [
        {
          "output_type": "execute_result",
          "data": {
            "text/plain": [
              "'boca,calca,sapato,camisa,calcao,tenis,classe\\n0.0,0.0,0.114799225,6.886101887,6.99040871,0.0,0\\n0.0,0.0,0.11007847,5.004901113,6.367777411,0.0,0\\n0.0,0.0,0.182518631,5.264620437,10.059365921,0.0,0\\n0.0,0.480168257,0.080028043,0.0,0.0,0.0,0\\n0.0,0.0,0.029707562,8.978929368,6.918238994,0.0,0\\n0.0,0.0,0.053304904,6.75432362,1.897654584,0.0,0\\n0.249585206,0.0,0.019853369,9.693407263,8.209367954,0.0,0\\n0.0,0.0,0.181208054,0.0,0.0,0.0,0\\n0.0,0.0,0.148868778,0.0,0.0,0.0,0\\n0.0,0.0,0.114762211,9.594752524,15.045431095,0.0,0\\n0.0,0.0,0.138655462,0.0,0.0,0.0,0\\n0.0,0.0,0.02400947,19.545383481,0.0,0.0,0\\n0.00307645,0.0,0.0,6.495154592,11.198277188,0.0,0\\n0.001317263,0.0,0.087817515,0.0,0.0,0.0,0\\n0.0,0.0,0.032184591,8.395721925,0.0,0.0,0\\n0.02105732,0.0,0.008503918,8.915750471,0.0,0.0,0\\n0.0,0.0,0.081055114,11.095816228,9.050222727,0.0,0\\n0.0,0.0,0.08757526,10.493254773,6.366592614,0.0,0\\n0.0,0.0,0.043806812,9.563574636,0.0,0.0,0\\n0.0,0.0,0.141247989,4.782764169,7.200965493,0.0,0\\n0.0,0.010463297,0.391691233,7.485351385,0.0,0.0,0\\n0.0,0.0,0.145441759,12.603487406,4.746835443,0.0,0\\n0.0,0.0,0.298828743,11.930357708,13.733459956,0.0,0\\n0.0,0.0,0.110318564,2.221483407,3.37340567,0.0,0\\n0.0,0.0,0.083622139,0.0,0.0,0.0,0\\n0.0,0.0,0.069784112,9.815103727,12.603305785,0.0,0\\n0.0,0.0,0.088388486,4.370071715,11.875285799,0.0,0\\n0.0,0.0,0.144211187,0.0,0.0,0.0,0\\n0.07,0.0,0.344285714,0.0,0.0,0.0,0\\n0.0,0.0,0.07980941,11.34842168,15.447885646,0.0,0\\n0.0,0.0,0.379403794,0.0,0.0,0.0,0\\n0.0,0.0,0.090175198,11.35992786,0.0,0.0,0\\n0.0,0.0,0.084393721,5.738773012,6.797848616,0.0,0\\n0.0,0.0,0.162677013,5.02834647,0.0,0.0,0\\n0.0,0.0,0.050130084,0.0,3.747699727,0.0,0\\n0.000832432,0.0,0.198951136,16.896695247,2.289186714,0.0,0\\n0.0,0.0,0.108054523,13.612887237,0.539281289,0.0,0\\n0.057218819,0.0,0.082649405,7.451161715,0.0,0.0,0\\n0.0,0.0,0.065466448,7.435477779,3.479793529,0.0,0\\n0.0,0.0,0.076230076,3.805959806,4.544698545,0.0,0\\n0.0,0.0,0.05304784,4.831299102,10.310570988,0.0,0\\n0.0,0.0,0.057656907,10.626237366,0.0,0.0,0\\n0.0,0.0,4.180478037,7.999659154,0.0,0.0,0\\n0.0,0.0,0.166613773,5.126150428,14.225642653,0.0,0\\n0.0,0.0,0.108311229,0.0,36.658561745,0.0,0\\n0.0,0.0,0.13699873,3.036351539,3.595838626,0.0,0\\n0.0,0.0,0.086580087,8.187567641,4.715909091,0.0,0\\n0.0,0.0,0.151135698,13.635152613,11.464030188,0.0,0\\n0.0,0.0,0.183020488,9.887895675,7.982430033,0.0,0\\n0.0,0.0,0.126150813,2.49238361,12.527639003,0.0,0\\n0.0,0.0,0.152807573,4.940494433,5.681547315,0.0,0\\n0.0,0.0,0.0,1.187012385,3.614465587,0.0,0\\n0.0,0.0,0.02433848,8.855312603,0.0,0.0,0\\n2.452787678,0.0,0.068104543,4.658248331,7.759821392,0.0,0\\n0.0,0.0,0.0,0.0,0.0,0.0,0\\n0.002290583,0.0,0.0,6.528926251,0.0,0.0,0\\n0.0,0.0,0.056179775,12.13282504,0.0,0.0,0\\n0.000888889,0.0,0.094222222,5.550222222,0.0,0.0,0\\n0.0,0.0,0.0,2.704001299,2.887752617,0.0,0\\n0.0,0.0,0.078947368,0.493177388,2.62962963,0.0,0\\n0.129449838,0.0,0.220989367,3.006010171,2.356911697,0.0,0\\n0.0,0.0,0.0,2.278061846,6.540378216,0.0,0\\n0.0,0.0,0.048163557,3.585693763,9.862733863,0.0,0\\n0.0,0.0,0.580333855,0.721749478,0.737235915,0.0,0\\n0.0,0.0,0.156095181,4.259996037,9.010838249,0.0,0\\n0.0,0.0,0.113855066,9.469978468,11.467444121,0.0,0\\n0.0,0.0,0.112589904,5.532449419,15.774349667,0.0,0\\n0.0,0.0,0.101010101,10.84387737,0.0,0.0,0\\n0.0,0.0,0.130730051,2.291680815,5.050254669,0.0,0\\n0.0,0.0,0.084417626,6.426076432,8.827671753,0.0,0\\n0.072235674,0.0,0.0,3.773204197,3.841000807,0.0,0\\n0.0,0.0,0.095862315,6.44172463,11.206973426,0.0,0\\n0.0,0.079648273,0.713011342,3.013253473,3.504524022,0.0,0\\n0.0,0.0,0.077600637,17.164367088,0.0,0.0,0\\n0.0,0.0,0.138044446,0.0,0.0,0.0,0\\n0.256359764,0.0,1.935279188,2.087344653,0.350078768,0.0,0\\n0.0,0.0,0.306571323,3.656376567,8.552215956,0.0,0\\n0.0,0.0,0.182729644,0.0,0.0,0.0,0\\n0.0,0.035811365,0.081114898,8.256461147,0.0,0.0,0\\n0.0,0.0,0.063650201,0.0,0.0,0.0,0\\n0.0,0.0,0.15935811,8.37577311,15.13456288,0.0,0\\n0.0,0.0,0.127103473,6.08575009,1.95622986,0.0,0\\n0.0,0.21020082,0.12724967,2.054235286,2.960183448,0.0,0\\n0.0,0.0,0.067023482,6.311297555,0.0,0.0,0\\n0.0,0.0,0.089739311,8.347980866,16.480884043,0.0,0\\n0.0,0.0,0.06409324,0.0,0.0,0.0,0\\n0.0,0.0,0.059352518,9.928507194,0.0,0.0,0\\n0.620192308,0.0,0.151442308,5.380608974,8.278846154,0.0,0\\n0.0,0.020169769,0.169082748,0.0,5.774562059,0.0,0\\n0.0,0.022174372,0.075276158,0.0,0.0,0.0,0\\n0.0,0.0,0.088223514,5.356195672,8.651316858,0.0,0\\n0.0,0.0,0.036128255,0.0,21.614481409,0.0,0\\n4.469270958,0.0,0.048356864,0.0,0.0,0.0,0\\n0.0,0.0,0.515769828,3.451480154,7.121215671,0.0,0\\n0.003738178,0.0,0.20746888,0.0,6.209113678,0.0,0\\n0.0,0.0,0.119900917,1.333403605,2.851270159,0.0,0\\n0.016800478,0.0,0.029723923,3.016978176,4.448249681,0.0,0\\n0.0,0.0,0.038138825,9.655055513,0.0,0.0,0\\n0.002855457,0.004283185,0.047115037,10.154480212,0.0,0.0,0\\n0.0,0.0,0.0,4.474124124,3.103529762,0.0,0\\n0.0,0.0,0.0,8.667226891,7.843697479,0.0,0\\n0.0,0.0,0.0,8.113564866,11.644468095,0.0,0\\n0.0,0.0,0.11212159,6.242393461,0.0,0.0,0\\n0.0,0.0,0.594795539,0.0,21.707502535,0.0,0\\n0.001554726,0.047419154,0.359919154,0.0,3.546330846,0.0,0\\n0.0,0.0,0.12787018,4.207756844,0.048756256,0.0,0\\n4.469270958,0.0,0.048356864,0.0,0.0,0.0,0\\n0.0,0.031103271,0.095440175,0.0,0.0,0.0,0\\n0.0,0.0,0.096296296,0.0,0.0,0.0,0\\n0.0,0.0,0.030959752,2.493227554,1.737616099,0.0,0\\n0.0,0.0,0.315630575,0.0,0.182974246,0.0,0\\n0.082892416,0.0,0.0,8.428571429,11.467372134,0.0,0\\n0.028748341,0.0,0.314020345,0.0,0.0,0.0,0\\n0.004464286,0.080357143,0.046875,6.841517857,0.0,0.0,0\\n0.0,0.0,0.162836426,0.0,0.0,0.0,0\\n0.02761668,0.0,0.047342881,0.0,0.0,0.0,0\\n0.002855457,0.004283185,0.047115037,10.154480212,0.0,0.0,0\\n0.0,0.0,0.0,11.901625849,0.873979557,0.0,0\\n0.0,0.0,0.06820873,0.0,14.019349452,0.0,0\\n0.0,0.0,0.0,2.423072216,4.696572073,0.0,0\\n0.0,0.0,0.048370171,0.0,0.0,0.0,0\\n0.046402056,0.0,0.0,0.0,0.0,0.0,0\\n0.0,0.0,0.125109894,0.0,0.0,0.0,0\\n0.0,0.0,0.495459566,12.964780955,1.023131673,0.0,0\\n0.024496995,0.0,0.169029266,3.695779984,0.017147897,0.0,0\\n0.126262626,0.0,0.089031339,0.178062678,0.0,0.0,0\\n0.0,0.0,0.342702852,4.158589495,2.1577587,0.0,0\\n0.0,0.0,0.009876543,0.540740741,6.834567901,0.0,0\\n0.0,0.0,0.093454492,7.304595154,10.725472813,0.0,0\\n0.001013274,0.061809707,0.194548586,4.348971527,9.101226061,0.0,0\\n0.0,0.0,0.069741492,12.124170851,0.0,0.0,0\\n0.0,0.0,0.173299101,8.090500642,0.237483954,0.0,0\\n0.040761598,0.0,0.562080987,2.041297935,0.0,0.0,0\\n0.0,0.0,0.0,8.613248676,11.219533604,0.0,0\\n0.0,0.076864807,0.0,0.0,0.0,0.0,0\\n0.0,0.0,0.366119137,3.460815357,0.0,0.0,0\\n0.0,0.0,0.235437937,10.429447853,0.0,0.0,0\\n0.0,0.0,0.694371751,0.0,0.0,0.0,0\\n0.039284559,0.0,0.233396497,8.228959652,12.266025789,0.0,0\\n0.0,0.0,0.101015515,5.829625995,5.529877916,0.0,0\\n0.0,0.0,0.1,0.0,0.0,0.0,0\\n0.0,0.0,0.140763817,1.317641629,0.0,0.0,0\\n0.0,0.0,0.137115161,4.095916838,0.0,0.0,0\\n0.0,0.0,0.076660132,9.58125974,12.346051375,0.0,0\\n0.0,0.0,0.101961416,2.589283319,0.0,0.0,0\\n0.001549451,0.0,0.32228575,4.400440044,0.0,0.0,0\\n0.0,0.0,0.49909064,7.001166156,8.180010997,0.0,0\\n0.0,0.0,0.122647849,0.0,0.0,0.0,0\\n0.0,0.0,0.145933977,0.0,0.0,0.0,0\\n0.0,0.0,0.179773057,7.88857369,10.350969785,0.0,0\\n0.00265769,0.0,0.024805103,0.0,0.0,0.0,0\\n0.0,0.0,0.159848485,0.0,0.0,0.0,0\\n0.002906977,0.0,0.149418605,6.029651163,0.0,0.0,0\\n0.0,0.0,0.701011074,3.420959718,0.0,0.0,0\\n0.0,0.0,0.3986195,0.0,0.0,0.0,0\\n0.006931208,0.0,0.072777682,0.0,0.0,0.0,0\\n0.001619433,0.0,0.136842105,9.861538462,17.32145749,0.0,0\\n0.0,0.0,0.058479532,4.980506823,0.072124756,0.0,0\\n0.0,0.0,0.167883747,9.668452534,2.068731423,0.0,0\\n0.0,0.0,0.041262818,10.734478157,11.962705436,0.0,0\\n0.979401078,16.958948664,2.404184248,2.48769339,0.0,0.0,1\\n0.058665773,15.566543748,0.64867583,0.0,0.0,0.0,1\\n1.829063147,14.074792961,2.1875,0.0,0.0,0.0,1\\n2.804717308,0.152271939,0.107180021,0.0,0.0,0.0,1\\n2.510348847,0.0,0.133630737,0.0,0.0,0.0,1\\n0.0,0.0,0.222503718,0.0,0.0,0.0,1\\n6.507196996,0.0,0.175231208,0.0,0.0,0.0,1\\n4.677915738,0.0,0.293961583,0.0,0.0,0.0,1\\n3.118380316,0.0,0.300431807,0.0,0.0,0.0,1\\n4.06671025,0.0,0.150645216,0.0,0.0,0.0,1\\n0.0,0.0,1.19478171,0.0,0.0,0.0,1\\n3.195100354,0.0,0.380755608,0.0,0.0,0.0,1\\n0.355610904,7.673539043,0.158664268,0.275356303,0.0,0.0,1\\n0.663501119,4.680165379,0.034754821,0.0,0.0,0.0,1\\n0.501514993,5.802685195,2.626423571,0.0,0.0,0.0,1\\n1.448672089,3.566102811,0.060380396,0.0,0.0,0.0,1\\n0.858062038,0.0,0.229520791,0.0,0.0,0.0,1\\n2.046468542,4.588248639,0.060496068,0.0,0.0,0.0,1\\n5.3241237,0.0,0.083744238,0.0,0.0,0.0,1\\n3.059849386,21.512485137,4.97238737,0.0,0.0,0.0,1\\n1.87017211,19.164520938,1.432443421,0.0,0.0,0.0,1\\n1.181676162,6.996385642,0.0,0.0,0.0,0.0,1\\n1.657903494,0.0,0.071214642,0.0,0.0,0.0,1\\n1.375206612,14.950413223,1.574380165,0.0,0.0,0.0,1\\n2.107477925,32.308912804,0.172461369,0.0,0.0,0.0,1\\n0.480936756,0.0,0.095098438,0.0,0.0,0.0,1\\n1.405737574,0.084906762,0.102418781,0.0,0.0,0.0,1\\n1.429483853,0.0,0.112570356,0.0,0.0,0.0,1\\n1.623553703,13.843546691,1.437531653,0.0,0.0,0.0,1\\n4.966005609,0.0,0.10440414,0.0,0.0,0.0,1\\n1.365418968,12.872923639,1.497854342,0.0,0.0,0.0,1\\n1.475956065,10.607126113,0.0,0.0,0.0,0.0,1\\n2.580283794,13.434466019,1.690627334,0.0,0.0,0.0,1\\n1.208582988,13.390433758,1.592026425,0.0,0.0,0.0,1\\n0.308702684,9.513506425,0.713021243,0.0,0.0,0.0,1\\n2.111849548,0.273614253,0.134332579,0.0,0.0,0.0,1\\n0.312468394,0.187906888,0.0,0.0,0.0,0.0,1\\n1.699590092,3.907748997,0.0,0.0,0.0,0.0,1\\n1.261645963,0.046760305,0.044995765,0.0,0.0,0.0,1\\n4.183953033,0.0,0.129158513,0.0,0.0,0.0,1\\n0.67707459,16.612575308,0.0,0.0,0.0,0.0,1\\n7.688952498,0.0,0.069515437,0.0,0.0,0.0,1\\n0.0,0.063628651,0.0,0.0,0.0,0.0,1\\n0.0,0.039908211,0.633542851,0.0,0.0,0.0,1\\n0.0,0.024797844,0.201617251,0.0,0.0,0.0,1\\n0.092525727,0.178281278,0.146687128,0.0,0.0,0.0,1\\n0.028179839,11.469194313,0.174202639,0.0,0.0,0.0,1\\n0.491803279,0.0,0.195081967,0.0,0.0,0.0,1\\n0.38342137,0.0,0.076452599,0.0,0.0,0.0,1\\n1.085376162,8.202874049,0.22541561,0.0,0.0,0.0,1\\n0.171596238,7.372088758,0.192554557,0.0,0.0,0.0,1\\n0.078528726,8.650825818,0.196321816,0.525635829,0.0,0.0,1\\n0.070499893,9.101044382,0.226255472,0.0,0.0,0.0,1\\n0.018296095,0.0,0.128072668,0.0,0.0,0.0,1\\n0.072990481,0.0,0.0304127,0.0,0.0,0.0,1\\n0.039355119,0.0,0.176419498,0.0,0.0,0.0,1\\n0.028068487,0.0,0.0,0.0,0.0,0.0,1\\n1.207367796,0.007130125,0.411170529,0.0,0.0,0.0,1\\n0.0,0.0,0.195828012,0.0,0.0,0.0,1\\n0.660317686,0.0,0.0,0.0,0.0,0.0,1\\n0.0,0.155041727,0.140366996,0.0,0.0,0.0,1\\n0.058665773,15.566543748,0.64867583,0.0,0.0,0.0,1\\n0.058696928,0.052827235,0.138916063,0.0,0.0,0.0,1\\n0.516451479,0.00666389,0.0,0.0,0.0,0.0,1\\n0.112978525,0.0,0.253034547,0.0,0.0,0.0,1\\n1.401824597,2.311739089,0.178804158,0.0,0.0,0.0,1\\n0.051243533,0.0,0.036502243,0.0,0.0,0.0,1\\n1.619217082,0.0,0.15658363,0.0,0.0,0.0,1\\n1.242105263,0.0,0.114127424,0.0,0.0,0.0,1\\n1.862687235,8.791415663,0.221833279,0.0,0.0,0.0,1\\n0.171260997,5.309090909,0.127859238,0.0,0.0,0.0,1\\n0.842998586,11.237623762,0.178217822,0.0,0.0,0.0,1\\n2.599648343,0.0,0.170742694,0.0,0.0,0.0,1\\n0.023988486,0.0,0.011423088,0.0,0.0,0.0,1\\n0.120609675,0.0,0.096090126,0.0,0.0,0.0,1\\n0.42369338,0.0,1.361207898,0.0,0.0,0.0,1\\n0.773406766,7.593233674,0.0,0.0,0.0,0.0,1\\n0.0,0.0,0.143328579,0.0,0.0,0.0,1\\n0.942271339,9.738548786,0.077940963,0.0,0.0,0.0,1\\n0.087450238,0.024146708,0.274097762,0.0,0.0,0.0,1\\n8.468309859,0.0,0.278755869,0.0,0.0,0.0,1\\n0.462344029,0.325868984,0.182895128,0.0,0.0,0.0,1\\n0.258885898,4.702521562,0.315195297,0.0,0.0,0.0,1\\n0.291149711,0.0,0.127377998,0.0,0.0,0.0,1\\n0.902278636,0.0,0.102879228,0.0,0.0,0.0,1\\n0.000558659,0.0,0.094413408,0.0,0.0,0.0,1\\n1.954776665,12.935145446,0.020664441,0.0,0.0,0.0,1\\n2.836879433,0.0,0.166272656,0.0,0.0,0.0,1\\n1.765465465,0.0,0.221021021,0.077177177,0.0,0.0,1\\n3.856391115,0.001529707,0.10402007,0.0,0.0,0.0,1\\n3.52862254,0.0,0.154541841,0.0,0.0,0.0,1\\n1.630342605,11.98906038,0.136391904,0.0,0.0,0.0,1\\n6.814814815,0.0,0.086140439,0.0,0.0,0.0,1\\n7.385644191,0.0,0.11119025,0.0,0.0,0.0,1\\n1.684732624,1.178557351,0.141242938,0.0,0.0,0.0,1\\n1.587927248,0.0,0.270285489,0.0,0.0,0.0,1\\n9.431089476,0.0,0.148923638,0.0,0.0,0.0,1\\n3.25017819,0.0,0.334348474,0.0,0.0,0.0,1\\n0.752833109,10.047759306,1.163529862,0.0,0.0,0.0,1\\n0.0,0.017687075,0.18877551,0.0,0.0,0.0,1\\n0.0,0.0,0.103598232,0.0,0.0,0.0,1\\n0.0,0.0,1.157139824,0.0,0.0,0.0,1\\n0.0,0.0,0.021648145,0.0,0.0,0.0,1\\n0.0,0.0,0.079567656,0.0,0.0,0.0,1\\n6.485411788,0.0,0.171984778,0.0,0.0,0.0,1\\n0.0,0.0,0.161636882,0.0,0.0,0.0,1\\n4.264975221,0.0,0.329939668,0.0,0.0,0.0,1\\n1.429133481,0.0,0.034558659,0.0,0.0,0.0,1\\n0.853902001,13.744247745,0.161778023,0.0,0.0,0.0,1\\n'"
            ],
            "application/vnd.google.colaboratory.intrinsic+json": {
              "type": "string"
            }
          },
          "metadata": {},
          "execution_count": 24
        }
      ]
    },
    {
      "cell_type": "code",
      "source": [
        "with open('features.csv', 'w') as file:\n",
        "  for linha in export:\n",
        "    file.write(linha)\n",
        "file.closed"
      ],
      "metadata": {
        "id": "z9GeboEfr6XT",
        "outputId": "240d1147-6737-4e8f-cb31-c8ae53f348a4",
        "colab": {
          "base_uri": "https://localhost:8080/"
        }
      },
      "execution_count": 25,
      "outputs": [
        {
          "output_type": "execute_result",
          "data": {
            "text/plain": [
              "True"
            ]
          },
          "metadata": {},
          "execution_count": 25
        }
      ]
    },
    {
      "cell_type": "code",
      "source": [
        "dataset = pd.read_csv('features.csv')\n",
        "dataset"
      ],
      "metadata": {
        "id": "tALMloRTOEq5",
        "colab": {
          "base_uri": "https://localhost:8080/",
          "height": 424
        },
        "outputId": "6b240682-9723-44af-f18c-a084a4b025f7"
      },
      "execution_count": 26,
      "outputs": [
        {
          "output_type": "execute_result",
          "data": {
            "text/plain": [
              "         boca      calca    sapato    camisa     calcao  tenis  classe\n",
              "0    0.000000   0.000000  0.114799  6.886102   6.990409    0.0       0\n",
              "1    0.000000   0.000000  0.110078  5.004901   6.367777    0.0       0\n",
              "2    0.000000   0.000000  0.182519  5.264620  10.059366    0.0       0\n",
              "3    0.000000   0.480168  0.080028  0.000000   0.000000    0.0       0\n",
              "4    0.000000   0.000000  0.029708  8.978929   6.918239    0.0       0\n",
              "..        ...        ...       ...       ...        ...    ...     ...\n",
              "264  6.485412   0.000000  0.171985  0.000000   0.000000    0.0       1\n",
              "265  0.000000   0.000000  0.161637  0.000000   0.000000    0.0       1\n",
              "266  4.264975   0.000000  0.329940  0.000000   0.000000    0.0       1\n",
              "267  1.429133   0.000000  0.034559  0.000000   0.000000    0.0       1\n",
              "268  0.853902  13.744248  0.161778  0.000000   0.000000    0.0       1\n",
              "\n",
              "[269 rows x 7 columns]"
            ],
            "text/html": [
              "\n",
              "  <div id=\"df-00250c45-f62c-4666-a28a-c5297b6e622d\">\n",
              "    <div class=\"colab-df-container\">\n",
              "      <div>\n",
              "<style scoped>\n",
              "    .dataframe tbody tr th:only-of-type {\n",
              "        vertical-align: middle;\n",
              "    }\n",
              "\n",
              "    .dataframe tbody tr th {\n",
              "        vertical-align: top;\n",
              "    }\n",
              "\n",
              "    .dataframe thead th {\n",
              "        text-align: right;\n",
              "    }\n",
              "</style>\n",
              "<table border=\"1\" class=\"dataframe\">\n",
              "  <thead>\n",
              "    <tr style=\"text-align: right;\">\n",
              "      <th></th>\n",
              "      <th>boca</th>\n",
              "      <th>calca</th>\n",
              "      <th>sapato</th>\n",
              "      <th>camisa</th>\n",
              "      <th>calcao</th>\n",
              "      <th>tenis</th>\n",
              "      <th>classe</th>\n",
              "    </tr>\n",
              "  </thead>\n",
              "  <tbody>\n",
              "    <tr>\n",
              "      <th>0</th>\n",
              "      <td>0.000000</td>\n",
              "      <td>0.000000</td>\n",
              "      <td>0.114799</td>\n",
              "      <td>6.886102</td>\n",
              "      <td>6.990409</td>\n",
              "      <td>0.0</td>\n",
              "      <td>0</td>\n",
              "    </tr>\n",
              "    <tr>\n",
              "      <th>1</th>\n",
              "      <td>0.000000</td>\n",
              "      <td>0.000000</td>\n",
              "      <td>0.110078</td>\n",
              "      <td>5.004901</td>\n",
              "      <td>6.367777</td>\n",
              "      <td>0.0</td>\n",
              "      <td>0</td>\n",
              "    </tr>\n",
              "    <tr>\n",
              "      <th>2</th>\n",
              "      <td>0.000000</td>\n",
              "      <td>0.000000</td>\n",
              "      <td>0.182519</td>\n",
              "      <td>5.264620</td>\n",
              "      <td>10.059366</td>\n",
              "      <td>0.0</td>\n",
              "      <td>0</td>\n",
              "    </tr>\n",
              "    <tr>\n",
              "      <th>3</th>\n",
              "      <td>0.000000</td>\n",
              "      <td>0.480168</td>\n",
              "      <td>0.080028</td>\n",
              "      <td>0.000000</td>\n",
              "      <td>0.000000</td>\n",
              "      <td>0.0</td>\n",
              "      <td>0</td>\n",
              "    </tr>\n",
              "    <tr>\n",
              "      <th>4</th>\n",
              "      <td>0.000000</td>\n",
              "      <td>0.000000</td>\n",
              "      <td>0.029708</td>\n",
              "      <td>8.978929</td>\n",
              "      <td>6.918239</td>\n",
              "      <td>0.0</td>\n",
              "      <td>0</td>\n",
              "    </tr>\n",
              "    <tr>\n",
              "      <th>...</th>\n",
              "      <td>...</td>\n",
              "      <td>...</td>\n",
              "      <td>...</td>\n",
              "      <td>...</td>\n",
              "      <td>...</td>\n",
              "      <td>...</td>\n",
              "      <td>...</td>\n",
              "    </tr>\n",
              "    <tr>\n",
              "      <th>264</th>\n",
              "      <td>6.485412</td>\n",
              "      <td>0.000000</td>\n",
              "      <td>0.171985</td>\n",
              "      <td>0.000000</td>\n",
              "      <td>0.000000</td>\n",
              "      <td>0.0</td>\n",
              "      <td>1</td>\n",
              "    </tr>\n",
              "    <tr>\n",
              "      <th>265</th>\n",
              "      <td>0.000000</td>\n",
              "      <td>0.000000</td>\n",
              "      <td>0.161637</td>\n",
              "      <td>0.000000</td>\n",
              "      <td>0.000000</td>\n",
              "      <td>0.0</td>\n",
              "      <td>1</td>\n",
              "    </tr>\n",
              "    <tr>\n",
              "      <th>266</th>\n",
              "      <td>4.264975</td>\n",
              "      <td>0.000000</td>\n",
              "      <td>0.329940</td>\n",
              "      <td>0.000000</td>\n",
              "      <td>0.000000</td>\n",
              "      <td>0.0</td>\n",
              "      <td>1</td>\n",
              "    </tr>\n",
              "    <tr>\n",
              "      <th>267</th>\n",
              "      <td>1.429133</td>\n",
              "      <td>0.000000</td>\n",
              "      <td>0.034559</td>\n",
              "      <td>0.000000</td>\n",
              "      <td>0.000000</td>\n",
              "      <td>0.0</td>\n",
              "      <td>1</td>\n",
              "    </tr>\n",
              "    <tr>\n",
              "      <th>268</th>\n",
              "      <td>0.853902</td>\n",
              "      <td>13.744248</td>\n",
              "      <td>0.161778</td>\n",
              "      <td>0.000000</td>\n",
              "      <td>0.000000</td>\n",
              "      <td>0.0</td>\n",
              "      <td>1</td>\n",
              "    </tr>\n",
              "  </tbody>\n",
              "</table>\n",
              "<p>269 rows × 7 columns</p>\n",
              "</div>\n",
              "      <button class=\"colab-df-convert\" onclick=\"convertToInteractive('df-00250c45-f62c-4666-a28a-c5297b6e622d')\"\n",
              "              title=\"Convert this dataframe to an interactive table.\"\n",
              "              style=\"display:none;\">\n",
              "        \n",
              "  <svg xmlns=\"http://www.w3.org/2000/svg\" height=\"24px\"viewBox=\"0 0 24 24\"\n",
              "       width=\"24px\">\n",
              "    <path d=\"M0 0h24v24H0V0z\" fill=\"none\"/>\n",
              "    <path d=\"M18.56 5.44l.94 2.06.94-2.06 2.06-.94-2.06-.94-.94-2.06-.94 2.06-2.06.94zm-11 1L8.5 8.5l.94-2.06 2.06-.94-2.06-.94L8.5 2.5l-.94 2.06-2.06.94zm10 10l.94 2.06.94-2.06 2.06-.94-2.06-.94-.94-2.06-.94 2.06-2.06.94z\"/><path d=\"M17.41 7.96l-1.37-1.37c-.4-.4-.92-.59-1.43-.59-.52 0-1.04.2-1.43.59L10.3 9.45l-7.72 7.72c-.78.78-.78 2.05 0 2.83L4 21.41c.39.39.9.59 1.41.59.51 0 1.02-.2 1.41-.59l7.78-7.78 2.81-2.81c.8-.78.8-2.07 0-2.86zM5.41 20L4 18.59l7.72-7.72 1.47 1.35L5.41 20z\"/>\n",
              "  </svg>\n",
              "      </button>\n",
              "      \n",
              "  <style>\n",
              "    .colab-df-container {\n",
              "      display:flex;\n",
              "      flex-wrap:wrap;\n",
              "      gap: 12px;\n",
              "    }\n",
              "\n",
              "    .colab-df-convert {\n",
              "      background-color: #E8F0FE;\n",
              "      border: none;\n",
              "      border-radius: 50%;\n",
              "      cursor: pointer;\n",
              "      display: none;\n",
              "      fill: #1967D2;\n",
              "      height: 32px;\n",
              "      padding: 0 0 0 0;\n",
              "      width: 32px;\n",
              "    }\n",
              "\n",
              "    .colab-df-convert:hover {\n",
              "      background-color: #E2EBFA;\n",
              "      box-shadow: 0px 1px 2px rgba(60, 64, 67, 0.3), 0px 1px 3px 1px rgba(60, 64, 67, 0.15);\n",
              "      fill: #174EA6;\n",
              "    }\n",
              "\n",
              "    [theme=dark] .colab-df-convert {\n",
              "      background-color: #3B4455;\n",
              "      fill: #D2E3FC;\n",
              "    }\n",
              "\n",
              "    [theme=dark] .colab-df-convert:hover {\n",
              "      background-color: #434B5C;\n",
              "      box-shadow: 0px 1px 3px 1px rgba(0, 0, 0, 0.15);\n",
              "      filter: drop-shadow(0px 1px 2px rgba(0, 0, 0, 0.3));\n",
              "      fill: #FFFFFF;\n",
              "    }\n",
              "  </style>\n",
              "\n",
              "      <script>\n",
              "        const buttonEl =\n",
              "          document.querySelector('#df-00250c45-f62c-4666-a28a-c5297b6e622d button.colab-df-convert');\n",
              "        buttonEl.style.display =\n",
              "          google.colab.kernel.accessAllowed ? 'block' : 'none';\n",
              "\n",
              "        async function convertToInteractive(key) {\n",
              "          const element = document.querySelector('#df-00250c45-f62c-4666-a28a-c5297b6e622d');\n",
              "          const dataTable =\n",
              "            await google.colab.kernel.invokeFunction('convertToInteractive',\n",
              "                                                     [key], {});\n",
              "          if (!dataTable) return;\n",
              "\n",
              "          const docLinkHtml = 'Like what you see? Visit the ' +\n",
              "            '<a target=\"_blank\" href=https://colab.research.google.com/notebooks/data_table.ipynb>data table notebook</a>'\n",
              "            + ' to learn more about interactive tables.';\n",
              "          element.innerHTML = '';\n",
              "          dataTable['output_type'] = 'display_data';\n",
              "          await google.colab.output.renderOutput(dataTable, element);\n",
              "          const docLink = document.createElement('div');\n",
              "          docLink.innerHTML = docLinkHtml;\n",
              "          element.appendChild(docLink);\n",
              "        }\n",
              "      </script>\n",
              "    </div>\n",
              "  </div>\n",
              "  "
            ]
          },
          "metadata": {},
          "execution_count": 26
        }
      ]
    },
    {
      "cell_type": "markdown",
      "source": [
        "## Base de dados de treinamento e teste"
      ],
      "metadata": {
        "id": "xM0fYobQte4v"
      }
    },
    {
      "cell_type": "code",
      "source": [
        "X = dataset.iloc[:, 0:6].values\n",
        "X"
      ],
      "metadata": {
        "id": "jDDR-7DKsRLf",
        "outputId": "a6acc105-e2a9-4bc8-94c8-3270d680387b",
        "colab": {
          "base_uri": "https://localhost:8080/"
        }
      },
      "execution_count": 28,
      "outputs": [
        {
          "output_type": "execute_result",
          "data": {
            "text/plain": [
              "array([[ 0.        ,  0.        ,  0.11479923,  6.88610189,  6.99040871,\n",
              "         0.        ],\n",
              "       [ 0.        ,  0.        ,  0.11007847,  5.00490111,  6.36777741,\n",
              "         0.        ],\n",
              "       [ 0.        ,  0.        ,  0.18251863,  5.26462044, 10.05936592,\n",
              "         0.        ],\n",
              "       ...,\n",
              "       [ 4.26497522,  0.        ,  0.32993967,  0.        ,  0.        ,\n",
              "         0.        ],\n",
              "       [ 1.42913348,  0.        ,  0.03455866,  0.        ,  0.        ,\n",
              "         0.        ],\n",
              "       [ 0.853902  , 13.74424774,  0.16177802,  0.        ,  0.        ,\n",
              "         0.        ]])"
            ]
          },
          "metadata": {},
          "execution_count": 28
        }
      ]
    },
    {
      "cell_type": "code",
      "source": [
        "y = dataset.iloc[:, 6].values\n",
        "y"
      ],
      "metadata": {
        "id": "Cwo9qzN3tvfZ",
        "outputId": "45c2213e-b121-4d6b-eccd-e7333306ece4",
        "colab": {
          "base_uri": "https://localhost:8080/"
        }
      },
      "execution_count": 29,
      "outputs": [
        {
          "output_type": "execute_result",
          "data": {
            "text/plain": [
              "array([0, 0, 0, 0, 0, 0, 0, 0, 0, 0, 0, 0, 0, 0, 0, 0, 0, 0, 0, 0, 0, 0,\n",
              "       0, 0, 0, 0, 0, 0, 0, 0, 0, 0, 0, 0, 0, 0, 0, 0, 0, 0, 0, 0, 0, 0,\n",
              "       0, 0, 0, 0, 0, 0, 0, 0, 0, 0, 0, 0, 0, 0, 0, 0, 0, 0, 0, 0, 0, 0,\n",
              "       0, 0, 0, 0, 0, 0, 0, 0, 0, 0, 0, 0, 0, 0, 0, 0, 0, 0, 0, 0, 0, 0,\n",
              "       0, 0, 0, 0, 0, 0, 0, 0, 0, 0, 0, 0, 0, 0, 0, 0, 0, 0, 0, 0, 0, 0,\n",
              "       0, 0, 0, 0, 0, 0, 0, 0, 0, 0, 0, 0, 0, 0, 0, 0, 0, 0, 0, 0, 0, 0,\n",
              "       0, 0, 0, 0, 0, 0, 0, 0, 0, 0, 0, 0, 0, 0, 0, 0, 0, 0, 0, 0, 0, 0,\n",
              "       0, 0, 0, 0, 0, 0, 1, 1, 1, 1, 1, 1, 1, 1, 1, 1, 1, 1, 1, 1, 1, 1,\n",
              "       1, 1, 1, 1, 1, 1, 1, 1, 1, 1, 1, 1, 1, 1, 1, 1, 1, 1, 1, 1, 1, 1,\n",
              "       1, 1, 1, 1, 1, 1, 1, 1, 1, 1, 1, 1, 1, 1, 1, 1, 1, 1, 1, 1, 1, 1,\n",
              "       1, 1, 1, 1, 1, 1, 1, 1, 1, 1, 1, 1, 1, 1, 1, 1, 1, 1, 1, 1, 1, 1,\n",
              "       1, 1, 1, 1, 1, 1, 1, 1, 1, 1, 1, 1, 1, 1, 1, 1, 1, 1, 1, 1, 1, 1,\n",
              "       1, 1, 1, 1, 1])"
            ]
          },
          "metadata": {},
          "execution_count": 29
        }
      ]
    },
    {
      "cell_type": "code",
      "source": [
        "from sklearn.model_selection import train_test_split\n",
        "X_treinamento, X_teste, y_treinamento, y_teste = train_test_split(X, y, test_size = 0.2, random_state=1)"
      ],
      "metadata": {
        "id": "Q2SMRBpit0T3"
      },
      "execution_count": 30,
      "outputs": []
    },
    {
      "cell_type": "code",
      "source": [
        "X_treinamento.shape, y_treinamento.shape"
      ],
      "metadata": {
        "id": "rROoHAEZuIz_",
        "outputId": "6f65ac66-849c-40cc-caf7-70f541d25429",
        "colab": {
          "base_uri": "https://localhost:8080/"
        }
      },
      "execution_count": 32,
      "outputs": [
        {
          "output_type": "execute_result",
          "data": {
            "text/plain": [
              "((215, 6), (215,))"
            ]
          },
          "metadata": {},
          "execution_count": 32
        }
      ]
    },
    {
      "cell_type": "code",
      "source": [
        "X_teste.shape, y_teste.shape"
      ],
      "metadata": {
        "id": "GSHqS7XkuKLs",
        "outputId": "37d08210-2829-4ceb-89b8-c19ac45f2d49",
        "colab": {
          "base_uri": "https://localhost:8080/"
        }
      },
      "execution_count": 33,
      "outputs": [
        {
          "output_type": "execute_result",
          "data": {
            "text/plain": [
              "((54, 6), (54,))"
            ]
          },
          "metadata": {},
          "execution_count": 33
        }
      ]
    },
    {
      "cell_type": "markdown",
      "source": [
        "## Construção e treinamento da rede neural"
      ],
      "metadata": {
        "id": "vV1NSiEkuasv"
      }
    },
    {
      "cell_type": "code",
      "source": [
        "(6 + 2) / 2"
      ],
      "metadata": {
        "id": "3bTOs8nKuy0W",
        "outputId": "3732f9ad-0f5b-42b4-93e7-b4fdfe7f87f5",
        "colab": {
          "base_uri": "https://localhost:8080/"
        }
      },
      "execution_count": 34,
      "outputs": [
        {
          "output_type": "execute_result",
          "data": {
            "text/plain": [
              "4.0"
            ]
          },
          "metadata": {},
          "execution_count": 34
        }
      ]
    },
    {
      "cell_type": "code",
      "source": [
        "network2 = tf.keras.Sequential()\n",
        "# 6 -> 4 -> 4 -> 4 -> 1\n",
        "#neuronios na 1° camada oculta = 4\n",
        "network2.add(tf.keras.layers.Dense(input_shape=(6,), units = 4, activation='relu'))\n",
        "network2.add(tf.keras.layers.Dense(units=4, activation='relu')) #2° camada oculta\n",
        "network2.add(tf.keras.layers.Dense(units=4, activation='relu')) #3° camada oculta\n",
        "network2.add(tf.keras.layers.Dense(units=1, activation='sigmoid')) # camada de saída\n"
      ],
      "metadata": {
        "id": "EHXaTJXEuPz2"
      },
      "execution_count": 35,
      "outputs": []
    },
    {
      "cell_type": "code",
      "source": [
        "network2.summary()"
      ],
      "metadata": {
        "id": "YZai9LSLvWq6",
        "outputId": "aa083983-aa47-4b49-faf9-2d6ddb73c6c8",
        "colab": {
          "base_uri": "https://localhost:8080/"
        }
      },
      "execution_count": 36,
      "outputs": [
        {
          "output_type": "stream",
          "name": "stdout",
          "text": [
            "Model: \"sequential\"\n",
            "_________________________________________________________________\n",
            " Layer (type)                Output Shape              Param #   \n",
            "=================================================================\n",
            " dense (Dense)               (None, 4)                 28        \n",
            "                                                                 \n",
            " dense_1 (Dense)             (None, 4)                 20        \n",
            "                                                                 \n",
            " dense_2 (Dense)             (None, 4)                 20        \n",
            "                                                                 \n",
            " dense_3 (Dense)             (None, 1)                 5         \n",
            "                                                                 \n",
            "=================================================================\n",
            "Total params: 73\n",
            "Trainable params: 73\n",
            "Non-trainable params: 0\n",
            "_________________________________________________________________\n"
          ]
        }
      ]
    },
    {
      "cell_type": "code",
      "source": [
        "network2.compile(optimizer='Adam', loss='binary_crossentropy', metrics=['accuracy'])"
      ],
      "metadata": {
        "id": "EtV7_m80vX-_"
      },
      "execution_count": 37,
      "outputs": []
    },
    {
      "cell_type": "code",
      "source": [
        "historico = network2.fit(X_treinamento, y_treinamento, epochs=50)"
      ],
      "metadata": {
        "id": "DLf7-Gravjam",
        "outputId": "fa93088a-164d-4776-fedf-babb980668e3",
        "colab": {
          "base_uri": "https://localhost:8080/"
        }
      },
      "execution_count": 38,
      "outputs": [
        {
          "output_type": "stream",
          "name": "stdout",
          "text": [
            "Epoch 1/50\n",
            "7/7 [==============================] - 1s 3ms/step - loss: 0.7227 - accuracy: 0.6884\n",
            "Epoch 2/50\n",
            "7/7 [==============================] - 0s 2ms/step - loss: 0.6921 - accuracy: 0.7349\n",
            "Epoch 3/50\n",
            "7/7 [==============================] - 0s 2ms/step - loss: 0.6619 - accuracy: 0.7535\n",
            "Epoch 4/50\n",
            "7/7 [==============================] - 0s 2ms/step - loss: 0.6302 - accuracy: 0.7535\n",
            "Epoch 5/50\n",
            "7/7 [==============================] - 0s 3ms/step - loss: 0.6022 - accuracy: 0.7535\n",
            "Epoch 6/50\n",
            "7/7 [==============================] - 0s 2ms/step - loss: 0.5723 - accuracy: 0.7488\n",
            "Epoch 7/50\n",
            "7/7 [==============================] - 0s 2ms/step - loss: 0.5423 - accuracy: 0.7535\n",
            "Epoch 8/50\n",
            "7/7 [==============================] - 0s 2ms/step - loss: 0.5087 - accuracy: 0.7488\n",
            "Epoch 9/50\n",
            "7/7 [==============================] - 0s 3ms/step - loss: 0.4808 - accuracy: 0.7535\n",
            "Epoch 10/50\n",
            "7/7 [==============================] - 0s 2ms/step - loss: 0.4562 - accuracy: 0.7535\n",
            "Epoch 11/50\n",
            "7/7 [==============================] - 0s 3ms/step - loss: 0.4307 - accuracy: 0.7581\n",
            "Epoch 12/50\n",
            "7/7 [==============================] - 0s 2ms/step - loss: 0.4108 - accuracy: 0.7907\n",
            "Epoch 13/50\n",
            "7/7 [==============================] - 0s 2ms/step - loss: 0.3934 - accuracy: 0.8186\n",
            "Epoch 14/50\n",
            "7/7 [==============================] - 0s 2ms/step - loss: 0.3761 - accuracy: 0.8419\n",
            "Epoch 15/50\n",
            "7/7 [==============================] - 0s 3ms/step - loss: 0.3641 - accuracy: 0.8512\n",
            "Epoch 16/50\n",
            "7/7 [==============================] - 0s 3ms/step - loss: 0.3543 - accuracy: 0.8558\n",
            "Epoch 17/50\n",
            "7/7 [==============================] - 0s 3ms/step - loss: 0.3463 - accuracy: 0.8558\n",
            "Epoch 18/50\n",
            "7/7 [==============================] - 0s 2ms/step - loss: 0.3400 - accuracy: 0.8558\n",
            "Epoch 19/50\n",
            "7/7 [==============================] - 0s 2ms/step - loss: 0.3347 - accuracy: 0.8558\n",
            "Epoch 20/50\n",
            "7/7 [==============================] - 0s 2ms/step - loss: 0.3298 - accuracy: 0.8605\n",
            "Epoch 21/50\n",
            "7/7 [==============================] - 0s 2ms/step - loss: 0.3255 - accuracy: 0.8651\n",
            "Epoch 22/50\n",
            "7/7 [==============================] - 0s 2ms/step - loss: 0.3214 - accuracy: 0.8651\n",
            "Epoch 23/50\n",
            "7/7 [==============================] - 0s 2ms/step - loss: 0.3177 - accuracy: 0.8651\n",
            "Epoch 24/50\n",
            "7/7 [==============================] - 0s 3ms/step - loss: 0.3141 - accuracy: 0.8651\n",
            "Epoch 25/50\n",
            "7/7 [==============================] - 0s 2ms/step - loss: 0.3104 - accuracy: 0.8651\n",
            "Epoch 26/50\n",
            "7/7 [==============================] - 0s 3ms/step - loss: 0.3065 - accuracy: 0.8651\n",
            "Epoch 27/50\n",
            "7/7 [==============================] - 0s 2ms/step - loss: 0.3033 - accuracy: 0.8651\n",
            "Epoch 28/50\n",
            "7/7 [==============================] - 0s 3ms/step - loss: 0.2995 - accuracy: 0.8651\n",
            "Epoch 29/50\n",
            "7/7 [==============================] - 0s 2ms/step - loss: 0.2964 - accuracy: 0.8651\n",
            "Epoch 30/50\n",
            "7/7 [==============================] - 0s 2ms/step - loss: 0.2929 - accuracy: 0.8698\n",
            "Epoch 31/50\n",
            "7/7 [==============================] - 0s 3ms/step - loss: 0.2891 - accuracy: 0.9023\n",
            "Epoch 32/50\n",
            "7/7 [==============================] - 0s 2ms/step - loss: 0.2858 - accuracy: 0.9163\n",
            "Epoch 33/50\n",
            "7/7 [==============================] - 0s 2ms/step - loss: 0.2827 - accuracy: 0.9163\n",
            "Epoch 34/50\n",
            "7/7 [==============================] - 0s 2ms/step - loss: 0.2796 - accuracy: 0.9163\n",
            "Epoch 35/50\n",
            "7/7 [==============================] - 0s 2ms/step - loss: 0.2768 - accuracy: 0.9116\n",
            "Epoch 36/50\n",
            "7/7 [==============================] - 0s 2ms/step - loss: 0.2740 - accuracy: 0.9116\n",
            "Epoch 37/50\n",
            "7/7 [==============================] - 0s 2ms/step - loss: 0.2712 - accuracy: 0.9116\n",
            "Epoch 38/50\n",
            "7/7 [==============================] - 0s 2ms/step - loss: 0.2686 - accuracy: 0.9116\n",
            "Epoch 39/50\n",
            "7/7 [==============================] - 0s 2ms/step - loss: 0.2661 - accuracy: 0.9116\n",
            "Epoch 40/50\n",
            "7/7 [==============================] - 0s 2ms/step - loss: 0.2636 - accuracy: 0.9116\n",
            "Epoch 41/50\n",
            "7/7 [==============================] - 0s 3ms/step - loss: 0.2610 - accuracy: 0.9116\n",
            "Epoch 42/50\n",
            "7/7 [==============================] - 0s 2ms/step - loss: 0.2587 - accuracy: 0.9116\n",
            "Epoch 43/50\n",
            "7/7 [==============================] - 0s 3ms/step - loss: 0.2563 - accuracy: 0.9116\n",
            "Epoch 44/50\n",
            "7/7 [==============================] - 0s 3ms/step - loss: 0.2541 - accuracy: 0.9116\n",
            "Epoch 45/50\n",
            "7/7 [==============================] - 0s 4ms/step - loss: 0.2518 - accuracy: 0.9116\n",
            "Epoch 46/50\n",
            "7/7 [==============================] - 0s 4ms/step - loss: 0.2498 - accuracy: 0.9116\n",
            "Epoch 47/50\n",
            "7/7 [==============================] - 0s 4ms/step - loss: 0.2478 - accuracy: 0.9163\n",
            "Epoch 48/50\n",
            "7/7 [==============================] - 0s 3ms/step - loss: 0.2455 - accuracy: 0.9116\n",
            "Epoch 49/50\n",
            "7/7 [==============================] - 0s 3ms/step - loss: 0.2438 - accuracy: 0.9116\n",
            "Epoch 50/50\n",
            "7/7 [==============================] - 0s 3ms/step - loss: 0.2420 - accuracy: 0.9116\n"
          ]
        }
      ]
    },
    {
      "cell_type": "markdown",
      "source": [
        "## Avaliação da rede neural"
      ],
      "metadata": {
        "id": "guef_4uTx3Ap"
      }
    },
    {
      "cell_type": "code",
      "source": [
        "historico.history.keys()"
      ],
      "metadata": {
        "id": "0r_D_hU7voel",
        "outputId": "d1e08ccc-5309-4381-c6f9-92081db1ba91",
        "colab": {
          "base_uri": "https://localhost:8080/"
        }
      },
      "execution_count": 39,
      "outputs": [
        {
          "output_type": "execute_result",
          "data": {
            "text/plain": [
              "dict_keys(['loss', 'accuracy'])"
            ]
          },
          "metadata": {},
          "execution_count": 39
        }
      ]
    },
    {
      "cell_type": "code",
      "source": [
        "plt.plot(historico.history['loss']);"
      ],
      "metadata": {
        "id": "42HPaFe3x5_x",
        "outputId": "e75c2fc0-2475-4f72-9d2f-f01fb4139c23",
        "colab": {
          "base_uri": "https://localhost:8080/",
          "height": 265
        }
      },
      "execution_count": 40,
      "outputs": [
        {
          "output_type": "display_data",
          "data": {
            "text/plain": [
              "<Figure size 432x288 with 1 Axes>"
            ],
            "image/png": "[encoded data removed]"
          },
          "metadata": {
            "needs_background": "light"
          }
        }
      ]
    },
    {
      "cell_type": "code",
      "source": [
        "plt.plot(historico.history['accuracy']);"
      ],
      "metadata": {
        "id": "xfQB0wV5yAa_",
        "outputId": "9cb2a484-54d4-47fc-a64f-5959096eb070",
        "colab": {
          "base_uri": "https://localhost:8080/",
          "height": 265
        }
      },
      "execution_count": 41,
      "outputs": [
        {
          "output_type": "display_data",
          "data": {
            "text/plain": [
              "<Figure size 432x288 with 1 Axes>"
            ],
            "image/png": "[encoded data removed]"
          },
          "metadata": {
            "needs_background": "light"
          }
        }
      ]
    },
    {
      "cell_type": "code",
      "source": [
        "X_teste.shape"
      ],
      "metadata": {
        "id": "5Nk08XY2yhc_",
        "outputId": "e9365398-1de3-42d1-b809-7af64e34909c",
        "colab": {
          "base_uri": "https://localhost:8080/"
        }
      },
      "execution_count": 42,
      "outputs": [
        {
          "output_type": "execute_result",
          "data": {
            "text/plain": [
              "(54, 6)"
            ]
          },
          "metadata": {},
          "execution_count": 42
        }
      ]
    },
    {
      "cell_type": "code",
      "source": [
        "previsoes = network2.predict(X_teste)\n",
        "previsoes"
      ],
      "metadata": {
        "id": "4E8iA5rxyBw1",
        "outputId": "6be10743-18f3-44b2-8fe4-8f3408a93289",
        "colab": {
          "base_uri": "https://localhost:8080/"
        }
      },
      "execution_count": 43,
      "outputs": [
        {
          "output_type": "stream",
          "name": "stdout",
          "text": [
            "2/2 [==============================] - 0s 5ms/step\n"
          ]
        },
        {
          "output_type": "execute_result",
          "data": {
            "text/plain": [
              "array([[9.1792009e-07],\n",
              "       [8.6384410e-01],\n",
              "       [2.3409696e-02],\n",
              "       [4.6713427e-01],\n",
              "       [9.6138641e-03],\n",
              "       [8.9144647e-01],\n",
              "       [4.6735322e-09],\n",
              "       [5.7633468e-03],\n",
              "       [6.3866348e-04],\n",
              "       [1.0607657e-03],\n",
              "       [9.6982226e-02],\n",
              "       [9.8844922e-01],\n",
              "       [6.7487097e-01],\n",
              "       [6.0734578e-07],\n",
              "       [4.6915290e-01],\n",
              "       [9.8545653e-01],\n",
              "       [5.9073472e-01],\n",
              "       [9.1637051e-01],\n",
              "       [1.0966190e-02],\n",
              "       [3.8591661e-02],\n",
              "       [4.2326445e-08],\n",
              "       [9.5240182e-01],\n",
              "       [7.6549804e-01],\n",
              "       [3.6659880e-05],\n",
              "       [4.6024034e-08],\n",
              "       [9.7272474e-01],\n",
              "       [4.7179100e-01],\n",
              "       [1.2828887e-02],\n",
              "       [8.6148179e-01],\n",
              "       [9.9105591e-01],\n",
              "       [7.5544006e-01],\n",
              "       [9.9928349e-01],\n",
              "       [9.8183221e-01],\n",
              "       [4.9029818e-01],\n",
              "       [9.9765623e-01],\n",
              "       [7.5852370e-01],\n",
              "       [8.3108508e-04],\n",
              "       [1.6305915e-03],\n",
              "       [4.6825060e-01],\n",
              "       [2.6527435e-02],\n",
              "       [7.6383770e-01],\n",
              "       [4.7477844e-01],\n",
              "       [2.4870483e-04],\n",
              "       [4.7310110e-05],\n",
              "       [1.2030993e-05],\n",
              "       [9.6622765e-01],\n",
              "       [6.6343331e-01],\n",
              "       [4.6329159e-01],\n",
              "       [2.1106691e-06],\n",
              "       [6.5190130e-01],\n",
              "       [6.7995854e-05],\n",
              "       [7.3945814e-01],\n",
              "       [9.0689701e-01],\n",
              "       [8.5925925e-01]], dtype=float32)"
            ]
          },
          "metadata": {},
          "execution_count": 43
        }
      ]
    },
    {
      "cell_type": "code",
      "source": [
        "previsoes = previsoes > 0.5\n",
        "previsoes"
      ],
      "metadata": {
        "id": "3wDwrADEykQt",
        "outputId": "9f220d44-4f0b-4f57-fd10-67fc12b929e9",
        "colab": {
          "base_uri": "https://localhost:8080/"
        }
      },
      "execution_count": 44,
      "outputs": [
        {
          "output_type": "execute_result",
          "data": {
            "text/plain": [
              "array([[False],\n",
              "       [ True],\n",
              "       [False],\n",
              "       [False],\n",
              "       [False],\n",
              "       [ True],\n",
              "       [False],\n",
              "       [False],\n",
              "       [False],\n",
              "       [False],\n",
              "       [False],\n",
              "       [ True],\n",
              "       [ True],\n",
              "       [False],\n",
              "       [False],\n",
              "       [ True],\n",
              "       [ True],\n",
              "       [ True],\n",
              "       [False],\n",
              "       [False],\n",
              "       [False],\n",
              "       [ True],\n",
              "       [ True],\n",
              "       [False],\n",
              "       [False],\n",
              "       [ True],\n",
              "       [False],\n",
              "       [False],\n",
              "       [ True],\n",
              "       [ True],\n",
              "       [ True],\n",
              "       [ True],\n",
              "       [ True],\n",
              "       [False],\n",
              "       [ True],\n",
              "       [ True],\n",
              "       [False],\n",
              "       [False],\n",
              "       [False],\n",
              "       [False],\n",
              "       [ True],\n",
              "       [False],\n",
              "       [False],\n",
              "       [False],\n",
              "       [False],\n",
              "       [ True],\n",
              "       [ True],\n",
              "       [False],\n",
              "       [False],\n",
              "       [ True],\n",
              "       [False],\n",
              "       [ True],\n",
              "       [ True],\n",
              "       [ True]])"
            ]
          },
          "metadata": {},
          "execution_count": 44
        }
      ]
    },
    {
      "cell_type": "code",
      "source": [
        "y_teste"
      ],
      "metadata": {
        "id": "6DtGRUxjyxYq",
        "outputId": "4c3f6db6-d1cd-477c-d748-f73a3294042d",
        "colab": {
          "base_uri": "https://localhost:8080/"
        }
      },
      "execution_count": 45,
      "outputs": [
        {
          "output_type": "execute_result",
          "data": {
            "text/plain": [
              "array([0, 1, 0, 0, 0, 1, 0, 0, 0, 0, 0, 1, 1, 0, 1, 1, 1, 1, 0, 0, 0, 1,\n",
              "       0, 0, 0, 1, 0, 0, 1, 1, 1, 1, 1, 1, 1, 1, 0, 0, 0, 0, 1, 1, 0, 0,\n",
              "       0, 1, 1, 0, 0, 1, 0, 1, 1, 1])"
            ]
          },
          "metadata": {},
          "execution_count": 45
        }
      ]
    },
    {
      "cell_type": "code",
      "source": [
        "from sklearn.metrics import accuracy_score\n",
        "accuracy_score(y_teste, previsoes)"
      ],
      "metadata": {
        "id": "-_IkqpDny0SI",
        "outputId": "be36b340-5f66-4997-8380-94afb81c8e84",
        "colab": {
          "base_uri": "https://localhost:8080/"
        }
      },
      "execution_count": 46,
      "outputs": [
        {
          "output_type": "execute_result",
          "data": {
            "text/plain": [
              "0.9259259259259259"
            ]
          },
          "metadata": {},
          "execution_count": 46
        }
      ]
    },
    {
      "cell_type": "code",
      "source": [
        "from sklearn.metrics import confusion_matrix\n",
        "cm = confusion_matrix(y_teste, previsoes)\n",
        "cm"
      ],
      "metadata": {
        "id": "pUhbpXCMy80X",
        "outputId": "7a3bdf1e-da11-4a12-9b41-537274eddb91",
        "colab": {
          "base_uri": "https://localhost:8080/"
        }
      },
      "execution_count": 47,
      "outputs": [
        {
          "output_type": "execute_result",
          "data": {
            "text/plain": [
              "array([[27,  1],\n",
              "       [ 3, 23]])"
            ]
          },
          "metadata": {},
          "execution_count": 47
        }
      ]
    },
    {
      "cell_type": "code",
      "source": [
        "sns.heatmap(cm, annot=True) #annot = True para mostrar os números"
      ],
      "metadata": {
        "id": "-MsYCxRxzKIR",
        "outputId": "04b9339e-4d02-4e72-fc6a-000899cb9b98",
        "colab": {
          "base_uri": "https://localhost:8080/",
          "height": 282
        }
      },
      "execution_count": 48,
      "outputs": [
        {
          "output_type": "execute_result",
          "data": {
            "text/plain": [
              "<matplotlib.axes._subplots.AxesSubplot at 0x7fd608bb4c70>"
            ]
          },
          "metadata": {},
          "execution_count": 48
        },
        {
          "output_type": "display_data",
          "data": {
            "text/plain": [
              "<Figure size 432x288 with 2 Axes>"
            ],
            "image/png": "[encoded data removed]"
          },
          "metadata": {
            "needs_background": "light"
          }
        }
      ]
    },
    {
      "cell_type": "code",
      "source": [
        "from sklearn.metrics import classification_report\n",
        "print(classification_report(y_teste, previsoes))"
      ],
      "metadata": {
        "id": "8yhrB3WyzPL9",
        "outputId": "fcb8f9cf-028c-4f9f-d354-075b6397df20",
        "colab": {
          "base_uri": "https://localhost:8080/"
        }
      },
      "execution_count": 50,
      "outputs": [
        {
          "output_type": "stream",
          "name": "stdout",
          "text": [
            "              precision    recall  f1-score   support\n",
            "\n",
            "           0       0.90      0.96      0.93        28\n",
            "           1       0.96      0.88      0.92        26\n",
            "\n",
            "    accuracy                           0.93        54\n",
            "   macro avg       0.93      0.92      0.93        54\n",
            "weighted avg       0.93      0.93      0.93        54\n",
            "\n"
          ]
        }
      ]
    },
    {
      "cell_type": "markdown",
      "source": [
        "## Salvar, carregar e classificar uma única imagem"
      ],
      "metadata": {
        "id": "VC4UKYj30oNv"
      }
    },
    {
      "cell_type": "code",
      "source": [
        "model_json = network2.to_json()\n",
        "with open('network2.json', 'w') as json_file:\n",
        "  json_file.write(model_json)"
      ],
      "metadata": {
        "id": "oav7IA_-zk43"
      },
      "execution_count": 51,
      "outputs": []
    },
    {
      "cell_type": "code",
      "source": [
        "from keras.models import save_model\n",
        "network2_saved = save_model(network2, '/content/weights2.hdf5')\n"
      ],
      "metadata": {
        "id": "SnXFXQow0y8F"
      },
      "execution_count": 52,
      "outputs": []
    },
    {
      "cell_type": "code",
      "source": [
        "with open('network2.json', 'r') as json_file:\n",
        "  json_saved_model = json_file.read()\n",
        "\n",
        "json_saved_model"
      ],
      "metadata": {
        "id": "FQbRzJMt0726",
        "outputId": "7dd8858a-f4d6-4f8a-aab8-0ce232fcf992",
        "colab": {
          "base_uri": "https://localhost:8080/",
          "height": 192
        }
      },
      "execution_count": 53,
      "outputs": [
        {
          "output_type": "execute_result",
          "data": {
            "text/plain": [
              "'{\"class_name\": \"Sequential\", \"config\": {\"name\": \"sequential\", \"layers\": [{\"class_name\": \"InputLayer\", \"config\": {\"batch_input_shape\": [null, 6], \"dtype\": \"float32\", \"sparse\": false, \"ragged\": false, \"name\": \"dense_input\"}}, {\"class_name\": \"Dense\", \"config\": {\"name\": \"dense\", \"trainable\": true, \"batch_input_shape\": [null, 6], \"dtype\": \"float32\", \"units\": 4, \"activation\": \"relu\", \"use_bias\": true, \"kernel_initializer\": {\"class_name\": \"GlorotUniform\", \"config\": {\"seed\": null}}, \"bias_initializer\": {\"class_name\": \"Zeros\", \"config\": {}}, \"kernel_regularizer\": null, \"bias_regularizer\": null, \"activity_regularizer\": null, \"kernel_constraint\": null, \"bias_constraint\": null}}, {\"class_name\": \"Dense\", \"config\": {\"name\": \"dense_1\", \"trainable\": true, \"dtype\": \"float32\", \"units\": 4, \"activation\": \"relu\", \"use_bias\": true, \"kernel_initializer\": {\"class_name\": \"GlorotUniform\", \"config\": {\"seed\": null}}, \"bias_initializer\": {\"class_name\": \"Zeros\", \"config\": {}}, \"kernel_regularizer\": null, \"bias_regularizer\": null, \"activity_regularizer\": null, \"kernel_constraint\": null, \"bias_constraint\": null}}, {\"class_name\": \"Dense\", \"config\": {\"name\": \"dense_2\", \"trainable\": true, \"dtype\": \"float32\", \"units\": 4, \"activation\": \"relu\", \"use_bias\": true, \"kernel_initializer\": {\"class_name\": \"GlorotUniform\", \"config\": {\"seed\": null}}, \"bias_initializer\": {\"class_name\": \"Zeros\", \"config\": {}}, \"kernel_regularizer\": null, \"bias_regularizer\": null, \"activity_regularizer\": null, \"kernel_constraint\": null, \"bias_constraint\": null}}, {\"class_name\": \"Dense\", \"config\": {\"name\": \"dense_3\", \"trainable\": true, \"dtype\": \"float32\", \"units\": 1, \"activation\": \"sigmoid\", \"use_bias\": true, \"kernel_initializer\": {\"class_name\": \"GlorotUniform\", \"config\": {\"seed\": null}}, \"bias_initializer\": {\"class_name\": \"Zeros\", \"config\": {}}, \"kernel_regularizer\": null, \"bias_regularizer\": null, \"activity_regularizer\": null, \"kernel_constraint\": null, \"bias_constraint\": null}}]}, \"keras_version\": \"2.9.0\", \"backend\": \"tensorflow\"}'"
            ],
            "application/vnd.google.colaboratory.intrinsic+json": {
              "type": "string"
            }
          },
          "metadata": {},
          "execution_count": 53
        }
      ]
    },
    {
      "cell_type": "code",
      "source": [
        "network2_loaded = tf.keras.models.model_from_json(json_saved_model)\n",
        "network2_loaded.load_weights('weights2.hdf5')\n",
        "network2_loaded.compile(loss='binary_crossentropy', optimizer='Adam', metrics=['accuracy'])"
      ],
      "metadata": {
        "id": "yuxzZLU_1FCv"
      },
      "execution_count": 54,
      "outputs": []
    },
    {
      "cell_type": "code",
      "source": [
        "network2_loaded.summary()"
      ],
      "metadata": {
        "id": "M4uKtOjT1Ydf",
        "outputId": "d0617e68-3548-4649-d682-9c3c6397dc3b",
        "colab": {
          "base_uri": "https://localhost:8080/"
        }
      },
      "execution_count": 55,
      "outputs": [
        {
          "output_type": "stream",
          "name": "stdout",
          "text": [
            "Model: \"sequential\"\n",
            "_________________________________________________________________\n",
            " Layer (type)                Output Shape              Param #   \n",
            "=================================================================\n",
            " dense (Dense)               (None, 4)                 28        \n",
            "                                                                 \n",
            " dense_1 (Dense)             (None, 4)                 20        \n",
            "                                                                 \n",
            " dense_2 (Dense)             (None, 4)                 20        \n",
            "                                                                 \n",
            " dense_3 (Dense)             (None, 1)                 5         \n",
            "                                                                 \n",
            "=================================================================\n",
            "Total params: 73\n",
            "Trainable params: 73\n",
            "Non-trainable params: 0\n",
            "_________________________________________________________________\n"
          ]
        }
      ]
    },
    {
      "cell_type": "code",
      "source": [
        "imagem_teste = X_teste[0]\n",
        "imagem_teste"
      ],
      "metadata": {
        "id": "WhI3LH3R1byu",
        "outputId": "c74e1031-1e5a-4897-e860-62a8a6bfd03b",
        "colab": {
          "base_uri": "https://localhost:8080/"
        }
      },
      "execution_count": 56,
      "outputs": [
        {
          "output_type": "execute_result",
          "data": {
            "text/plain": [
              "array([3.07645000e-03, 0.00000000e+00, 0.00000000e+00, 6.49515459e+00,\n",
              "       1.11982772e+01, 0.00000000e+00])"
            ]
          },
          "metadata": {},
          "execution_count": 56
        }
      ]
    },
    {
      "cell_type": "code",
      "source": [
        "imagem_teste.shape"
      ],
      "metadata": {
        "id": "QJAl4SlT1zFo",
        "outputId": "31e576ec-9218-4c9e-8d31-a12f4cb4ba46",
        "colab": {
          "base_uri": "https://localhost:8080/"
        }
      },
      "execution_count": 57,
      "outputs": [
        {
          "output_type": "execute_result",
          "data": {
            "text/plain": [
              "(6,)"
            ]
          },
          "metadata": {},
          "execution_count": 57
        }
      ]
    },
    {
      "cell_type": "code",
      "source": [
        "imagem_teste = imagem_teste.reshape(1, -1)\n",
        "imagem_teste.shape"
      ],
      "metadata": {
        "id": "hMCoLZxU12C6",
        "outputId": "ab6bc81c-eec8-4624-83ec-87216734a331",
        "colab": {
          "base_uri": "https://localhost:8080/"
        }
      },
      "execution_count": 59,
      "outputs": [
        {
          "output_type": "execute_result",
          "data": {
            "text/plain": [
              "(1, 6)"
            ]
          },
          "metadata": {},
          "execution_count": 59
        }
      ]
    },
    {
      "cell_type": "code",
      "source": [
        "if network2_loaded.predict(imagem_teste)[0][0] < 0.5:\n",
        "  print('Bart')\n",
        "else:\n",
        "  print('Homer')"
      ],
      "metadata": {
        "id": "YIVcX_ac2PmO",
        "outputId": "9241e155-4057-4c64-c880-c48775b25f88",
        "colab": {
          "base_uri": "https://localhost:8080/"
        }
      },
      "execution_count": 60,
      "outputs": [
        {
          "output_type": "stream",
          "name": "stdout",
          "text": [
            "1/1 [==============================] - 0s 55ms/step\n",
            "Bart\n"
          ]
        }
      ]
    },
    {
      "cell_type": "code",
      "source": [],
      "metadata": {
        "id": "GkOw0Dfh2hpb"
      },
      "execution_count": null,
      "outputs": []
    }
  ]
}