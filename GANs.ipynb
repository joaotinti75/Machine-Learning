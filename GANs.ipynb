{
 "cells": [
  {
   "cell_type": "code",
   "execution_count": 84,
   "id": "ab1f6e97",
   "metadata": {},
   "outputs": [
    {
     "data": {
      "text/plain": [
       "'2.11.0'"
      ]
     },
     "execution_count": 84,
     "metadata": {},
     "output_type": "execute_result"
    }
   ],
   "source": [
    "import matplotlib.pyplot as plt\n",
    "import numpy as np\n",
    "import tensorflow as tf\n",
    "from tensorflow.keras import layers\n",
    "tf.__version__"
   ]
  },
  {
   "cell_type": "markdown",
   "id": "c409fa70",
   "metadata": {},
   "source": [
    "## Carregamento e pré-processamento da base de dados"
   ]
  },
  {
   "cell_type": "code",
   "execution_count": 85,
   "id": "3e99ecb7",
   "metadata": {},
   "outputs": [],
   "source": [
    "(X_treinamento, y_treinamento), (_,_) = tf.keras.datasets.mnist.load_data()\n",
    "# Quando trabalhamos com GANs, o objetivo é apenas gerar novas imagens\n",
    "# Não importando o X e y de teste"
   ]
  },
  {
   "cell_type": "code",
   "execution_count": 86,
   "id": "9454a6ee",
   "metadata": {},
   "outputs": [
    {
     "data": {
      "text/plain": [
       "(60000, 28, 28)"
      ]
     },
     "execution_count": 86,
     "metadata": {},
     "output_type": "execute_result"
    }
   ],
   "source": [
    "X_treinamento.shape #60000 registros com imagens de 28x28 pixels em escala de cinza"
   ]
  },
  {
   "cell_type": "code",
   "execution_count": 87,
   "id": "14a056bc",
   "metadata": {},
   "outputs": [
    {
     "data": {
      "text/plain": [
       "784"
      ]
     },
     "execution_count": 87,
     "metadata": {},
     "output_type": "execute_result"
    }
   ],
   "source": [
    "28 * 28"
   ]
  },
  {
   "cell_type": "code",
   "execution_count": 88,
   "id": "d5511a81",
   "metadata": {},
   "outputs": [
    {
     "data": {
      "text/plain": [
       "(60000,)"
      ]
     },
     "execution_count": 88,
     "metadata": {},
     "output_type": "execute_result"
    }
   ],
   "source": [
    "y_treinamento.shape #contem os digitos de 0 a 9"
   ]
  },
  {
   "cell_type": "code",
   "execution_count": 89,
   "id": "dcf4cf20",
   "metadata": {},
   "outputs": [
    {
     "name": "stdout",
     "output_type": "stream",
     "text": [
      "6\n"
     ]
    },
    {
     "data": {
      "text/plain": [
       "<matplotlib.image.AxesImage at 0x7f1a94d4c490>"
      ]
     },
     "execution_count": 89,
     "metadata": {},
     "output_type": "execute_result"
    },
    {
     "data": {
      "image/png": "[encoded data removed]",
      "text/plain": [
       "<Figure size 640x480 with 1 Axes>"
      ]
     },
     "metadata": {},
     "output_type": "display_data"
    }
   ],
   "source": [
    "i = np.random.randint(0, 60000)\n",
    "print(y_treinamento[i])\n",
    "plt.imshow(X_treinamento[i], cmap='gray')"
   ]
  },
  {
   "cell_type": "code",
   "execution_count": 90,
   "id": "138ef919",
   "metadata": {},
   "outputs": [],
   "source": [
    "#Adicionando mais uma dimensão à imagem indicando o número de canais\n",
    "X_treinamento = X_treinamento.reshape(X_treinamento.shape[0], 28, 28, 1).astype('float32') "
   ]
  },
  {
   "cell_type": "code",
   "execution_count": 91,
   "id": "9530dd9a",
   "metadata": {},
   "outputs": [
    {
     "data": {
      "text/plain": [
       "(60000, 28, 28, 1)"
      ]
     },
     "execution_count": 91,
     "metadata": {},
     "output_type": "execute_result"
    }
   ],
   "source": [
    "X_treinamento.shape"
   ]
  },
  {
   "cell_type": "code",
   "execution_count": 92,
   "id": "7aca4e57",
   "metadata": {},
   "outputs": [
    {
     "data": {
      "text/plain": [
       "(0.0, 255.0)"
      ]
     },
     "execution_count": 92,
     "metadata": {},
     "output_type": "execute_result"
    }
   ],
   "source": [
    "#Exibindo os valores mínimos e máximos da primeira imagem \n",
    "X_treinamento[0].min(), X_treinamento[0].max()"
   ]
  },
  {
   "cell_type": "code",
   "execution_count": 93,
   "id": "30c6c17a",
   "metadata": {},
   "outputs": [],
   "source": [
    "# Se tratando de normalização em GANs, recomenda-se que os valores estejam entre -1 e 1\n",
    "# Pois os resultados tendem a ser melhores\n",
    "X_treinamento = (X_treinamento - 127.5) / 127.5"
   ]
  },
  {
   "cell_type": "code",
   "execution_count": 94,
   "id": "4ef8381b",
   "metadata": {},
   "outputs": [
    {
     "data": {
      "text/plain": [
       "(-1.0, 1.0)"
      ]
     },
     "execution_count": 94,
     "metadata": {},
     "output_type": "execute_result"
    }
   ],
   "source": [
    "X_treinamento[0].min(), X_treinamento[0].max()"
   ]
  },
  {
   "cell_type": "code",
   "execution_count": 95,
   "id": "89100312",
   "metadata": {},
   "outputs": [],
   "source": [
    "buffer_size = 60000\n",
    "batch_size = 256 #mini batch gradient descent"
   ]
  },
  {
   "cell_type": "code",
   "execution_count": 96,
   "id": "3617af0a",
   "metadata": {},
   "outputs": [
    {
     "data": {
      "text/plain": [
       "234.375"
      ]
     },
     "execution_count": 96,
     "metadata": {},
     "output_type": "execute_result"
    }
   ],
   "source": [
    "buffer_size / batch_size "
   ]
  },
  {
   "cell_type": "code",
   "execution_count": 97,
   "id": "34fde6de",
   "metadata": {},
   "outputs": [
    {
     "data": {
      "text/plain": [
       "numpy.ndarray"
      ]
     },
     "execution_count": 97,
     "metadata": {},
     "output_type": "execute_result"
    }
   ],
   "source": [
    "type(X_treinamento)"
   ]
  },
  {
   "cell_type": "code",
   "execution_count": 98,
   "id": "6c5e5ed5",
   "metadata": {},
   "outputs": [
    {
     "name": "stderr",
     "output_type": "stream",
     "text": [
      "2023-02-17 20:15:13.656911: W tensorflow/tsl/framework/cpu_allocator_impl.cc:82] Allocation of 188160000 exceeds 10% of free system memory.\n"
     ]
    }
   ],
   "source": [
    "#Convertendo o numpy array para uma variável no formato do tensorflow\n",
    "X_treinamento = tf.data.Dataset.from_tensor_slices(X_treinamento).shuffle(buffer_size).batch(batch_size)"
   ]
  },
  {
   "cell_type": "code",
   "execution_count": 99,
   "id": "2f310cb7",
   "metadata": {},
   "outputs": [
    {
     "data": {
      "text/plain": [
       "tensorflow.python.data.ops.dataset_ops.BatchDataset"
      ]
     },
     "execution_count": 99,
     "metadata": {},
     "output_type": "execute_result"
    }
   ],
   "source": [
    "type(X_treinamento)"
   ]
  },
  {
   "cell_type": "code",
   "execution_count": 100,
   "id": "8ec12e6a",
   "metadata": {},
   "outputs": [
    {
     "data": {
      "text/plain": [
       "<BatchDataset element_spec=TensorSpec(shape=(None, 28, 28, 1), dtype=tf.float32, name=None)>"
      ]
     },
     "execution_count": 100,
     "metadata": {},
     "output_type": "execute_result"
    }
   ],
   "source": [
    "X_treinamento"
   ]
  },
  {
   "cell_type": "markdown",
   "id": "4a3435a0",
   "metadata": {},
   "source": [
    "## Construção do gerador"
   ]
  },
  {
   "cell_type": "code",
   "execution_count": 101,
   "id": "d6098666",
   "metadata": {},
   "outputs": [
    {
     "data": {
      "text/plain": [
       "12544"
      ]
     },
     "execution_count": 101,
     "metadata": {},
     "output_type": "execute_result"
    }
   ],
   "source": [
    "7*7*256 #número de neurônios na primeira camada oculta"
   ]
  },
  {
   "cell_type": "code",
   "execution_count": 102,
   "id": "6ab9dda5",
   "metadata": {},
   "outputs": [],
   "source": [
    "# Gerador recebe uma quantidade finita de numeros aleatórios, e no final gera uma imagem\n",
    "# neurônios de entrada = 100 pois a rede receberá 100 números aleatórios\n",
    "# 100 -> 12544\n",
    "# Valores definidos de acordo com a documentação do Tensorflow\n",
    "def cria_gerador():\n",
    "    network = tf.keras.Sequential()\n",
    "    \n",
    "    network.add(layers.Dense(7*7*256, use_bias=False,input_shape=(100,)))\n",
    "    network.add(layers.BatchNormalization()) #A ideia dessa camada é normalizar os valores da camada oculta\n",
    "    network.add(layers.LeakyReLU()) #Função de ativação similar à ReLU\n",
    "    \n",
    "    network.add(layers.Reshape((7,7,256))) #Transformando a matriz em um tensor\n",
    "    \n",
    "    # 7x7x128\n",
    "    #O Conv2D reduz a dimensionalidade, já o Conv2DTranspose aumenta\n",
    "    network.add(layers.Conv2DTranspose(128, (5,5), padding='same', use_bias=False)) \n",
    "    network.add(layers.BatchNormalization())\n",
    "    network.add(layers.LeakyReLU())\n",
    "    \n",
    "    #14x14x64\n",
    "    network.add(layers.Conv2DTranspose(64, (5,5), padding='same', use_bias=False, strides=(2,2))) \n",
    "    network.add(layers.BatchNormalization())\n",
    "    network.add(layers.LeakyReLU())\n",
    "    \n",
    "    #28x28x1\n",
    "    network.add(layers.Conv2DTranspose(1, (5,5), padding='same', use_bias=False, strides=(2,2), activation='tanh'))\n",
    "    \n",
    "    network.summary()\n",
    "    \n",
    "    return network\n"
   ]
  },
  {
   "cell_type": "code",
   "execution_count": 103,
   "id": "ffd05b59",
   "metadata": {},
   "outputs": [
    {
     "name": "stdout",
     "output_type": "stream",
     "text": [
      "Model: \"sequential_4\"\n",
      "_________________________________________________________________\n",
      " Layer (type)                Output Shape              Param #   \n",
      "=================================================================\n",
      " dense_4 (Dense)             (None, 12544)             1254400   \n",
      "                                                                 \n",
      " batch_normalization_6 (Batc  (None, 12544)            50176     \n",
      " hNormalization)                                                 \n",
      "                                                                 \n",
      " leaky_re_lu_10 (LeakyReLU)  (None, 12544)             0         \n",
      "                                                                 \n",
      " reshape_2 (Reshape)         (None, 7, 7, 256)         0         \n",
      "                                                                 \n",
      " conv2d_transpose_6 (Conv2DT  (None, 7, 7, 128)        819200    \n",
      " ranspose)                                                       \n",
      "                                                                 \n",
      " batch_normalization_7 (Batc  (None, 7, 7, 128)        512       \n",
      " hNormalization)                                                 \n",
      "                                                                 \n",
      " leaky_re_lu_11 (LeakyReLU)  (None, 7, 7, 128)         0         \n",
      "                                                                 \n",
      " conv2d_transpose_7 (Conv2DT  (None, 14, 14, 64)       204800    \n",
      " ranspose)                                                       \n",
      "                                                                 \n",
      " batch_normalization_8 (Batc  (None, 14, 14, 64)       256       \n",
      " hNormalization)                                                 \n",
      "                                                                 \n",
      " leaky_re_lu_12 (LeakyReLU)  (None, 14, 14, 64)        0         \n",
      "                                                                 \n",
      " conv2d_transpose_8 (Conv2DT  (None, 28, 28, 1)        1600      \n",
      " ranspose)                                                       \n",
      "                                                                 \n",
      "=================================================================\n",
      "Total params: 2,330,944\n",
      "Trainable params: 2,305,472\n",
      "Non-trainable params: 25,472\n",
      "_________________________________________________________________\n"
     ]
    }
   ],
   "source": [
    "gerador = cria_gerador()"
   ]
  },
  {
   "cell_type": "code",
   "execution_count": 104,
   "id": "b274b5a7",
   "metadata": {},
   "outputs": [
    {
     "data": {
      "text/plain": [
       "<KerasTensor: shape=(None, 100) dtype=float32 (created by layer 'dense_4_input')>"
      ]
     },
     "execution_count": 104,
     "metadata": {},
     "output_type": "execute_result"
    }
   ],
   "source": [
    "gerador.input #100 = número de valores aleatórios que a camada de entrada vai receber"
   ]
  },
  {
   "cell_type": "code",
   "execution_count": 105,
   "id": "8b5c69e3",
   "metadata": {},
   "outputs": [
    {
     "data": {
      "text/plain": [
       "<tf.Tensor: shape=(1, 100), dtype=float32, numpy=\n",
       "array([[-0.7965879 , -0.21093632, -0.40354088,  1.5061715 ,  0.37617192,\n",
       "         0.00997091, -0.7436145 , -0.6583105 , -1.6308978 , -0.35592875,\n",
       "        -0.05839777, -1.9050558 , -0.33653307, -1.1121858 , -0.10667225,\n",
       "         1.6555731 , -0.06991405,  0.26910034, -1.9739212 ,  1.4893894 ,\n",
       "        -0.77864194, -1.5697114 ,  0.10928135,  0.68905395,  1.064864  ,\n",
       "         0.8338615 , -1.0732145 ,  0.444593  , -0.4591149 ,  1.6197572 ,\n",
       "         1.2859994 , -0.60265106,  0.29779994,  1.839681  ,  1.1360091 ,\n",
       "        -0.82963204,  0.6560583 , -0.25410375,  0.9444558 ,  0.16499673,\n",
       "         0.9930687 ,  0.77438337,  2.3718772 , -0.2816482 , -2.1825073 ,\n",
       "        -1.3164667 , -1.3993275 , -1.2220788 ,  0.11893001, -2.2546182 ,\n",
       "         0.03250908, -0.3767323 , -1.2265139 , -0.94815075, -0.49605766,\n",
       "        -1.4312431 , -0.47497505,  0.00271379,  1.2605468 , -0.57105   ,\n",
       "        -1.3124458 , -0.74172413,  2.0434725 , -0.19093524, -0.89163274,\n",
       "        -0.73634505, -0.34783292,  0.9386267 , -0.85920733,  0.73140657,\n",
       "        -0.2402938 ,  0.87286943, -1.3001871 , -1.5829865 ,  1.0520598 ,\n",
       "         1.471846  ,  1.6556989 , -1.0976092 , -0.75843036,  0.02202693,\n",
       "        -1.0324832 ,  1.0372379 , -0.6967969 , -0.01398065, -0.15823899,\n",
       "        -0.593268  ,  0.6711377 , -1.063591  ,  0.27061749,  2.5744407 ,\n",
       "         0.06698319,  1.7717371 , -1.4185412 ,  0.4932934 ,  0.25357994,\n",
       "         1.1650549 , -2.3370385 , -0.84354043,  1.7037976 ,  1.6157852 ]],\n",
       "      dtype=float32)>"
      ]
     },
     "execution_count": 105,
     "metadata": {},
     "output_type": "execute_result"
    }
   ],
   "source": [
    "ruido = tf.random.normal([1, 100])\n",
    "ruido"
   ]
  },
  {
   "cell_type": "code",
   "execution_count": 106,
   "id": "3bb7c7bf",
   "metadata": {},
   "outputs": [],
   "source": [
    "imagem_gerada = gerador(ruido, training = False)"
   ]
  },
  {
   "cell_type": "code",
   "execution_count": 107,
   "id": "8087ba92",
   "metadata": {},
   "outputs": [
    {
     "data": {
      "text/plain": [
       "TensorShape([1, 28, 28, 1])"
      ]
     },
     "execution_count": 107,
     "metadata": {},
     "output_type": "execute_result"
    }
   ],
   "source": [
    "imagem_gerada.shape #uma imagem de 28x28 pixels e 1 canal de cor somente"
   ]
  },
  {
   "cell_type": "code",
   "execution_count": 108,
   "id": "df1647a2",
   "metadata": {},
   "outputs": [
    {
     "data": {
      "text/plain": [
       "<matplotlib.image.AxesImage at 0x7f1a94cb8040>"
      ]
     },
     "execution_count": 108,
     "metadata": {},
     "output_type": "execute_result"
    },
    {
     "data": {
      "image/png": "[encoded data removed]",
      "text/plain": [
       "<Figure size 640x480 with 1 Axes>"
      ]
     },
     "metadata": {},
     "output_type": "display_data"
    }
   ],
   "source": [
    "plt.imshow(imagem_gerada[0, :, :, 0], cmap='gray')"
   ]
  },
  {
   "cell_type": "markdown",
   "id": "dd1427cd",
   "metadata": {},
   "source": [
    "## Construção do discriminador"
   ]
  },
  {
   "cell_type": "code",
   "execution_count": 109,
   "id": "93326b54",
   "metadata": {},
   "outputs": [],
   "source": [
    "def cria_discriminador():\n",
    "    network = tf.keras.Sequential()\n",
    "    \n",
    "    #14x14x64\n",
    "    network.add(layers.Conv2D(64, (5,5), strides=(2,2), padding='same', input_shape=[28,28,1]))\n",
    "    network.add(layers.LeakyReLU())\n",
    "    network.add(layers.Dropout(0.3))\n",
    "    \n",
    "    #7x7x128\n",
    "    network.add(layers.Conv2D(128, (5,5), strides=(2,2), padding='same'))\n",
    "    network.add(layers.LeakyReLU())\n",
    "    network.add(layers.Dropout(0.3))\n",
    "    \n",
    "    network.add(layers.Flatten())\n",
    "    network.add(layers.Dense(1))\n",
    "    \n",
    "    network.summary()\n",
    "    return network\n",
    "    "
   ]
  },
  {
   "cell_type": "code",
   "execution_count": 110,
   "id": "59918945",
   "metadata": {},
   "outputs": [
    {
     "name": "stdout",
     "output_type": "stream",
     "text": [
      "Model: \"sequential_5\"\n",
      "_________________________________________________________________\n",
      " Layer (type)                Output Shape              Param #   \n",
      "=================================================================\n",
      " conv2d_4 (Conv2D)           (None, 14, 14, 64)        1664      \n",
      "                                                                 \n",
      " leaky_re_lu_13 (LeakyReLU)  (None, 14, 14, 64)        0         \n",
      "                                                                 \n",
      " dropout_4 (Dropout)         (None, 14, 14, 64)        0         \n",
      "                                                                 \n",
      " conv2d_5 (Conv2D)           (None, 7, 7, 128)         204928    \n",
      "                                                                 \n",
      " leaky_re_lu_14 (LeakyReLU)  (None, 7, 7, 128)         0         \n",
      "                                                                 \n",
      " dropout_5 (Dropout)         (None, 7, 7, 128)         0         \n",
      "                                                                 \n",
      " flatten_2 (Flatten)         (None, 6272)              0         \n",
      "                                                                 \n",
      " dense_5 (Dense)             (None, 1)                 6273      \n",
      "                                                                 \n",
      "=================================================================\n",
      "Total params: 212,865\n",
      "Trainable params: 212,865\n",
      "Non-trainable params: 0\n",
      "_________________________________________________________________\n"
     ]
    }
   ],
   "source": [
    "discriminador = cria_discriminador()"
   ]
  },
  {
   "cell_type": "code",
   "execution_count": 111,
   "id": "f2cb4595",
   "metadata": {},
   "outputs": [
    {
     "data": {
      "text/plain": [
       "<KerasTensor: shape=(None, 28, 28, 1) dtype=float32 (created by layer 'conv2d_4_input')>"
      ]
     },
     "execution_count": 111,
     "metadata": {},
     "output_type": "execute_result"
    }
   ],
   "source": [
    "discriminador.input"
   ]
  },
  {
   "cell_type": "code",
   "execution_count": 112,
   "id": "448bb7da",
   "metadata": {},
   "outputs": [
    {
     "data": {
      "text/plain": [
       "<tf.Tensor: shape=(1, 1), dtype=float32, numpy=array([[-0.00144535]], dtype=float32)>"
      ]
     },
     "execution_count": 112,
     "metadata": {},
     "output_type": "execute_result"
    }
   ],
   "source": [
    "discriminador(imagem_gerada, training=False)"
   ]
  },
  {
   "cell_type": "markdown",
   "id": "8ec7662a",
   "metadata": {},
   "source": [
    "## Cálculo do erro do gerador e do discriminador"
   ]
  },
  {
   "cell_type": "code",
   "execution_count": 113,
   "id": "5aaf87a9",
   "metadata": {},
   "outputs": [],
   "source": [
    "#logits é a saída bruta da rede neural, sem nenhuma função de ativação\n",
    "cross_entropy = tf.keras.losses.BinaryCrossentropy(from_logits=True)"
   ]
  },
  {
   "cell_type": "code",
   "execution_count": 114,
   "id": "d03c5c0a",
   "metadata": {},
   "outputs": [],
   "source": [
    "def discriminador_loss(expected_output, fake_output):\n",
    "    real_loss = cross_entropy(tf.ones_like(expected_output), expected_output)\n",
    "    fake_loss = cross_entropy(tf.zeros_like(fake_output), fake_output)\n",
    "    total_loss = real_loss + fake_loss\n",
    "    return total_loss"
   ]
  },
  {
   "cell_type": "code",
   "execution_count": 115,
   "id": "29bdf08a",
   "metadata": {},
   "outputs": [],
   "source": [
    "def gerador_loss(fake_output):\n",
    "    return cross_entropy(tf.ones_like(fake_output), fake_output)"
   ]
  },
  {
   "cell_type": "code",
   "execution_count": 116,
   "id": "600709c0",
   "metadata": {},
   "outputs": [],
   "source": [
    "gerador_optimizer = tf.keras.optimizers.Adam(learning_rate=0.00001)\n",
    "discriminador_optimizer = tf.keras.optimizers.Adam(learning_rate=0.00001)"
   ]
  },
  {
   "cell_type": "markdown",
   "id": "b95220b4",
   "metadata": {},
   "source": [
    "## Treinamento da GAN e visualização dos resultados"
   ]
  },
  {
   "cell_type": "code",
   "execution_count": 117,
   "id": "e1142410",
   "metadata": {},
   "outputs": [],
   "source": [
    "epocas = 100\n",
    "dimensao_ruido = 100 #número de números aleatórios que serão gerados\n",
    "numero_imagens = 16 #16 novas imagens serão geradas no treinamento"
   ]
  },
  {
   "cell_type": "code",
   "execution_count": 118,
   "id": "308287b2",
   "metadata": {},
   "outputs": [
    {
     "data": {
      "text/plain": [
       "(256, 100)"
      ]
     },
     "execution_count": 118,
     "metadata": {},
     "output_type": "execute_result"
    }
   ],
   "source": [
    "batch_size, dimensao_ruido"
   ]
  },
  {
   "cell_type": "code",
   "execution_count": 119,
   "id": "bba5b943",
   "metadata": {},
   "outputs": [],
   "source": [
    "@tf.function\n",
    "def treinamento(imagens):\n",
    "    ruido = tf.random.normal([batch_size, dimensao_ruido])\n",
    "    with tf.GradientTape() as gen_tape, tf.GradientTape() as disc_tape:\n",
    "        imagens_geradas = gerador(ruido, training=True)\n",
    "        \n",
    "        expected_output = discriminador(imagens, training=True)\n",
    "        fake_output = discriminador(imagens_geradas, training=True)\n",
    "        \n",
    "        gen_loss = gerador_loss(fake_output)\n",
    "        disc_loss = discriminador_loss(expected_output, fake_output)\n",
    "        \n",
    "    gradientes_gerador = gen_tape.gradient(gen_loss, gerador.trainable_variables)\n",
    "    gradientes_discriminador = disc_tape.gradient(disc_loss, discriminador.trainable_variables)\n",
    "    \n",
    "    gerador_optimizer.apply_gradients(zip(gradientes_gerador, gerador.trainable_variables))\n",
    "    discriminador_optimizer.apply_gradients(zip(gradientes_discriminador, discriminador.trainable_variables))"
   ]
  },
  {
   "cell_type": "code",
   "execution_count": 120,
   "id": "7891fbee",
   "metadata": {},
   "outputs": [
    {
     "data": {
      "text/plain": [
       "TensorShape([16, 100])"
      ]
     },
     "execution_count": 120,
     "metadata": {},
     "output_type": "execute_result"
    }
   ],
   "source": [
    "imagens_teste = tf.random.normal([numero_imagens, dimensao_ruido])\n",
    "imagens_teste.shape"
   ]
  },
  {
   "cell_type": "code",
   "execution_count": 121,
   "id": "209d7828",
   "metadata": {},
   "outputs": [],
   "source": [
    "def treina_gan(dataset, epocas, imagens_teste):\n",
    "    for epoca in range(epocas):\n",
    "        for imagem_batch in dataset:\n",
    "            #print(imagem_batch.shape)\n",
    "            treinamento(imagem_batch)\n",
    "    \n",
    "    print('Época: ', epoca + 1)\n",
    "    imagens_geradas = gerador(imagens_teste, training=False)\n",
    "    fig = plt.figure(figsize=(10,10))\n",
    "    for i in range(imagens_geradas.shape[0]):\n",
    "        plt.subplot(4,4,i+1)\n",
    "        plt.imshow(imagens_geradas[i, :, :, 0] * 127.5 + 127.5, cmap='gray')\n",
    "        plt.axis('off')\n",
    "    \n",
    "    plt.show()\n",
    "        "
   ]
  },
  {
   "cell_type": "code",
   "execution_count": null,
   "id": "a7b39761",
   "metadata": {},
   "outputs": [],
   "source": [
    "treina_gan(X_treinamento, epocas, imagens_teste)"
   ]
  },
  {
   "cell_type": "code",
   "execution_count": null,
   "id": "228e3241",
   "metadata": {},
   "outputs": [],
   "source": []
  }
 ],
 "metadata": {
  "kernelspec": {
   "display_name": "Python 3 (ipykernel)",
   "language": "python",
   "name": "python3"
  },
  "language_info": {
   "codemirror_mode": {
    "name": "ipython",
    "version": 3
   },
   "file_extension": ".py",
   "mimetype": "text/x-python",
   "name": "python",
   "nbconvert_exporter": "python",
   "pygments_lexer": "ipython3",
   "version": "3.9.13"
  }
 },
 "nbformat": 4,
 "nbformat_minor": 5
}
