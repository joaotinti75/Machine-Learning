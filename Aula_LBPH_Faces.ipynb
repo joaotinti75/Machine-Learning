{
  "nbformat": 4,
  "nbformat_minor": 0,
  "metadata": {
    "colab": {
      "provenance": [],
      "authorship_tag": "ABX9TyMbfe7mIwVCeao/P56t9qTr",
      "include_colab_link": true
    },
    "kernelspec": {
      "name": "python3",
      "display_name": "Python 3"
    },
    "language_info": {
      "name": "python"
    }
  },
  "cells": [
    {
      "cell_type": "markdown",
      "metadata": {
        "id": "view-in-github",
        "colab_type": "text"
      },
      "source": [
        "<a href=\"https://colab.research.google.com/github/joaotinti75/Machine-Learning/blob/main/Aula_LBPH_Faces.ipynb\" target=\"_parent\"><img src=\"https://colab.research.google.com/assets/colab-badge.svg\" alt=\"Open In Colab\"/></a>"
      ]
    },
    {
      "cell_type": "markdown",
      "source": [
        "## Reconhecimento de faces"
      ],
      "metadata": {
        "id": "P-hxeQpJmAhk"
      }
    },
    {
      "cell_type": "code",
      "source": [
        "from PIL import Image\n",
        "import cv2\n",
        "import numpy as np\n",
        "from google.colab.patches import cv2_imshow\n",
        "from google.colab import drive\n",
        "drive.mount('/content/drive')"
      ],
      "metadata": {
        "colab": {
          "base_uri": "https://localhost:8080/"
        },
        "id": "bwsqqyDPmE-m",
        "outputId": "fe9f6b7a-7782-4cc2-8cfd-77b7b84a7bc1"
      },
      "execution_count": 1,
      "outputs": [
        {
          "output_type": "stream",
          "name": "stdout",
          "text": [
            "Drive already mounted at /content/drive; to attempt to forcibly remount, call drive.mount(\"/content/drive\", force_remount=True).\n"
          ]
        }
      ]
    },
    {
      "cell_type": "code",
      "source": [
        "import zipfile\n",
        "\n",
        "path = '/content/drive/MyDrive/yalefaces.zip'\n",
        "\n",
        "zip_object = zipfile.ZipFile(file=path, mode='r')\n",
        "\n",
        "zip_object.extractall('./')\n",
        "\n",
        "zip_object.close()"
      ],
      "metadata": {
        "id": "cD861-O5mL9O"
      },
      "execution_count": 2,
      "outputs": []
    },
    {
      "cell_type": "code",
      "source": [
        "import os"
      ],
      "metadata": {
        "id": "YIUgmpk6m3dt"
      },
      "execution_count": 3,
      "outputs": []
    },
    {
      "cell_type": "code",
      "source": [
        "def get_image_data():\n",
        "  paths = [os.path.join('/content/yalefaces/train', f) for f in os.listdir('/content/yalefaces/train')]\n",
        "  faces = []\n",
        "  ids = []\n",
        "  for path in paths:\n",
        "    imagem = Image.open(path).convert('L') #Converte as imagens para a escala de cinza\n",
        "    imagem_np = np.array(imagem, 'uint8') #uint8 é uma matriz com apenas números inteiros\n",
        "    id = int(path.split('.')[0][-2:])\n",
        "    ids.append(id)\n",
        "    faces.append(imagem_np) \n",
        "\n",
        "  return np.array(ids), faces\n"
      ],
      "metadata": {
        "id": "6OD5WKcdn6zA"
      },
      "execution_count": 4,
      "outputs": []
    },
    {
      "cell_type": "code",
      "source": [
        "ids, faces = get_image_data()"
      ],
      "metadata": {
        "id": "cQBsuyeGoGLn"
      },
      "execution_count": 5,
      "outputs": []
    },
    {
      "cell_type": "code",
      "source": [
        "print(ids)"
      ],
      "metadata": {
        "colab": {
          "base_uri": "https://localhost:8080/"
        },
        "id": "mK28GtjhpC82",
        "outputId": "e746f0a0-15ad-4d4b-e43a-8f98f9557057"
      },
      "execution_count": 6,
      "outputs": [
        {
          "output_type": "stream",
          "name": "stdout",
          "text": [
            "[13 10  9 11 10  4  7 12  6 15  9  5 10  5  8 11  1 10 11  4 14  6  8  3\n",
            " 10  5 14 10 14  9  1  7 13  2  4  4  7  5  6  7  4 15  2  8 10  2 11 10\n",
            "  1  7 15  2 14  7 11  3  9 13  9  5  1  2  3 11  9 13  8  3  2  9 15  4\n",
            " 14  6 11 14  9 14 10  8  3 15  8  6  5 13  7  1  2  6  6 13  3 12 14  5\n",
            "  3 12  4  7  5  8  9 12 12 12 15 12 11  3 13  8 15  4  2  3  1  4 15  2\n",
            " 15  6  7  6  1 12 13  1 13  8 12 11 14  1  5]\n"
          ]
        }
      ]
    },
    {
      "cell_type": "code",
      "source": [
        "len(ids)"
      ],
      "metadata": {
        "colab": {
          "base_uri": "https://localhost:8080/"
        },
        "id": "VqrqbtpHqWhy",
        "outputId": "57f8040d-346f-4f90-d57b-6728654ad31e"
      },
      "execution_count": 7,
      "outputs": [
        {
          "output_type": "execute_result",
          "data": {
            "text/plain": [
              "135"
            ]
          },
          "metadata": {},
          "execution_count": 7
        }
      ]
    },
    {
      "cell_type": "code",
      "source": [
        "len(faces)"
      ],
      "metadata": {
        "colab": {
          "base_uri": "https://localhost:8080/"
        },
        "id": "HPSg_-ayqb70",
        "outputId": "3b21a291-ca15-4682-a785-a04842503148"
      },
      "execution_count": 8,
      "outputs": [
        {
          "output_type": "execute_result",
          "data": {
            "text/plain": [
              "135"
            ]
          },
          "metadata": {},
          "execution_count": 8
        }
      ]
    },
    {
      "cell_type": "code",
      "source": [
        "faces[0], faces[0].shape"
      ],
      "metadata": {
        "colab": {
          "base_uri": "https://localhost:8080/"
        },
        "id": "s2okufGgqdUb",
        "outputId": "e6587a76-545e-4245-f1bb-34e0d3d28c43"
      },
      "execution_count": 9,
      "outputs": [
        {
          "output_type": "execute_result",
          "data": {
            "text/plain": [
              "(array([[130, 130, 130, ..., 255, 255, 255],\n",
              "        [255, 255, 255, ..., 255, 255, 255],\n",
              "        [255, 255, 255, ..., 255, 255, 255],\n",
              "        ...,\n",
              "        [255, 255, 255, ..., 201, 195, 199],\n",
              "        [255, 255, 255, ..., 218, 211, 217],\n",
              "        [ 68,  68,  68, ...,  68,  68,  68]], dtype=uint8), (243, 320))"
            ]
          },
          "metadata": {},
          "execution_count": 9
        }
      ]
    },
    {
      "cell_type": "markdown",
      "source": [
        "## Treinando o classificador LBPH"
      ],
      "metadata": {
        "id": "WdjKlEwwquxQ"
      }
    },
    {
      "cell_type": "code",
      "source": [
        "# radius = 1\n",
        "# neighbors = 8\n",
        "# grid_x = 8\n",
        "# grid_y = 8\n",
        "\n",
        "lbph_classifier = cv2.face.LBPHFaceRecognizer_create(radius=4, neighbors=14, grid_x=9, grid_y=9)\n",
        "lbph_classifier.train(faces, ids)\n",
        "lbph_classifier.write('lbph_classifier.yml')"
      ],
      "metadata": {
        "id": "Filsdz7tqzxA"
      },
      "execution_count": 10,
      "outputs": []
    },
    {
      "cell_type": "markdown",
      "source": [
        "## Reconhecimento de faces"
      ],
      "metadata": {
        "id": "DQCN1I6ErwDY"
      }
    },
    {
      "cell_type": "code",
      "source": [
        "lbph_face_classifier = cv2.face.LBPHFaceRecognizer_create()\n",
        "lbph_face_classifier.read('/content/lbph_classifier.yml')"
      ],
      "metadata": {
        "id": "bjyKSuaRrZ3N"
      },
      "execution_count": 11,
      "outputs": []
    },
    {
      "cell_type": "code",
      "source": [
        "imagem_teste = '/content/yalefaces/test/subject10.sad.gif'"
      ],
      "metadata": {
        "id": "ebZZNlGNr-ED"
      },
      "execution_count": 12,
      "outputs": []
    },
    {
      "cell_type": "code",
      "source": [
        "imagem = Image.open(imagem_teste).convert('L')\n",
        "imagem_np = np.array(imagem, 'uint8')\n",
        "imagem_np"
      ],
      "metadata": {
        "colab": {
          "base_uri": "https://localhost:8080/"
        },
        "id": "5NAoP4AOsPjg",
        "outputId": "31492d42-da7f-44b8-cfb8-746767be8cc7"
      },
      "execution_count": 13,
      "outputs": [
        {
          "output_type": "execute_result",
          "data": {
            "text/plain": [
              "array([[130, 130, 130, ..., 255, 255, 255],\n",
              "       [255, 255, 255, ..., 255, 255, 255],\n",
              "       [255, 255, 255, ..., 255, 255, 255],\n",
              "       ...,\n",
              "       [255, 255, 255, ..., 241, 255, 255],\n",
              "       [255, 255, 255, ..., 234, 237, 252],\n",
              "       [ 68,  68,  68, ...,  68,  68,  68]], dtype=uint8)"
            ]
          },
          "metadata": {},
          "execution_count": 13
        }
      ]
    },
    {
      "cell_type": "code",
      "source": [
        "imagem_np.shape"
      ],
      "metadata": {
        "colab": {
          "base_uri": "https://localhost:8080/"
        },
        "id": "MJOLSddgsZfY",
        "outputId": "a96c8a8b-6d1a-4971-d005-22d4e3a226f6"
      },
      "execution_count": 14,
      "outputs": [
        {
          "output_type": "execute_result",
          "data": {
            "text/plain": [
              "(243, 320)"
            ]
          },
          "metadata": {},
          "execution_count": 14
        }
      ]
    },
    {
      "cell_type": "code",
      "source": [
        "previsao = lbph_face_classifier.predict(imagem_np)\n",
        "previsao\n",
        "#posicao 0 => classe prevista\n",
        "#posicao 1 => confiança da detecção (quanto maior o valor, maior a confiança)"
      ],
      "metadata": {
        "colab": {
          "base_uri": "https://localhost:8080/"
        },
        "id": "c8HtLL7asbIV",
        "outputId": "41539ce3-7e3a-4c69-cc34-90e67284d751"
      },
      "execution_count": 15,
      "outputs": [
        {
          "output_type": "execute_result",
          "data": {
            "text/plain": [
              "(10, 36.84750735484425)"
            ]
          },
          "metadata": {},
          "execution_count": 15
        }
      ]
    },
    {
      "cell_type": "code",
      "source": [
        "cv2.putText(imagem_np, 'Pred: ' + str(previsao[0]), (10,30), cv2.FONT_HERSHEY_COMPLEX_SMALL, 1, (0, 255, 0))\n",
        "cv2.putText(imagem_np, 'Exp: ' + str(10), (10,50), cv2.FONT_HERSHEY_COMPLEX_SMALL, 1, (0, 255, 0))\n",
        "cv2_imshow(imagem_np)"
      ],
      "metadata": {
        "colab": {
          "base_uri": "https://localhost:8080/",
          "height": 260
        },
        "id": "zJNOi6Sxsirf",
        "outputId": "4c02a52b-6ce4-4fa1-f9b9-f1cae6366e1e"
      },
      "execution_count": 16,
      "outputs": [
        {
          "output_type": "display_data",
          "data": {
            "text/plain": [
              "<PIL.Image.Image image mode=L size=320x243 at 0x7FD650A3A670>"
            ],
            "image/png": "[encoded data removed]"
          },
          "metadata": {}
        }
      ]
    },
    {
      "cell_type": "markdown",
      "source": [
        "## Avaliação do classificador"
      ],
      "metadata": {
        "id": "x1yJoRTiuCZ_"
      }
    },
    {
      "cell_type": "code",
      "source": [
        "paths = [os.path.join('/content/yalefaces/test', f) for f in os.listdir('/content/yalefaces/test')]\n",
        "previsoes = []\n",
        "saidas_esperadas = []\n",
        "\n",
        "for path in paths:\n",
        "  imagem = Image.open(path).convert('L')\n",
        "  imagem_np = np.array(imagem, 'uint8')\n",
        "\n",
        "  previsao, _ = lbph_face_classifier.predict(imagem_np)\n",
        "  saida_esperada = int(path.split('.')[0][-2:])\n",
        "  previsoes.append(previsao)\n",
        "  saidas_esperadas.append(saida_esperada)\n",
        "  \n"
      ],
      "metadata": {
        "id": "q9mzZTvVuG6N"
      },
      "execution_count": 17,
      "outputs": []
    },
    {
      "cell_type": "code",
      "source": [
        "type(previsoes), type(saidas_esperadas)"
      ],
      "metadata": {
        "colab": {
          "base_uri": "https://localhost:8080/"
        },
        "id": "qMdrLNTaulKG",
        "outputId": "736352ff-3b46-4b46-9282-5942a48e1049"
      },
      "execution_count": 18,
      "outputs": [
        {
          "output_type": "execute_result",
          "data": {
            "text/plain": [
              "(list, list)"
            ]
          },
          "metadata": {},
          "execution_count": 18
        }
      ]
    },
    {
      "cell_type": "code",
      "source": [
        "previsoes = np.array(previsoes)\n",
        "saidas_esperadas = np.array(saidas_esperadas)"
      ],
      "metadata": {
        "id": "LZ1JeIz4vN7w"
      },
      "execution_count": 19,
      "outputs": []
    },
    {
      "cell_type": "code",
      "source": [
        "type(previsoes), type(saidas_esperadas)"
      ],
      "metadata": {
        "colab": {
          "base_uri": "https://localhost:8080/"
        },
        "id": "K5bj7OhcvVT1",
        "outputId": "e449bedf-a107-48b9-915a-b95a3111cf4a"
      },
      "execution_count": 20,
      "outputs": [
        {
          "output_type": "execute_result",
          "data": {
            "text/plain": [
              "(numpy.ndarray, numpy.ndarray)"
            ]
          },
          "metadata": {},
          "execution_count": 20
        }
      ]
    },
    {
      "cell_type": "code",
      "source": [
        "previsoes"
      ],
      "metadata": {
        "colab": {
          "base_uri": "https://localhost:8080/"
        },
        "id": "uATnpGdwvZUs",
        "outputId": "e93c64f9-2e78-4489-fbf0-45ad52734f94"
      },
      "execution_count": 21,
      "outputs": [
        {
          "output_type": "execute_result",
          "data": {
            "text/plain": [
              "array([ 4,  7,  4, 12, 14,  5,  6,  7, 13,  4,  3,  9, 14,  4, 10, 13,  4,\n",
              "       12,  4,  8, 11, 11,  3,  5, 15,  9, 14,  7, 12,  1])"
            ]
          },
          "metadata": {},
          "execution_count": 21
        }
      ]
    },
    {
      "cell_type": "code",
      "source": [
        "saidas_esperadas"
      ],
      "metadata": {
        "colab": {
          "base_uri": "https://localhost:8080/"
        },
        "id": "BQISnFy0vcdD",
        "outputId": "99a8b179-4793-410c-d26e-81fc99265637"
      },
      "execution_count": 22,
      "outputs": [
        {
          "output_type": "execute_result",
          "data": {
            "text/plain": [
              "array([ 4,  9,  4, 12, 14,  5,  6, 15, 13,  1,  3,  9, 14,  8, 10, 13, 10,\n",
              "        2,  2,  8, 11, 11,  3,  5, 15,  7,  6,  7, 12,  1])"
            ]
          },
          "metadata": {},
          "execution_count": 22
        }
      ]
    },
    {
      "cell_type": "code",
      "source": [
        "from sklearn.metrics import accuracy_score\n",
        "\n",
        "accuracy_score(saidas_esperadas, previsoes) #taxa de acerto = 66,6%\n"
      ],
      "metadata": {
        "colab": {
          "base_uri": "https://localhost:8080/"
        },
        "id": "XyW7h_lwvdx3",
        "outputId": "73761006-3d55-4901-839e-7eff26abfd0d"
      },
      "execution_count": 23,
      "outputs": [
        {
          "output_type": "execute_result",
          "data": {
            "text/plain": [
              "0.7"
            ]
          },
          "metadata": {},
          "execution_count": 23
        }
      ]
    },
    {
      "cell_type": "code",
      "source": [
        "from sklearn.metrics import confusion_matrix\n",
        "cm = confusion_matrix(saidas_esperadas, previsoes)\n",
        "cm"
      ],
      "metadata": {
        "colab": {
          "base_uri": "https://localhost:8080/"
        },
        "id": "ur7-qBnkvspc",
        "outputId": "859c5165-eb0e-408d-8ab0-2e289c8f08c5"
      },
      "execution_count": 24,
      "outputs": [
        {
          "output_type": "execute_result",
          "data": {
            "text/plain": [
              "array([[1, 0, 0, 1, 0, 0, 0, 0, 0, 0, 0, 0, 0, 0, 0],\n",
              "       [0, 0, 0, 1, 0, 0, 0, 0, 0, 0, 0, 1, 0, 0, 0],\n",
              "       [0, 0, 2, 0, 0, 0, 0, 0, 0, 0, 0, 0, 0, 0, 0],\n",
              "       [0, 0, 0, 2, 0, 0, 0, 0, 0, 0, 0, 0, 0, 0, 0],\n",
              "       [0, 0, 0, 0, 2, 0, 0, 0, 0, 0, 0, 0, 0, 0, 0],\n",
              "       [0, 0, 0, 0, 0, 1, 0, 0, 0, 0, 0, 0, 0, 1, 0],\n",
              "       [0, 0, 0, 0, 0, 0, 1, 0, 1, 0, 0, 0, 0, 0, 0],\n",
              "       [0, 0, 0, 1, 0, 0, 0, 1, 0, 0, 0, 0, 0, 0, 0],\n",
              "       [0, 0, 0, 0, 0, 0, 1, 0, 1, 0, 0, 0, 0, 0, 0],\n",
              "       [0, 0, 0, 1, 0, 0, 0, 0, 0, 1, 0, 0, 0, 0, 0],\n",
              "       [0, 0, 0, 0, 0, 0, 0, 0, 0, 0, 2, 0, 0, 0, 0],\n",
              "       [0, 0, 0, 0, 0, 0, 0, 0, 0, 0, 0, 2, 0, 0, 0],\n",
              "       [0, 0, 0, 0, 0, 0, 0, 0, 0, 0, 0, 0, 2, 0, 0],\n",
              "       [0, 0, 0, 0, 0, 0, 0, 0, 0, 0, 0, 0, 0, 2, 0],\n",
              "       [0, 0, 0, 0, 0, 0, 1, 0, 0, 0, 0, 0, 0, 0, 1]])"
            ]
          },
          "metadata": {},
          "execution_count": 24
        }
      ]
    },
    {
      "cell_type": "code",
      "source": [
        "import seaborn\n",
        "seaborn.heatmap(cm, annot=True); #annot=True mostra os valores"
      ],
      "metadata": {
        "colab": {
          "base_uri": "https://localhost:8080/",
          "height": 269
        },
        "id": "F6T_x_F8wAMH",
        "outputId": "469442cc-5ddd-4ef1-aa13-4a9c2f6df610"
      },
      "execution_count": 25,
      "outputs": [
        {
          "output_type": "display_data",
          "data": {
            "text/plain": [
              "<Figure size 432x288 with 2 Axes>"
            ],
            "image/png": "[encoded data removed]"
          },
          "metadata": {
            "needs_background": "light"
          }
        }
      ]
    },
    {
      "cell_type": "code",
      "source": [],
      "metadata": {
        "id": "tGdWCcmbwKGQ"
      },
      "execution_count": 25,
      "outputs": []
    }
  ]
}