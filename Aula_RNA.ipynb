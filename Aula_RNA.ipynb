{
  "nbformat": 4,
  "nbformat_minor": 0,
  "metadata": {
    "colab": {
      "provenance": [],
      "authorship_tag": "ABX9TyPY8EnTZ3xLCUjyOUvnsm8q",
      "include_colab_link": true
    },
    "kernelspec": {
      "name": "python3",
      "display_name": "Python 3"
    },
    "language_info": {
      "name": "python"
    },
    "accelerator": "GPU",
    "gpuClass": "standard"
  },
  "cells": [
    {
      "cell_type": "markdown",
      "metadata": {
        "id": "view-in-github",
        "colab_type": "text"
      },
      "source": [
        "<a href=\"https://colab.research.google.com/github/joaotinti75/Machine-Learning/blob/main/Aula_RNA.ipynb\" target=\"_parent\"><img src=\"https://colab.research.google.com/assets/colab-badge.svg\" alt=\"Open In Colab\"/></a>"
      ]
    },
    {
      "cell_type": "markdown",
      "source": [
        "## Importação das bibliotecas"
      ],
      "metadata": {
        "id": "XCCXDjK0KjIM"
      }
    },
    {
      "cell_type": "code",
      "execution_count": 1,
      "metadata": {
        "colab": {
          "base_uri": "https://localhost:8080/",
          "height": 35
        },
        "id": "AickxpxzJpge",
        "outputId": "57c5a2f9-563b-4b6e-b879-d1725f184fba"
      },
      "outputs": [
        {
          "output_type": "execute_result",
          "data": {
            "text/plain": [
              "'2.9.2'"
            ],
            "application/vnd.google.colaboratory.intrinsic+json": {
              "type": "string"
            }
          },
          "metadata": {},
          "execution_count": 1
        }
      ],
      "source": [
        "import cv2\n",
        "import numpy as np\n",
        "import os\n",
        "import zipfile\n",
        "from google.colab.patches import cv2_imshow\n",
        "import tensorflow as tf\n",
        "import pandas as pd\n",
        "import seaborn as sns\n",
        "import matplotlib.pyplot as plt\n",
        "\n",
        "tf.__version__"
      ]
    },
    {
      "cell_type": "markdown",
      "source": [
        "## Extração pixels da imagem"
      ],
      "metadata": {
        "id": "O0aZXZ1dK9PZ"
      }
    },
    {
      "cell_type": "code",
      "source": [
        "from google.colab import drive\n",
        "drive.mount('/content/drive')"
      ],
      "metadata": {
        "colab": {
          "base_uri": "https://localhost:8080/"
        },
        "id": "oR8ux-uCK1_s",
        "outputId": "8235c2a6-b494-4065-805f-3a334b163403"
      },
      "execution_count": 2,
      "outputs": [
        {
          "output_type": "stream",
          "name": "stdout",
          "text": [
            "Mounted at /content/drive\n"
          ]
        }
      ]
    },
    {
      "cell_type": "code",
      "source": [
        "path = '/content/drive/MyDrive/Visão Computacional Guia Completo-20230201T234050Z-001/Visão Computacional Guia Completo/Datasets/homer_bart_1.zip'\n",
        "zip_object = zipfile.ZipFile(file = path, mode='r')\n",
        "\n",
        "zip_object.extractall('./')\n",
        "zip_object.close()"
      ],
      "metadata": {
        "id": "_FxSq1oPLHhI"
      },
      "execution_count": 3,
      "outputs": []
    },
    {
      "cell_type": "code",
      "source": [
        "diretorio = '/content/homer_bart_1'\n",
        "arquivos = [os.path.join(diretorio, f) for f in sorted(os.listdir(diretorio))] #ordenando as imagens pelo nome\n",
        "print(arquivos)"
      ],
      "metadata": {
        "colab": {
          "base_uri": "https://localhost:8080/"
        },
        "id": "Iex7bU6mLpc1",
        "outputId": "5e32d535-24f1-474f-ab14-cbf7b43c3eaf"
      },
      "execution_count": 4,
      "outputs": [
        {
          "output_type": "stream",
          "name": "stdout",
          "text": [
            "['/content/homer_bart_1/.DS_Store', '/content/homer_bart_1/bart1.bmp', '/content/homer_bart_1/bart10.bmp', '/content/homer_bart_1/bart100.bmp', '/content/homer_bart_1/bart101.bmp', '/content/homer_bart_1/bart102.bmp', '/content/homer_bart_1/bart103.bmp', '/content/homer_bart_1/bart104.bmp', '/content/homer_bart_1/bart105.bmp', '/content/homer_bart_1/bart106.bmp', '/content/homer_bart_1/bart108.bmp', '/content/homer_bart_1/bart109.bmp', '/content/homer_bart_1/bart11.bmp', '/content/homer_bart_1/bart110.bmp', '/content/homer_bart_1/bart111.bmp', '/content/homer_bart_1/bart112.bmp', '/content/homer_bart_1/bart113.bmp', '/content/homer_bart_1/bart114.bmp', '/content/homer_bart_1/bart115.bmp', '/content/homer_bart_1/bart116.bmp', '/content/homer_bart_1/bart117.bmp', '/content/homer_bart_1/bart118.bmp', '/content/homer_bart_1/bart119.bmp', '/content/homer_bart_1/bart12.bmp', '/content/homer_bart_1/bart120.bmp', '/content/homer_bart_1/bart121.bmp', '/content/homer_bart_1/bart122.bmp', '/content/homer_bart_1/bart123.bmp', '/content/homer_bart_1/bart124.bmp', '/content/homer_bart_1/bart125.bmp', '/content/homer_bart_1/bart126.bmp', '/content/homer_bart_1/bart127.bmp', '/content/homer_bart_1/bart128.bmp', '/content/homer_bart_1/bart13.bmp', '/content/homer_bart_1/bart130.bmp', '/content/homer_bart_1/bart131.bmp', '/content/homer_bart_1/bart132.bmp', '/content/homer_bart_1/bart133.bmp', '/content/homer_bart_1/bart134.bmp', '/content/homer_bart_1/bart135.bmp', '/content/homer_bart_1/bart136.bmp', '/content/homer_bart_1/bart137.bmp', '/content/homer_bart_1/bart138.bmp', '/content/homer_bart_1/bart139.bmp', '/content/homer_bart_1/bart14.bmp', '/content/homer_bart_1/bart141.bmp', '/content/homer_bart_1/bart142.bmp', '/content/homer_bart_1/bart143.bmp', '/content/homer_bart_1/bart144.bmp', '/content/homer_bart_1/bart145.bmp', '/content/homer_bart_1/bart146.bmp', '/content/homer_bart_1/bart147.bmp', '/content/homer_bart_1/bart148.bmp', '/content/homer_bart_1/bart149.bmp', '/content/homer_bart_1/bart15.bmp', '/content/homer_bart_1/bart150.bmp', '/content/homer_bart_1/bart151.bmp', '/content/homer_bart_1/bart153.bmp', '/content/homer_bart_1/bart154.bmp', '/content/homer_bart_1/bart155.bmp', '/content/homer_bart_1/bart156.bmp', '/content/homer_bart_1/bart157.bmp', '/content/homer_bart_1/bart158.bmp', '/content/homer_bart_1/bart159.bmp', '/content/homer_bart_1/bart16.bmp', '/content/homer_bart_1/bart160.bmp', '/content/homer_bart_1/bart161.bmp', '/content/homer_bart_1/bart162.bmp', '/content/homer_bart_1/bart164.bmp', '/content/homer_bart_1/bart165.bmp', '/content/homer_bart_1/bart166.bmp', '/content/homer_bart_1/bart167.bmp', '/content/homer_bart_1/bart168.bmp', '/content/homer_bart_1/bart169.bmp', '/content/homer_bart_1/bart17.bmp', '/content/homer_bart_1/bart18.bmp', '/content/homer_bart_1/bart19.bmp', '/content/homer_bart_1/bart2.bmp', '/content/homer_bart_1/bart20.bmp', '/content/homer_bart_1/bart21.bmp', '/content/homer_bart_1/bart22.bmp', '/content/homer_bart_1/bart23.bmp', '/content/homer_bart_1/bart24.bmp', '/content/homer_bart_1/bart25.bmp', '/content/homer_bart_1/bart26.bmp', '/content/homer_bart_1/bart27.bmp', '/content/homer_bart_1/bart28.bmp', '/content/homer_bart_1/bart29.bmp', '/content/homer_bart_1/bart3.bmp', '/content/homer_bart_1/bart30.bmp', '/content/homer_bart_1/bart31.bmp', '/content/homer_bart_1/bart32.bmp', '/content/homer_bart_1/bart34.bmp', '/content/homer_bart_1/bart35.bmp', '/content/homer_bart_1/bart36.bmp', '/content/homer_bart_1/bart37.bmp', '/content/homer_bart_1/bart38.bmp', '/content/homer_bart_1/bart39.bmp', '/content/homer_bart_1/bart4.bmp', '/content/homer_bart_1/bart40.bmp', '/content/homer_bart_1/bart42.bmp', '/content/homer_bart_1/bart43.bmp', '/content/homer_bart_1/bart44.bmp', '/content/homer_bart_1/bart45.bmp', '/content/homer_bart_1/bart46.bmp', '/content/homer_bart_1/bart47.bmp', '/content/homer_bart_1/bart48.bmp', '/content/homer_bart_1/bart49.bmp', '/content/homer_bart_1/bart5.bmp', '/content/homer_bart_1/bart50.bmp', '/content/homer_bart_1/bart51.bmp', '/content/homer_bart_1/bart52.bmp', '/content/homer_bart_1/bart53.bmp', '/content/homer_bart_1/bart54.bmp', '/content/homer_bart_1/bart55.bmp', '/content/homer_bart_1/bart56.bmp', '/content/homer_bart_1/bart57.bmp', '/content/homer_bart_1/bart58.bmp', '/content/homer_bart_1/bart59.bmp', '/content/homer_bart_1/bart6.bmp', '/content/homer_bart_1/bart60.bmp', '/content/homer_bart_1/bart61.bmp', '/content/homer_bart_1/bart62.bmp', '/content/homer_bart_1/bart63.bmp', '/content/homer_bart_1/bart64.bmp', '/content/homer_bart_1/bart65.bmp', '/content/homer_bart_1/bart66.bmp', '/content/homer_bart_1/bart67.bmp', '/content/homer_bart_1/bart68.bmp', '/content/homer_bart_1/bart69.bmp', '/content/homer_bart_1/bart7.bmp', '/content/homer_bart_1/bart70.bmp', '/content/homer_bart_1/bart71.bmp', '/content/homer_bart_1/bart72.bmp', '/content/homer_bart_1/bart73.bmp', '/content/homer_bart_1/bart74.bmp', '/content/homer_bart_1/bart75.bmp', '/content/homer_bart_1/bart76.bmp', '/content/homer_bart_1/bart77.bmp', '/content/homer_bart_1/bart79.bmp', '/content/homer_bart_1/bart8.bmp', '/content/homer_bart_1/bart80.bmp', '/content/homer_bart_1/bart81.bmp', '/content/homer_bart_1/bart82.bmp', '/content/homer_bart_1/bart83.bmp', '/content/homer_bart_1/bart84.bmp', '/content/homer_bart_1/bart85.bmp', '/content/homer_bart_1/bart86.bmp', '/content/homer_bart_1/bart87.bmp', '/content/homer_bart_1/bart89.bmp', '/content/homer_bart_1/bart9.bmp', '/content/homer_bart_1/bart90.bmp', '/content/homer_bart_1/bart91.bmp', '/content/homer_bart_1/bart92.bmp', '/content/homer_bart_1/bart93.bmp', '/content/homer_bart_1/bart94.bmp', '/content/homer_bart_1/bart95.bmp', '/content/homer_bart_1/bart96.bmp', '/content/homer_bart_1/bart97.bmp', '/content/homer_bart_1/bart98.bmp', '/content/homer_bart_1/bart99.bmp', '/content/homer_bart_1/homer1.bmp', '/content/homer_bart_1/homer10.bmp', '/content/homer_bart_1/homer100.bmp', '/content/homer_bart_1/homer101.bmp', '/content/homer_bart_1/homer102.bmp', '/content/homer_bart_1/homer103.bmp', '/content/homer_bart_1/homer104.bmp', '/content/homer_bart_1/homer105.bmp', '/content/homer_bart_1/homer106.bmp', '/content/homer_bart_1/homer107.bmp', '/content/homer_bart_1/homer109.bmp', '/content/homer_bart_1/homer110.bmp', '/content/homer_bart_1/homer112.bmp', '/content/homer_bart_1/homer113.bmp', '/content/homer_bart_1/homer115.bmp', '/content/homer_bart_1/homer116.bmp', '/content/homer_bart_1/homer117.bmp', '/content/homer_bart_1/homer119.bmp', '/content/homer_bart_1/homer120.bmp', '/content/homer_bart_1/homer121.bmp', '/content/homer_bart_1/homer122.bmp', '/content/homer_bart_1/homer123.bmp', '/content/homer_bart_1/homer124.bmp', '/content/homer_bart_1/homer13.bmp', '/content/homer_bart_1/homer14.bmp', '/content/homer_bart_1/homer15.bmp', '/content/homer_bart_1/homer16.bmp', '/content/homer_bart_1/homer17.bmp', '/content/homer_bart_1/homer18.bmp', '/content/homer_bart_1/homer2.bmp', '/content/homer_bart_1/homer20.bmp', '/content/homer_bart_1/homer21.bmp', '/content/homer_bart_1/homer22.bmp', '/content/homer_bart_1/homer23.bmp', '/content/homer_bart_1/homer24.bmp', '/content/homer_bart_1/homer26.bmp', '/content/homer_bart_1/homer27.bmp', '/content/homer_bart_1/homer28.bmp', '/content/homer_bart_1/homer29.bmp', '/content/homer_bart_1/homer3.bmp', '/content/homer_bart_1/homer30.bmp', '/content/homer_bart_1/homer31.bmp', '/content/homer_bart_1/homer32.bmp', '/content/homer_bart_1/homer33.bmp', '/content/homer_bart_1/homer34.bmp', '/content/homer_bart_1/homer35.bmp', '/content/homer_bart_1/homer36.bmp', '/content/homer_bart_1/homer37.bmp', '/content/homer_bart_1/homer38.bmp', '/content/homer_bart_1/homer4.bmp', '/content/homer_bart_1/homer40.bmp', '/content/homer_bart_1/homer41.bmp', '/content/homer_bart_1/homer43.bmp', '/content/homer_bart_1/homer44.bmp', '/content/homer_bart_1/homer45.bmp', '/content/homer_bart_1/homer46.bmp', '/content/homer_bart_1/homer47.bmp', '/content/homer_bart_1/homer48.bmp', '/content/homer_bart_1/homer49.bmp', '/content/homer_bart_1/homer5.bmp', '/content/homer_bart_1/homer50.bmp', '/content/homer_bart_1/homer51.bmp', '/content/homer_bart_1/homer52.bmp', '/content/homer_bart_1/homer54.bmp', '/content/homer_bart_1/homer55.bmp', '/content/homer_bart_1/homer56.bmp', '/content/homer_bart_1/homer57.bmp', '/content/homer_bart_1/homer58.bmp', '/content/homer_bart_1/homer59.bmp', '/content/homer_bart_1/homer6.bmp', '/content/homer_bart_1/homer60.bmp', '/content/homer_bart_1/homer61.bmp', '/content/homer_bart_1/homer62.bmp', '/content/homer_bart_1/homer63.bmp', '/content/homer_bart_1/homer65.bmp', '/content/homer_bart_1/homer66.bmp', '/content/homer_bart_1/homer68.bmp', '/content/homer_bart_1/homer69.bmp', '/content/homer_bart_1/homer7.bmp', '/content/homer_bart_1/homer70.bmp', '/content/homer_bart_1/homer71.bmp', '/content/homer_bart_1/homer72.bmp', '/content/homer_bart_1/homer73.bmp', '/content/homer_bart_1/homer74.bmp', '/content/homer_bart_1/homer75.bmp', '/content/homer_bart_1/homer76.bmp', '/content/homer_bart_1/homer77.bmp', '/content/homer_bart_1/homer78.bmp', '/content/homer_bart_1/homer79.bmp', '/content/homer_bart_1/homer8.bmp', '/content/homer_bart_1/homer80.bmp', '/content/homer_bart_1/homer81.bmp', '/content/homer_bart_1/homer82.bmp', '/content/homer_bart_1/homer83.bmp', '/content/homer_bart_1/homer84.bmp', '/content/homer_bart_1/homer85.bmp', '/content/homer_bart_1/homer86.bmp', '/content/homer_bart_1/homer87.bmp', '/content/homer_bart_1/homer9.bmp', '/content/homer_bart_1/homer90.bmp', '/content/homer_bart_1/homer91.bmp', '/content/homer_bart_1/homer92.bmp', '/content/homer_bart_1/homer93.bmp', '/content/homer_bart_1/homer94.bmp', '/content/homer_bart_1/homer95.bmp', '/content/homer_bart_1/homer96.bmp', '/content/homer_bart_1/homer97.bmp', '/content/homer_bart_1/homer98.bmp', '/content/homer_bart_1/homer99.bmp']\n"
          ]
        }
      ]
    },
    {
      "cell_type": "code",
      "source": [
        "largura, altura = 128, 128 #redimensionando as imagens"
      ],
      "metadata": {
        "id": "kNIUbuYtLzTs"
      },
      "execution_count": 5,
      "outputs": []
    },
    {
      "cell_type": "code",
      "source": [
        "imagens = []\n",
        "classes = []"
      ],
      "metadata": {
        "id": "gQkP8IlqMx36"
      },
      "execution_count": 25,
      "outputs": []
    },
    {
      "cell_type": "code",
      "source": [
        "for imagem_caminho in arquivos:\n",
        "  try:\n",
        "    imagem = cv2.imread(imagem_caminho)\n",
        "    (H, W) = imagem.shape[:2] #pegando a altura e largura da imagem\n",
        "  except:\n",
        "    continue\n",
        "  \n",
        "  imagem = cv2.resize(imagem, (largura, altura))\n",
        "  imagem = cv2.cvtColor(imagem, cv2.COLOR_BGR2GRAY)\n",
        "\n",
        "  imagem = imagem.ravel() #transforma a matriz de imagem em um vetor\n",
        "  imagens.append(imagem)\n",
        "  nome_imagem = os.path.basename(os.path.normpath(imagem_caminho))\n",
        "  if nome_imagem.startswith('b'):\n",
        "    classe = 0\n",
        "  else:\n",
        "    classe = 1\n",
        "    \n",
        "  classes.append(classe)\n"
      ],
      "metadata": {
        "id": "xie7mco0QbCX"
      },
      "execution_count": 26,
      "outputs": []
    },
    {
      "cell_type": "code",
      "source": [
        "imagens[100], classes[100]"
      ],
      "metadata": {
        "colab": {
          "base_uri": "https://localhost:8080/"
        },
        "id": "_yiCjMP_TXQv",
        "outputId": "9fd1fb4b-4774-46f7-afad-b0914e06d440"
      },
      "execution_count": 27,
      "outputs": [
        {
          "output_type": "execute_result",
          "data": {
            "text/plain": [
              "(array([255, 255, 255, ..., 255, 255, 255], dtype=uint8), 0)"
            ]
          },
          "metadata": {},
          "execution_count": 27
        }
      ]
    },
    {
      "cell_type": "code",
      "source": [
        "imagens[200], classes[200]"
      ],
      "metadata": {
        "colab": {
          "base_uri": "https://localhost:8080/"
        },
        "id": "N6sS3O4OTbN-",
        "outputId": "9ee2d4b5-7e51-49c9-8321-a262a3e65cb9"
      },
      "execution_count": 28,
      "outputs": [
        {
          "output_type": "execute_result",
          "data": {
            "text/plain": [
              "(array([255, 255, 255, ..., 255, 255, 255], dtype=uint8), 1)"
            ]
          },
          "metadata": {},
          "execution_count": 28
        }
      ]
    },
    {
      "cell_type": "code",
      "source": [
        "type(imagens), type(classes)"
      ],
      "metadata": {
        "colab": {
          "base_uri": "https://localhost:8080/"
        },
        "id": "pykZBio1Tqcw",
        "outputId": "d8711ed8-b6e3-4382-acc6-8b66eb9a0589"
      },
      "execution_count": 29,
      "outputs": [
        {
          "output_type": "execute_result",
          "data": {
            "text/plain": [
              "(list, list)"
            ]
          },
          "metadata": {},
          "execution_count": 29
        }
      ]
    },
    {
      "cell_type": "code",
      "source": [
        "X = np.asarray(imagens)\n",
        "y = np.asarray(classes)"
      ],
      "metadata": {
        "id": "bDC5xGnETvrj"
      },
      "execution_count": 30,
      "outputs": []
    },
    {
      "cell_type": "code",
      "source": [
        "type(X), type(y)"
      ],
      "metadata": {
        "colab": {
          "base_uri": "https://localhost:8080/"
        },
        "id": "4mrG9w61T4kv",
        "outputId": "ebdce2d4-a36e-495b-99d3-d7451d05978d"
      },
      "execution_count": 31,
      "outputs": [
        {
          "output_type": "execute_result",
          "data": {
            "text/plain": [
              "(numpy.ndarray, numpy.ndarray)"
            ]
          },
          "metadata": {},
          "execution_count": 31
        }
      ]
    },
    {
      "cell_type": "code",
      "source": [
        "X.shape"
      ],
      "metadata": {
        "colab": {
          "base_uri": "https://localhost:8080/"
        },
        "id": "FiQQnERUT6Jo",
        "outputId": "401bdd74-7032-44d9-e5d4-818fea2506d3"
      },
      "execution_count": 32,
      "outputs": [
        {
          "output_type": "execute_result",
          "data": {
            "text/plain": [
              "(269, 16384)"
            ]
          },
          "metadata": {},
          "execution_count": 32
        }
      ]
    },
    {
      "cell_type": "code",
      "source": [
        "y.shape"
      ],
      "metadata": {
        "colab": {
          "base_uri": "https://localhost:8080/"
        },
        "id": "S2Z1UAfjT9BR",
        "outputId": "0166b3ce-3026-46a8-b48c-002fb7fc7085"
      },
      "execution_count": 33,
      "outputs": [
        {
          "output_type": "execute_result",
          "data": {
            "text/plain": [
              "(269,)"
            ]
          },
          "metadata": {},
          "execution_count": 33
        }
      ]
    },
    {
      "cell_type": "code",
      "source": [
        "sns.countplot(y) #Quantidade de imagens de acordo com a classe (temos mais imagens do bart do que do homer)"
      ],
      "metadata": {
        "colab": {
          "base_uri": "https://localhost:8080/",
          "height": 337
        },
        "id": "0XLwG6uAUA0E",
        "outputId": "f6d41eea-b77e-419a-9bfe-9aa10fadc23c"
      },
      "execution_count": 34,
      "outputs": [
        {
          "output_type": "stream",
          "name": "stderr",
          "text": [
            "/usr/local/lib/python3.8/dist-packages/seaborn/_decorators.py:36: FutureWarning: Pass the following variable as a keyword arg: x. From version 0.12, the only valid positional argument will be `data`, and passing other arguments without an explicit keyword will result in an error or misinterpretation.\n",
            "  warnings.warn(\n"
          ]
        },
        {
          "output_type": "execute_result",
          "data": {
            "text/plain": [
              "<matplotlib.axes._subplots.AxesSubplot at 0x7f8e0b2aa9d0>"
            ]
          },
          "metadata": {},
          "execution_count": 34
        },
        {
          "output_type": "display_data",
          "data": {
            "text/plain": [
              "<Figure size 432x288 with 1 Axes>"
            ],
            "image/png": "[encoded data removed]"
          },
          "metadata": {
            "needs_background": "light"
          }
        }
      ]
    },
    {
      "cell_type": "code",
      "source": [
        "np.unique(y, return_counts=True) #160 imagens do bart e 109 imagens do homer"
      ],
      "metadata": {
        "colab": {
          "base_uri": "https://localhost:8080/"
        },
        "id": "i9Lkt_YMUawJ",
        "outputId": "aa1cddb9-4d5d-456f-e375-9985fdd973a5"
      },
      "execution_count": 35,
      "outputs": [
        {
          "output_type": "execute_result",
          "data": {
            "text/plain": [
              "(array([0, 1]), array([160, 109]))"
            ]
          },
          "metadata": {},
          "execution_count": 35
        }
      ]
    },
    {
      "cell_type": "markdown",
      "source": [
        "## Normalização dos dados"
      ],
      "metadata": {
        "id": "RANJmUOAUuHM"
      }
    },
    {
      "cell_type": "code",
      "source": [
        "X[0].max(), X[0].min()"
      ],
      "metadata": {
        "colab": {
          "base_uri": "https://localhost:8080/"
        },
        "id": "ECX_LAM0UwtS",
        "outputId": "615b9a8b-bf76-45c7-d581-2bdf0a4511c6"
      },
      "execution_count": 36,
      "outputs": [
        {
          "output_type": "execute_result",
          "data": {
            "text/plain": [
              "(255, 0)"
            ]
          },
          "metadata": {},
          "execution_count": 36
        }
      ]
    },
    {
      "cell_type": "code",
      "source": [
        "from sklearn.preprocessing import MinMaxScaler\n",
        "scaler = MinMaxScaler()\n",
        "X = scaler.fit_transform(X)"
      ],
      "metadata": {
        "id": "LMAd6AiKU1sb"
      },
      "execution_count": 39,
      "outputs": []
    },
    {
      "cell_type": "code",
      "source": [
        "X[0].max(), y[0].min()"
      ],
      "metadata": {
        "colab": {
          "base_uri": "https://localhost:8080/"
        },
        "id": "F3kckXLJVw0l",
        "outputId": "8e6dc7e2-ccaf-46a2-e11d-25fac6104ad3"
      },
      "execution_count": 40,
      "outputs": [
        {
          "output_type": "execute_result",
          "data": {
            "text/plain": [
              "(1.0000000000000002, 0)"
            ]
          },
          "metadata": {},
          "execution_count": 40
        }
      ]
    },
    {
      "cell_type": "code",
      "source": [
        "X[1]"
      ],
      "metadata": {
        "colab": {
          "base_uri": "https://localhost:8080/"
        },
        "id": "MQZAKW6LV1x4",
        "outputId": "5d14ae85-b626-4dc1-eb21-58db10aa152e"
      },
      "execution_count": 42,
      "outputs": [
        {
          "output_type": "execute_result",
          "data": {
            "text/plain": [
              "array([0.9947644 , 0.99479167, 0.99479167, ..., 0.99559471, 0.99595142,\n",
              "       0.9950495 ])"
            ]
          },
          "metadata": {},
          "execution_count": 42
        }
      ]
    },
    {
      "cell_type": "markdown",
      "source": [
        "## Bases de treinamento e teste"
      ],
      "metadata": {
        "id": "Lj7us31TWMBP"
      }
    },
    {
      "cell_type": "code",
      "source": [
        "X.shape"
      ],
      "metadata": {
        "colab": {
          "base_uri": "https://localhost:8080/"
        },
        "id": "sO4kgfNcWBFt",
        "outputId": "473c536d-cbd9-4dd9-f9bc-62c0cb7f27f2"
      },
      "execution_count": 43,
      "outputs": [
        {
          "output_type": "execute_result",
          "data": {
            "text/plain": [
              "(269, 16384)"
            ]
          },
          "metadata": {},
          "execution_count": 43
        }
      ]
    },
    {
      "cell_type": "code",
      "source": [
        "from sklearn.model_selection import train_test_split"
      ],
      "metadata": {
        "id": "dZcPAW9NWoAZ"
      },
      "execution_count": 44,
      "outputs": []
    },
    {
      "cell_type": "code",
      "source": [
        "X_treinamento, X_teste, y_treinamento, y_teste = train_test_split(X, y, test_size=0.2, random_state=1)\n",
        "#Quanto maior a base de dados, maior a porcentagem você pode deixar para teste\n",
        "#O parâmetro random_state garante que sempre que você executar esse código, ele escolherá os mesmos registros para treino e teste\n"
      ],
      "metadata": {
        "id": "RUW3mt8kWuEJ"
      },
      "execution_count": 45,
      "outputs": []
    },
    {
      "cell_type": "code",
      "source": [
        "X_treinamento.shape, y_treinamento.shape"
      ],
      "metadata": {
        "colab": {
          "base_uri": "https://localhost:8080/"
        },
        "id": "NzkbHwkjXU0A",
        "outputId": "574b68f1-fbe3-4c5e-e6d2-f841244a88fe"
      },
      "execution_count": 48,
      "outputs": [
        {
          "output_type": "execute_result",
          "data": {
            "text/plain": [
              "((215, 16384), (215,))"
            ]
          },
          "metadata": {},
          "execution_count": 48
        }
      ]
    },
    {
      "cell_type": "code",
      "source": [
        "X_teste.shape, y_teste.shape"
      ],
      "metadata": {
        "colab": {
          "base_uri": "https://localhost:8080/"
        },
        "id": "IAZhfGsyXYgW",
        "outputId": "2355e752-51f1-4f45-ec10-c7594345b348"
      },
      "execution_count": 49,
      "outputs": [
        {
          "output_type": "execute_result",
          "data": {
            "text/plain": [
              "((54, 16384), (54,))"
            ]
          },
          "metadata": {},
          "execution_count": 49
        }
      ]
    },
    {
      "cell_type": "markdown",
      "source": [
        "## Construção e treinamento da rede neural"
      ],
      "metadata": {
        "id": "at3HhEKPXuzK"
      }
    },
    {
      "cell_type": "code",
      "source": [
        "# Qual a quantidade ideal de neurônios na primeira camada escondida?\n",
        "# 16384 é o número de neurônios na camada de entrada\n",
        "#O 2 que está somando é pq temos apenas 2 classes\n",
        "\n",
        "(16384 + 2) / 2 "
      ],
      "metadata": {
        "colab": {
          "base_uri": "https://localhost:8080/"
        },
        "id": "8LlkPzdvY1u1",
        "outputId": "5845367f-5fd6-4f32-c38e-96ae1ad7289a"
      },
      "execution_count": 51,
      "outputs": [
        {
          "output_type": "execute_result",
          "data": {
            "text/plain": [
              "8193.0"
            ]
          },
          "metadata": {},
          "execution_count": 51
        }
      ]
    },
    {
      "cell_type": "code",
      "source": [
        "#16384 (camada de entrada) -> 8193 (1° camada escondida) -> 8193 (2° camada escondida)\n",
        "#Rede neural densa é onde todos os neurônios de uma camada estão ligados à todos os neurônios da camada seguinte\n",
        "network1 = tf.keras.models.Sequential() #redes neurais são uma sequência de camadas, por isso o nome\n",
        "network1.add(tf.keras.layers.Dense(input_shape=(16384,), units= 8193, activation='relu')) #dense pq 1 neurônio está ligado a todos os outros neurônios da próxima camada\n",
        "#relu retorna 0 quando o número é negativo, e 1 quando é positivo\n",
        "\n",
        "network1.add(tf.keras.layers.Dense(units= 8193, activation='relu'))\n",
        "network1.add(tf.keras.layers.Dense(units=1, activation='sigmoid'))"
      ],
      "metadata": {
        "id": "27Ec-82iXmM4"
      },
      "execution_count": 59,
      "outputs": []
    },
    {
      "cell_type": "code",
      "source": [
        "network1.summary()"
      ],
      "metadata": {
        "colab": {
          "base_uri": "https://localhost:8080/"
        },
        "id": "9h8mYr0_aQxo",
        "outputId": "b61e49cc-9029-4275-bec9-f326f3a72a86"
      },
      "execution_count": 60,
      "outputs": [
        {
          "output_type": "stream",
          "name": "stdout",
          "text": [
            "Model: \"sequential_2\"\n",
            "_________________________________________________________________\n",
            " Layer (type)                Output Shape              Param #   \n",
            "=================================================================\n",
            " dense_4 (Dense)             (None, 8193)              134242305 \n",
            "                                                                 \n",
            " dense_5 (Dense)             (None, 8193)              67133442  \n",
            "                                                                 \n",
            " dense_6 (Dense)             (None, 1)                 8194      \n",
            "                                                                 \n",
            "=================================================================\n",
            "Total params: 201,383,941\n",
            "Trainable params: 201,383,941\n",
            "Non-trainable params: 0\n",
            "_________________________________________________________________\n"
          ]
        }
      ]
    },
    {
      "cell_type": "code",
      "source": [
        "# Total params é o total de pesos que devemos treinar nessa arquitetura de rede neural   "
      ],
      "metadata": {
        "id": "AA9cccvCacGz"
      },
      "execution_count": 55,
      "outputs": []
    },
    {
      "cell_type": "code",
      "source": [
        "network1.compile(optimizer='Adam', loss='binary_crossentropy', metrics=['accuracy']) #O Adam é uma melhoria do GD\n",
        "#binary é pq temos apenas 2 classes\n",
        "#accuracy é a taxa de acerto que obtemos no final\n"
      ],
      "metadata": {
        "id": "u-Qc7yR8anrF"
      },
      "execution_count": 61,
      "outputs": []
    },
    {
      "cell_type": "code",
      "source": [
        "historico = network1.fit(X_treinamento, y_treinamento, epochs = 100)\n",
        "#essa variavel historico retorna um conjunto de informacoes sobre o treinamento"
      ],
      "metadata": {
        "colab": {
          "base_uri": "https://localhost:8080/"
        },
        "id": "1-f6b8wzbFpK",
        "outputId": "247620f1-ecae-47e3-da92-43f679086417"
      },
      "execution_count": 62,
      "outputs": [
        {
          "output_type": "stream",
          "name": "stdout",
          "text": [
            "Epoch 1/100\n",
            "7/7 [==============================] - 1s 48ms/step - loss: 120.9301 - accuracy: 0.5395\n",
            "Epoch 2/100\n",
            "7/7 [==============================] - 0s 46ms/step - loss: 7.9877 - accuracy: 0.5209\n",
            "Epoch 3/100\n",
            "7/7 [==============================] - 0s 45ms/step - loss: 3.1314 - accuracy: 0.4791\n",
            "Epoch 4/100\n",
            "7/7 [==============================] - 0s 45ms/step - loss: 0.9028 - accuracy: 0.5070\n",
            "Epoch 5/100\n",
            "7/7 [==============================] - 0s 45ms/step - loss: 0.7275 - accuracy: 0.5349\n",
            "Epoch 6/100\n",
            "7/7 [==============================] - 0s 45ms/step - loss: 0.6606 - accuracy: 0.6140\n",
            "Epoch 7/100\n",
            "7/7 [==============================] - 0s 45ms/step - loss: 0.6353 - accuracy: 0.6837\n",
            "Epoch 8/100\n",
            "7/7 [==============================] - 0s 46ms/step - loss: 0.6658 - accuracy: 0.5767\n",
            "Epoch 9/100\n",
            "7/7 [==============================] - 0s 45ms/step - loss: 0.6962 - accuracy: 0.6372\n",
            "Epoch 10/100\n",
            "7/7 [==============================] - 0s 47ms/step - loss: 0.6543 - accuracy: 0.6605\n",
            "Epoch 11/100\n",
            "7/7 [==============================] - 0s 47ms/step - loss: 0.6089 - accuracy: 0.6791\n",
            "Epoch 12/100\n",
            "7/7 [==============================] - 0s 47ms/step - loss: 0.6232 - accuracy: 0.6372\n",
            "Epoch 13/100\n",
            "7/7 [==============================] - 0s 47ms/step - loss: 0.6128 - accuracy: 0.6698\n",
            "Epoch 14/100\n",
            "7/7 [==============================] - 0s 47ms/step - loss: 0.5751 - accuracy: 0.7163\n",
            "Epoch 15/100\n",
            "7/7 [==============================] - 0s 47ms/step - loss: 0.6335 - accuracy: 0.6465\n",
            "Epoch 16/100\n",
            "7/7 [==============================] - 0s 47ms/step - loss: 0.6307 - accuracy: 0.6186\n",
            "Epoch 17/100\n",
            "7/7 [==============================] - 0s 49ms/step - loss: 0.6137 - accuracy: 0.6186\n",
            "Epoch 18/100\n",
            "7/7 [==============================] - 0s 47ms/step - loss: 0.5661 - accuracy: 0.6837\n",
            "Epoch 19/100\n",
            "7/7 [==============================] - 0s 48ms/step - loss: 0.5988 - accuracy: 0.7535\n",
            "Epoch 20/100\n",
            "7/7 [==============================] - 0s 46ms/step - loss: 0.6366 - accuracy: 0.6558\n",
            "Epoch 21/100\n",
            "7/7 [==============================] - 0s 45ms/step - loss: 0.6463 - accuracy: 0.6186\n",
            "Epoch 22/100\n",
            "7/7 [==============================] - 0s 45ms/step - loss: 0.5887 - accuracy: 0.6419\n",
            "Epoch 23/100\n",
            "7/7 [==============================] - 0s 45ms/step - loss: 0.5705 - accuracy: 0.7116\n",
            "Epoch 24/100\n",
            "7/7 [==============================] - 0s 45ms/step - loss: 0.5270 - accuracy: 0.7209\n",
            "Epoch 25/100\n",
            "7/7 [==============================] - 0s 45ms/step - loss: 0.7968 - accuracy: 0.6791\n",
            "Epoch 26/100\n",
            "7/7 [==============================] - 0s 45ms/step - loss: 0.6441 - accuracy: 0.6372\n",
            "Epoch 27/100\n",
            "7/7 [==============================] - 0s 46ms/step - loss: 0.6814 - accuracy: 0.6186\n",
            "Epoch 28/100\n",
            "7/7 [==============================] - 0s 45ms/step - loss: 0.6993 - accuracy: 0.5302\n",
            "Epoch 29/100\n",
            "7/7 [==============================] - 0s 45ms/step - loss: 0.7852 - accuracy: 0.4884\n",
            "Epoch 30/100\n",
            "7/7 [==============================] - 0s 45ms/step - loss: 0.6656 - accuracy: 0.5488\n",
            "Epoch 31/100\n",
            "7/7 [==============================] - 0s 45ms/step - loss: 0.5932 - accuracy: 0.6884\n",
            "Epoch 32/100\n",
            "7/7 [==============================] - 0s 45ms/step - loss: 0.5598 - accuracy: 0.7628\n",
            "Epoch 33/100\n",
            "7/7 [==============================] - 0s 45ms/step - loss: 0.5328 - accuracy: 0.7116\n",
            "Epoch 34/100\n",
            "7/7 [==============================] - 0s 46ms/step - loss: 0.6267 - accuracy: 0.6837\n",
            "Epoch 35/100\n",
            "7/7 [==============================] - 0s 45ms/step - loss: 0.4627 - accuracy: 0.8186\n",
            "Epoch 36/100\n",
            "7/7 [==============================] - 0s 45ms/step - loss: 0.6669 - accuracy: 0.5628\n",
            "Epoch 37/100\n",
            "7/7 [==============================] - 0s 45ms/step - loss: 0.4716 - accuracy: 0.8093\n",
            "Epoch 38/100\n",
            "7/7 [==============================] - 0s 45ms/step - loss: 0.4052 - accuracy: 0.8605\n",
            "Epoch 39/100\n",
            "7/7 [==============================] - 0s 45ms/step - loss: 0.3817 - accuracy: 0.8372\n",
            "Epoch 40/100\n",
            "7/7 [==============================] - 0s 46ms/step - loss: 0.3161 - accuracy: 0.9023\n",
            "Epoch 41/100\n",
            "7/7 [==============================] - 0s 47ms/step - loss: 0.2892 - accuracy: 0.9070\n",
            "Epoch 42/100\n",
            "7/7 [==============================] - 0s 45ms/step - loss: 0.2091 - accuracy: 0.9442\n",
            "Epoch 43/100\n",
            "7/7 [==============================] - 0s 45ms/step - loss: 0.3693 - accuracy: 0.8372\n",
            "Epoch 44/100\n",
            "7/7 [==============================] - 0s 45ms/step - loss: 0.5711 - accuracy: 0.7442\n",
            "Epoch 45/100\n",
            "7/7 [==============================] - 0s 45ms/step - loss: 0.5361 - accuracy: 0.7628\n",
            "Epoch 46/100\n",
            "7/7 [==============================] - 0s 45ms/step - loss: 0.3357 - accuracy: 0.8233\n",
            "Epoch 47/100\n",
            "7/7 [==============================] - 0s 45ms/step - loss: 0.2335 - accuracy: 0.9256\n",
            "Epoch 48/100\n",
            "7/7 [==============================] - 0s 45ms/step - loss: 0.2933 - accuracy: 0.8837\n",
            "Epoch 49/100\n",
            "7/7 [==============================] - 0s 45ms/step - loss: 0.2601 - accuracy: 0.8930\n",
            "Epoch 50/100\n",
            "7/7 [==============================] - 0s 45ms/step - loss: 0.1677 - accuracy: 0.9442\n",
            "Epoch 51/100\n",
            "7/7 [==============================] - 0s 48ms/step - loss: 0.1759 - accuracy: 0.9349\n",
            "Epoch 52/100\n",
            "7/7 [==============================] - 0s 47ms/step - loss: 0.2096 - accuracy: 0.9116\n",
            "Epoch 53/100\n",
            "7/7 [==============================] - 0s 47ms/step - loss: 0.1115 - accuracy: 0.9767\n",
            "Epoch 54/100\n",
            "7/7 [==============================] - 0s 47ms/step - loss: 0.0921 - accuracy: 0.9814\n",
            "Epoch 55/100\n",
            "7/7 [==============================] - 0s 47ms/step - loss: 0.0725 - accuracy: 0.9860\n",
            "Epoch 56/100\n",
            "7/7 [==============================] - 0s 46ms/step - loss: 0.0660 - accuracy: 0.9907\n",
            "Epoch 57/100\n",
            "7/7 [==============================] - 0s 48ms/step - loss: 0.0611 - accuracy: 0.9953\n",
            "Epoch 58/100\n",
            "7/7 [==============================] - 0s 46ms/step - loss: 0.0880 - accuracy: 0.9767\n",
            "Epoch 59/100\n",
            "7/7 [==============================] - 0s 46ms/step - loss: 0.0589 - accuracy: 0.9907\n",
            "Epoch 60/100\n",
            "7/7 [==============================] - 0s 46ms/step - loss: 0.1713 - accuracy: 0.9302\n",
            "Epoch 61/100\n",
            "7/7 [==============================] - 0s 45ms/step - loss: 0.0753 - accuracy: 0.9814\n",
            "Epoch 62/100\n",
            "7/7 [==============================] - 0s 45ms/step - loss: 0.0436 - accuracy: 0.9953\n",
            "Epoch 63/100\n",
            "7/7 [==============================] - 0s 45ms/step - loss: 0.0549 - accuracy: 0.9860\n",
            "Epoch 64/100\n",
            "7/7 [==============================] - 0s 45ms/step - loss: 0.0444 - accuracy: 0.9953\n",
            "Epoch 65/100\n",
            "7/7 [==============================] - 0s 45ms/step - loss: 0.0630 - accuracy: 0.9860\n",
            "Epoch 66/100\n",
            "7/7 [==============================] - 0s 46ms/step - loss: 0.0459 - accuracy: 0.9907\n",
            "Epoch 67/100\n",
            "7/7 [==============================] - 0s 46ms/step - loss: 0.0223 - accuracy: 1.0000\n",
            "Epoch 68/100\n",
            "7/7 [==============================] - 0s 45ms/step - loss: 0.0211 - accuracy: 1.0000\n",
            "Epoch 69/100\n",
            "7/7 [==============================] - 0s 45ms/step - loss: 0.0248 - accuracy: 0.9953\n",
            "Epoch 70/100\n",
            "7/7 [==============================] - 0s 45ms/step - loss: 0.0165 - accuracy: 1.0000\n",
            "Epoch 71/100\n",
            "7/7 [==============================] - 0s 45ms/step - loss: 0.0496 - accuracy: 0.9860\n",
            "Epoch 72/100\n",
            "7/7 [==============================] - 0s 45ms/step - loss: 0.8871 - accuracy: 0.7163\n",
            "Epoch 73/100\n",
            "7/7 [==============================] - 0s 45ms/step - loss: 0.1264 - accuracy: 0.9302\n",
            "Epoch 74/100\n",
            "7/7 [==============================] - 0s 46ms/step - loss: 0.2099 - accuracy: 0.8930\n",
            "Epoch 75/100\n",
            "7/7 [==============================] - 0s 45ms/step - loss: 0.5301 - accuracy: 0.8000\n",
            "Epoch 76/100\n",
            "7/7 [==============================] - 0s 45ms/step - loss: 0.2711 - accuracy: 0.8465\n",
            "Epoch 77/100\n",
            "7/7 [==============================] - 0s 45ms/step - loss: 0.1225 - accuracy: 0.9535\n",
            "Epoch 78/100\n",
            "7/7 [==============================] - 0s 45ms/step - loss: 0.0554 - accuracy: 0.9907\n",
            "Epoch 79/100\n",
            "7/7 [==============================] - 0s 45ms/step - loss: 0.0597 - accuracy: 0.9953\n",
            "Epoch 80/100\n",
            "7/7 [==============================] - 0s 45ms/step - loss: 0.0397 - accuracy: 1.0000\n",
            "Epoch 81/100\n",
            "7/7 [==============================] - 0s 45ms/step - loss: 0.0299 - accuracy: 1.0000\n",
            "Epoch 82/100\n",
            "7/7 [==============================] - 0s 45ms/step - loss: 0.0243 - accuracy: 1.0000\n",
            "Epoch 83/100\n",
            "7/7 [==============================] - 0s 45ms/step - loss: 0.0231 - accuracy: 0.9953\n",
            "Epoch 84/100\n",
            "7/7 [==============================] - 0s 47ms/step - loss: 0.0182 - accuracy: 1.0000\n",
            "Epoch 85/100\n",
            "7/7 [==============================] - 0s 45ms/step - loss: 0.0142 - accuracy: 1.0000\n",
            "Epoch 86/100\n",
            "7/7 [==============================] - 0s 45ms/step - loss: 0.0128 - accuracy: 1.0000\n",
            "Epoch 87/100\n",
            "7/7 [==============================] - 0s 45ms/step - loss: 0.0116 - accuracy: 1.0000\n",
            "Epoch 88/100\n",
            "7/7 [==============================] - 0s 45ms/step - loss: 0.0110 - accuracy: 1.0000\n",
            "Epoch 89/100\n",
            "7/7 [==============================] - 0s 45ms/step - loss: 0.0102 - accuracy: 1.0000\n",
            "Epoch 90/100\n",
            "7/7 [==============================] - 0s 45ms/step - loss: 0.0095 - accuracy: 1.0000\n",
            "Epoch 91/100\n",
            "7/7 [==============================] - 0s 46ms/step - loss: 0.0089 - accuracy: 1.0000\n",
            "Epoch 92/100\n",
            "7/7 [==============================] - 0s 46ms/step - loss: 0.0085 - accuracy: 1.0000\n",
            "Epoch 93/100\n",
            "7/7 [==============================] - 0s 48ms/step - loss: 0.0079 - accuracy: 1.0000\n",
            "Epoch 94/100\n",
            "7/7 [==============================] - 0s 47ms/step - loss: 0.0075 - accuracy: 1.0000\n",
            "Epoch 95/100\n",
            "7/7 [==============================] - 0s 47ms/step - loss: 0.0071 - accuracy: 1.0000\n",
            "Epoch 96/100\n",
            "7/7 [==============================] - 0s 47ms/step - loss: 0.0068 - accuracy: 1.0000\n",
            "Epoch 97/100\n",
            "7/7 [==============================] - 0s 47ms/step - loss: 0.0065 - accuracy: 1.0000\n",
            "Epoch 98/100\n",
            "7/7 [==============================] - 0s 47ms/step - loss: 0.0061 - accuracy: 1.0000\n",
            "Epoch 99/100\n",
            "7/7 [==============================] - 0s 48ms/step - loss: 0.0061 - accuracy: 1.0000\n",
            "Epoch 100/100\n",
            "7/7 [==============================] - 0s 50ms/step - loss: 0.0057 - accuracy: 1.0000\n"
          ]
        }
      ]
    },
    {
      "cell_type": "markdown",
      "source": [
        "## Aprendizado durante o treinamento\n",
        "\n"
      ],
      "metadata": {
        "id": "BYI864kbcQ2d"
      }
    },
    {
      "cell_type": "code",
      "source": [
        "historico.history.keys()"
      ],
      "metadata": {
        "colab": {
          "base_uri": "https://localhost:8080/"
        },
        "id": "YfVzkt6ycTtM",
        "outputId": "977b322b-92aa-46b0-b5d7-21cc24c1d1d6"
      },
      "execution_count": 63,
      "outputs": [
        {
          "output_type": "execute_result",
          "data": {
            "text/plain": [
              "dict_keys(['loss', 'accuracy'])"
            ]
          },
          "metadata": {},
          "execution_count": 63
        }
      ]
    },
    {
      "cell_type": "code",
      "source": [
        "plt.plot(historico.history['loss']);"
      ],
      "metadata": {
        "colab": {
          "base_uri": "https://localhost:8080/",
          "height": 265
        },
        "id": "uxg61129cbqq",
        "outputId": "d70b49d6-1b7c-4f86-f480-4e1f19685d53"
      },
      "execution_count": 65,
      "outputs": [
        {
          "output_type": "display_data",
          "data": {
            "text/plain": [
              "<Figure size 432x288 with 1 Axes>"
            ],
            "image/png": "[encoded data removed]"
          },
          "metadata": {
            "needs_background": "light"
          }
        }
      ]
    },
    {
      "cell_type": "code",
      "source": [
        "plt.plot(historico.history['accuracy']);"
      ],
      "metadata": {
        "colab": {
          "base_uri": "https://localhost:8080/",
          "height": 265
        },
        "id": "7PW6YMj0clp7",
        "outputId": "5266456b-e774-4b9b-9712-fc5f3e4496cb"
      },
      "execution_count": 66,
      "outputs": [
        {
          "output_type": "display_data",
          "data": {
            "text/plain": [
              "<Figure size 432x288 with 1 Axes>"
            ],
            "image/png": "[encoded data removed]"
          },
          "metadata": {
            "needs_background": "light"
          }
        }
      ]
    },
    {
      "cell_type": "code",
      "source": [
        "previsoes = network1.predict(X_teste)\n",
        "previsoes"
      ],
      "metadata": {
        "colab": {
          "base_uri": "https://localhost:8080/"
        },
        "id": "EzVfHG-ccsrn",
        "outputId": "f137d5a9-58e1-4b58-ef60-3437bea29c7b"
      },
      "execution_count": 67,
      "outputs": [
        {
          "output_type": "stream",
          "name": "stdout",
          "text": [
            "2/2 [==============================] - 0s 8ms/step\n"
          ]
        },
        {
          "output_type": "execute_result",
          "data": {
            "text/plain": [
              "array([[2.2132117e-03],\n",
              "       [9.8920447e-01],\n",
              "       [2.4710582e-03],\n",
              "       [6.3772039e-03],\n",
              "       [5.9275663e-01],\n",
              "       [7.1450071e-03],\n",
              "       [9.8925155e-01],\n",
              "       [9.1738021e-01],\n",
              "       [1.1314107e-01],\n",
              "       [7.8475392e-01],\n",
              "       [7.6653818e-03],\n",
              "       [9.8925155e-01],\n",
              "       [9.0929842e-01],\n",
              "       [6.6326708e-01],\n",
              "       [4.2913239e-02],\n",
              "       [4.4671264e-03],\n",
              "       [7.8981712e-02],\n",
              "       [6.0457939e-01],\n",
              "       [5.9956163e-03],\n",
              "       [2.6146739e-03],\n",
              "       [2.2436620e-03],\n",
              "       [6.5815848e-01],\n",
              "       [5.0460580e-03],\n",
              "       [4.0071264e-02],\n",
              "       [1.7017521e-02],\n",
              "       [5.2486759e-01],\n",
              "       [3.4547020e-03],\n",
              "       [8.4448801e-03],\n",
              "       [1.9047737e-02],\n",
              "       [9.4620639e-01],\n",
              "       [8.3466932e-02],\n",
              "       [9.8923129e-01],\n",
              "       [6.0817015e-01],\n",
              "       [8.2453084e-04],\n",
              "       [9.8925155e-01],\n",
              "       [5.2201375e-03],\n",
              "       [1.8766792e-01],\n",
              "       [1.8747984e-03],\n",
              "       [1.6967753e-01],\n",
              "       [1.3473360e-03],\n",
              "       [9.7463316e-01],\n",
              "       [9.3110263e-01],\n",
              "       [8.8270847e-03],\n",
              "       [3.4410004e-03],\n",
              "       [1.0787456e-02],\n",
              "       [4.6363950e-02],\n",
              "       [9.6667874e-01],\n",
              "       [3.5485781e-03],\n",
              "       [3.0681921e-02],\n",
              "       [9.8703289e-01],\n",
              "       [5.7008368e-04],\n",
              "       [9.0199465e-01],\n",
              "       [7.0946538e-01],\n",
              "       [1.6322449e-01]], dtype=float32)"
            ]
          },
          "metadata": {},
          "execution_count": 67
        }
      ]
    },
    {
      "cell_type": "code",
      "source": [
        "#0 False Bart\n",
        "#1 True Homer\n",
        "previsoes = (previsoes > 0.5) #se for maior que 50%, a classe é homer\n",
        "previsoes"
      ],
      "metadata": {
        "colab": {
          "base_uri": "https://localhost:8080/"
        },
        "id": "SqUBZ4lvdMbp",
        "outputId": "6998c619-6641-4208-f99e-615f764c9296"
      },
      "execution_count": 68,
      "outputs": [
        {
          "output_type": "execute_result",
          "data": {
            "text/plain": [
              "array([[False],\n",
              "       [ True],\n",
              "       [False],\n",
              "       [False],\n",
              "       [ True],\n",
              "       [False],\n",
              "       [ True],\n",
              "       [ True],\n",
              "       [False],\n",
              "       [ True],\n",
              "       [False],\n",
              "       [ True],\n",
              "       [ True],\n",
              "       [ True],\n",
              "       [False],\n",
              "       [False],\n",
              "       [False],\n",
              "       [ True],\n",
              "       [False],\n",
              "       [False],\n",
              "       [False],\n",
              "       [ True],\n",
              "       [False],\n",
              "       [False],\n",
              "       [False],\n",
              "       [ True],\n",
              "       [False],\n",
              "       [False],\n",
              "       [False],\n",
              "       [ True],\n",
              "       [False],\n",
              "       [ True],\n",
              "       [ True],\n",
              "       [False],\n",
              "       [ True],\n",
              "       [False],\n",
              "       [False],\n",
              "       [False],\n",
              "       [False],\n",
              "       [False],\n",
              "       [ True],\n",
              "       [ True],\n",
              "       [False],\n",
              "       [False],\n",
              "       [False],\n",
              "       [False],\n",
              "       [ True],\n",
              "       [False],\n",
              "       [False],\n",
              "       [ True],\n",
              "       [False],\n",
              "       [ True],\n",
              "       [ True],\n",
              "       [False]])"
            ]
          },
          "metadata": {},
          "execution_count": 68
        }
      ]
    },
    {
      "cell_type": "code",
      "source": [
        "y_teste"
      ],
      "metadata": {
        "colab": {
          "base_uri": "https://localhost:8080/"
        },
        "id": "vJxtPxjbdXi0",
        "outputId": "392ed393-9088-4926-92a9-05db740f7418"
      },
      "execution_count": 69,
      "outputs": [
        {
          "output_type": "execute_result",
          "data": {
            "text/plain": [
              "array([0, 1, 0, 0, 0, 1, 0, 0, 0, 0, 0, 1, 1, 0, 1, 1, 1, 1, 0, 0, 0, 1,\n",
              "       0, 0, 0, 1, 0, 0, 1, 1, 1, 1, 1, 1, 1, 1, 0, 0, 0, 0, 1, 1, 0, 0,\n",
              "       0, 1, 1, 0, 0, 1, 0, 1, 1, 1])"
            ]
          },
          "metadata": {},
          "execution_count": 69
        }
      ]
    },
    {
      "cell_type": "code",
      "source": [
        "from sklearn.metrics import accuracy_score\n",
        "accuracy_score(y_teste, previsoes)"
      ],
      "metadata": {
        "colab": {
          "base_uri": "https://localhost:8080/"
        },
        "id": "Ac-5bVDydqcF",
        "outputId": "ad10ada9-e9cf-48de-8fad-447260b80c2d"
      },
      "execution_count": 70,
      "outputs": [
        {
          "output_type": "execute_result",
          "data": {
            "text/plain": [
              "0.7222222222222222"
            ]
          },
          "metadata": {},
          "execution_count": 70
        }
      ]
    },
    {
      "cell_type": "code",
      "source": [
        "from sklearn.metrics import confusion_matrix\n",
        "cm = confusion_matrix(y_teste, previsoes)\n",
        "cm"
      ],
      "metadata": {
        "colab": {
          "base_uri": "https://localhost:8080/"
        },
        "id": "v-4s-csPd8Js",
        "outputId": "6269042d-a17f-4aa8-da93-27c8b7a19ef4"
      },
      "execution_count": 71,
      "outputs": [
        {
          "output_type": "execute_result",
          "data": {
            "text/plain": [
              "array([[23,  5],\n",
              "       [10, 16]])"
            ]
          },
          "metadata": {},
          "execution_count": 71
        }
      ]
    },
    {
      "cell_type": "code",
      "source": [
        "sns.heatmap(cm, annot=True);"
      ],
      "metadata": {
        "colab": {
          "base_uri": "https://localhost:8080/",
          "height": 265
        },
        "id": "RoukYofLeE7W",
        "outputId": "f943676e-0fa9-429a-eb1e-6d840ad31e31"
      },
      "execution_count": 72,
      "outputs": [
        {
          "output_type": "display_data",
          "data": {
            "text/plain": [
              "<Figure size 432x288 with 2 Axes>"
            ],
            "image/png": "[encoded data removed]"
          },
          "metadata": {
            "needs_background": "light"
          }
        }
      ]
    },
    {
      "cell_type": "code",
      "source": [
        "from sklearn.metrics import classification_report\n",
        "\n",
        "print(classification_report(y_teste, previsoes))\n",
        "#recall. 0.82 na classe Bart significa que o algoritmo consegue identificar 82% das imagens do bart, e quando identifica, está correto em 70%\n",
        "#recall. 0.62 na classe Homer significa que o algoritmo consegue identificar 62% das imagens do homer, e quando identifica, está correto em 76% "
      ],
      "metadata": {
        "colab": {
          "base_uri": "https://localhost:8080/"
        },
        "id": "m80jasG_eJ1y",
        "outputId": "f329d480-5cbd-4663-de84-c57188c3e3c9"
      },
      "execution_count": 73,
      "outputs": [
        {
          "output_type": "stream",
          "name": "stdout",
          "text": [
            "              precision    recall  f1-score   support\n",
            "\n",
            "           0       0.70      0.82      0.75        28\n",
            "           1       0.76      0.62      0.68        26\n",
            "\n",
            "    accuracy                           0.72        54\n",
            "   macro avg       0.73      0.72      0.72        54\n",
            "weighted avg       0.73      0.72      0.72        54\n",
            "\n"
          ]
        }
      ]
    },
    {
      "cell_type": "markdown",
      "source": [
        "## Salvar e carregar a rede neural"
      ],
      "metadata": {
        "id": "FQyhbN7bfYMk"
      }
    },
    {
      "cell_type": "code",
      "source": [
        "#Esse código armazena apenas a estrutura da rede neural\n",
        "model_json = network1.to_json()\n",
        "with open('network1.json', 'w') as json_file:\n",
        "  json_file.write(model_json)"
      ],
      "metadata": {
        "id": "OAkHWx9Peg1u"
      },
      "execution_count": 74,
      "outputs": []
    },
    {
      "cell_type": "code",
      "source": [
        "from keras.models import save_model\n",
        "network1_saved = save_model(network1, 'weights1.hdf5') #Esse arquivo tem 2,25 GB"
      ],
      "metadata": {
        "id": "CZOfDKrQgG1W"
      },
      "execution_count": 75,
      "outputs": []
    },
    {
      "cell_type": "code",
      "source": [
        "#Carregando os dados da estrutura da rede neural\n",
        "with open('network1.json') as json_file:\n",
        "  json_saved_model = json_file.read()\n",
        "\n",
        "json_saved_model"
      ],
      "metadata": {
        "colab": {
          "base_uri": "https://localhost:8080/",
          "height": 192
        },
        "id": "g1sS25qagdbJ",
        "outputId": "48af6f06-9780-4902-c226-3299f22adfe6"
      },
      "execution_count": 76,
      "outputs": [
        {
          "output_type": "execute_result",
          "data": {
            "text/plain": [
              "'{\"class_name\": \"Sequential\", \"config\": {\"name\": \"sequential_2\", \"layers\": [{\"class_name\": \"InputLayer\", \"config\": {\"batch_input_shape\": [null, 16384], \"dtype\": \"float32\", \"sparse\": false, \"ragged\": false, \"name\": \"dense_4_input\"}}, {\"class_name\": \"Dense\", \"config\": {\"name\": \"dense_4\", \"trainable\": true, \"batch_input_shape\": [null, 16384], \"dtype\": \"float32\", \"units\": 8193, \"activation\": \"relu\", \"use_bias\": true, \"kernel_initializer\": {\"class_name\": \"GlorotUniform\", \"config\": {\"seed\": null}}, \"bias_initializer\": {\"class_name\": \"Zeros\", \"config\": {}}, \"kernel_regularizer\": null, \"bias_regularizer\": null, \"activity_regularizer\": null, \"kernel_constraint\": null, \"bias_constraint\": null}}, {\"class_name\": \"Dense\", \"config\": {\"name\": \"dense_5\", \"trainable\": true, \"dtype\": \"float32\", \"units\": 8193, \"activation\": \"relu\", \"use_bias\": true, \"kernel_initializer\": {\"class_name\": \"GlorotUniform\", \"config\": {\"seed\": null}}, \"bias_initializer\": {\"class_name\": \"Zeros\", \"config\": {}}, \"kernel_regularizer\": null, \"bias_regularizer\": null, \"activity_regularizer\": null, \"kernel_constraint\": null, \"bias_constraint\": null}}, {\"class_name\": \"Dense\", \"config\": {\"name\": \"dense_6\", \"trainable\": true, \"dtype\": \"float32\", \"units\": 1, \"activation\": \"sigmoid\", \"use_bias\": true, \"kernel_initializer\": {\"class_name\": \"GlorotUniform\", \"config\": {\"seed\": null}}, \"bias_initializer\": {\"class_name\": \"Zeros\", \"config\": {}}, \"kernel_regularizer\": null, \"bias_regularizer\": null, \"activity_regularizer\": null, \"kernel_constraint\": null, \"bias_constraint\": null}}]}, \"keras_version\": \"2.9.0\", \"backend\": \"tensorflow\"}'"
            ],
            "application/vnd.google.colaboratory.intrinsic+json": {
              "type": "string"
            }
          },
          "metadata": {},
          "execution_count": 76
        }
      ]
    },
    {
      "cell_type": "code",
      "source": [
        "# Carregando a rede neural\n",
        "network1_loaded = tf.keras.models.model_from_json(json_saved_model)\n",
        "network1_loaded.load_weights('/content/weights1.hdf5')\n",
        "network1_loaded.compile(loss= 'binary_crossentropy', optimizer='Adam', metrics=['accuracy'])"
      ],
      "metadata": {
        "id": "F5YXubCbgzMV"
      },
      "execution_count": 78,
      "outputs": []
    },
    {
      "cell_type": "code",
      "source": [
        "network1_loaded.summary() # Para nos certificarmos que a rede foi carregada corretamente"
      ],
      "metadata": {
        "colab": {
          "base_uri": "https://localhost:8080/"
        },
        "id": "-Cagib7_hIok",
        "outputId": "50490083-13cb-4d9a-d084-c1a468c0fca4"
      },
      "execution_count": 79,
      "outputs": [
        {
          "output_type": "stream",
          "name": "stdout",
          "text": [
            "Model: \"sequential_2\"\n",
            "_________________________________________________________________\n",
            " Layer (type)                Output Shape              Param #   \n",
            "=================================================================\n",
            " dense_4 (Dense)             (None, 8193)              134242305 \n",
            "                                                                 \n",
            " dense_5 (Dense)             (None, 8193)              67133442  \n",
            "                                                                 \n",
            " dense_6 (Dense)             (None, 1)                 8194      \n",
            "                                                                 \n",
            "=================================================================\n",
            "Total params: 201,383,941\n",
            "Trainable params: 201,383,941\n",
            "Non-trainable params: 0\n",
            "_________________________________________________________________\n"
          ]
        }
      ]
    },
    {
      "cell_type": "markdown",
      "source": [
        "## Classificação de uma imagem"
      ],
      "metadata": {
        "id": "7E4IB0HZmwHF"
      }
    },
    {
      "cell_type": "code",
      "source": [
        "X_teste[0], y_teste[0]"
      ],
      "metadata": {
        "colab": {
          "base_uri": "https://localhost:8080/"
        },
        "id": "G_an_11ghS4O",
        "outputId": "48673d8a-7278-4621-c93f-b3444fd12d3a"
      },
      "execution_count": 80,
      "outputs": [
        {
          "output_type": "execute_result",
          "data": {
            "text/plain": [
              "(array([1., 1., 1., ..., 1., 1., 1.]), 0)"
            ]
          },
          "metadata": {},
          "execution_count": 80
        }
      ]
    },
    {
      "cell_type": "code",
      "source": [
        "X_teste[0].shape"
      ],
      "metadata": {
        "colab": {
          "base_uri": "https://localhost:8080/"
        },
        "id": "Q_F3XUZ-m0Cx",
        "outputId": "213be0bb-c7d6-449e-b62d-0a60781ec780"
      },
      "execution_count": 82,
      "outputs": [
        {
          "output_type": "execute_result",
          "data": {
            "text/plain": [
              "(16384,)"
            ]
          },
          "metadata": {},
          "execution_count": 82
        }
      ]
    },
    {
      "cell_type": "code",
      "source": [
        "cv2_imshow(X_teste[0].reshape(128, 128)) #imagem preta pois haviamos normalizado os dados"
      ],
      "metadata": {
        "colab": {
          "base_uri": "https://localhost:8080/",
          "height": 145
        },
        "id": "FnBR1o2Nm2N6",
        "outputId": "eedf82ab-4c78-4ea4-ccab-dd4dc0918f5d"
      },
      "execution_count": 83,
      "outputs": [
        {
          "output_type": "display_data",
          "data": {
            "text/plain": [
              "<PIL.Image.Image image mode=L size=128x128 at 0x7F8D8E715490>"
            ],
            "image/png": "[encoded data removed]"
          },
          "metadata": {}
        }
      ]
    },
    {
      "cell_type": "code",
      "source": [
        "imagem_teste = X_teste[1]\n",
        "imagem_teste = scaler.inverse_transform(imagem_teste.reshape(1,-1))\n",
        "\n",
        "imagem_teste"
      ],
      "metadata": {
        "colab": {
          "base_uri": "https://localhost:8080/"
        },
        "id": "zpKKOpzunB2W",
        "outputId": "e7588814-ac54-4d56-911a-2b0ece0a953d"
      },
      "execution_count": 89,
      "outputs": [
        {
          "output_type": "execute_result",
          "data": {
            "text/plain": [
              "array([[255., 255., 255., ...,  28., 255., 255.]])"
            ]
          },
          "metadata": {},
          "execution_count": 89
        }
      ]
    },
    {
      "cell_type": "code",
      "source": [
        "cv2_imshow(imagem_teste.reshape(128,128))"
      ],
      "metadata": {
        "colab": {
          "base_uri": "https://localhost:8080/",
          "height": 145
        },
        "id": "OsVm9cjwnhNF",
        "outputId": "0b4f4dbc-b037-456d-f3ee-63558f60c18e"
      },
      "execution_count": 90,
      "outputs": [
        {
          "output_type": "display_data",
          "data": {
            "text/plain": [
              "<PIL.Image.Image image mode=L size=128x128 at 0x7F8E0A13F400>"
            ],
            "image/png": "[encoded data removed]"
          },
          "metadata": {}
        }
      ]
    },
    {
      "cell_type": "code",
      "source": [
        "network1_loaded.predict(imagem_teste)[0][0] #Ou seja, você não precisa enviar a imagem vetorizada e normalizada para a rede, só enviar a imagem normal\n"
      ],
      "metadata": {
        "colab": {
          "base_uri": "https://localhost:8080/"
        },
        "id": "wX94eYfLnpYr",
        "outputId": "5bf9e2ce-ada4-403d-d8d3-c912e9dd7f85"
      },
      "execution_count": 91,
      "outputs": [
        {
          "output_type": "stream",
          "name": "stdout",
          "text": [
            "1/1 [==============================] - 0s 20ms/step\n"
          ]
        },
        {
          "output_type": "execute_result",
          "data": {
            "text/plain": [
              "0.99861944"
            ]
          },
          "metadata": {},
          "execution_count": 91
        }
      ]
    },
    {
      "cell_type": "code",
      "source": [
        "if network1_loaded.predict(imagem_teste)[0][0] < 0.5:\n",
        "  print('Bart')\n",
        "else:\n",
        "  print('Homer')"
      ],
      "metadata": {
        "colab": {
          "base_uri": "https://localhost:8080/"
        },
        "id": "mKeC41KBn-sH",
        "outputId": "a4050af4-58cb-4f38-b446-5f5adb46f4c6"
      },
      "execution_count": 92,
      "outputs": [
        {
          "output_type": "stream",
          "name": "stdout",
          "text": [
            "1/1 [==============================] - 0s 20ms/step\n",
            "Homer\n"
          ]
        }
      ]
    },
    {
      "cell_type": "code",
      "source": [],
      "metadata": {
        "id": "h7M_OVOaoIwI"
      },
      "execution_count": null,
      "outputs": []
    }
  ]
}