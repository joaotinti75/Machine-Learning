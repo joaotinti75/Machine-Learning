{
  "nbformat": 4,
  "nbformat_minor": 0,
  "metadata": {
    "colab": {
      "provenance": [],
      "authorship_tag": "ABX9TyNqyRc8YoIXj0wbIeKqr/PR",
      "include_colab_link": true
    },
    "kernelspec": {
      "name": "python3",
      "display_name": "Python 3"
    },
    "language_info": {
      "name": "python"
    }
  },
  "cells": [
    {
      "cell_type": "markdown",
      "metadata": {
        "id": "view-in-github",
        "colab_type": "text"
      },
      "source": [
        "<a href=\"https://colab.research.google.com/github/joaotinti75/Machine-Learning/blob/main/Crop_Image.ipynb\" target=\"_parent\"><img src=\"https://colab.research.google.com/assets/colab-badge.svg\" alt=\"Open In Colab\"/></a>"
      ]
    },
    {
      "cell_type": "markdown",
      "source": [
        "## **Importando as bibliotecas**\n"
      ],
      "metadata": {
        "id": "0kceGK-9vSOj"
      }
    },
    {
      "cell_type": "code",
      "execution_count": 1,
      "metadata": {
        "id": "h_MHjllqBnMo"
      },
      "outputs": [],
      "source": [
        "import numpy as np\n",
        "import cv2\n",
        "import matplotlib.pyplot as plt"
      ]
    },
    {
      "cell_type": "markdown",
      "source": [
        "## **Exibindo a imagem utilizada para teste**"
      ],
      "metadata": {
        "id": "SZFpE1T9vaLV"
      }
    },
    {
      "cell_type": "code",
      "source": [
        "img = cv2.imread('imagem.png')\n",
        "\n",
        "plt.imshow(cv2.cvtColor(img, cv2.COLOR_BGR2RGB))\n",
        "plt.show()\n",
        "#rows, columns, channels\n",
        "print(img.shape)"
      ],
      "metadata": {
        "colab": {
          "base_uri": "https://localhost:8080/",
          "height": 285
        },
        "id": "mzcAlUmpgcVs",
        "outputId": "a94400cd-c752-4a64-f583-1538dc661247"
      },
      "execution_count": 2,
      "outputs": [
        {
          "output_type": "display_data",
          "data": {
            "text/plain": [
              "<Figure size 432x288 with 1 Axes>"
            ],
            "image/png": "[encoded data removed]"
          },
          "metadata": {
            "needs_background": "light"
          }
        },
        {
          "output_type": "stream",
          "name": "stdout",
          "text": [
            "(100, 100, 3)\n"
          ]
        }
      ]
    },
    {
      "cell_type": "markdown",
      "source": [
        "## **Função que recorta a imagem**"
      ],
      "metadata": {
        "id": "4KrHuRO-vGaW"
      }
    },
    {
      "cell_type": "code",
      "source": [
        "def crop_image(img, crop_size):\n",
        "  '''\n",
        "  Função que recorta uma imagem e retorna uma lista com os pedaços recortados \n",
        "  1° parâmetro: imagem\n",
        "  2° parâmetro: dimensão do recorte\n",
        "  retorno: lista contendo os pedaços recortados (cada item da lista é um numpy array)\n",
        "  '''\n",
        "  cropped_images = []\n",
        "\n",
        "  for row in range(0, img.shape[0], crop_size):\n",
        "    if (row + crop_size) <= img.shape[0]:\n",
        "      for column in range(0, img.shape[1], crop_size):\n",
        "        if (column + crop_size) <= img.shape[1]:\n",
        "          crop_img = img[row:row+crop_size, column:column+crop_size]\n",
        "          if np.any(np.unique(crop_img)) == True: #Excluindo imagens totalmente escuras\n",
        "            cropped_images.append(crop_img)\n",
        "\n",
        "  return cropped_images\n",
        "\n",
        "cropped_images = crop_image(img, 25)\n"
      ],
      "metadata": {
        "id": "EvvZo6nkgtRn"
      },
      "execution_count": 3,
      "outputs": []
    },
    {
      "cell_type": "code",
      "source": [
        "print('Número de imagens: ', len(cropped_images))"
      ],
      "metadata": {
        "colab": {
          "base_uri": "https://localhost:8080/"
        },
        "id": "gQa5m541elZ-",
        "outputId": "57f7af6b-dec1-46f6-8cf4-d832c6844411"
      },
      "execution_count": 4,
      "outputs": [
        {
          "output_type": "stream",
          "name": "stdout",
          "text": [
            "Número de imagens:  4\n"
          ]
        }
      ]
    },
    {
      "cell_type": "markdown",
      "source": [
        "## **Plotando as imagens recortadas**"
      ],
      "metadata": {
        "id": "-uA4awnDt0UO"
      }
    },
    {
      "cell_type": "code",
      "source": [
        "f, axarr = plt.subplots(2,2)\n",
        "axarr[0,0].imshow(cv2.cvtColor(cropped_images[0], cv2.COLOR_BGR2RGB))\n",
        "axarr[0,1].imshow(cv2.cvtColor(cropped_images[1], cv2.COLOR_BGR2RGB))\n",
        "axarr[1,0].imshow(cv2.cvtColor(cropped_images[2], cv2.COLOR_BGR2RGB))\n",
        "axarr[1,1].imshow(cv2.cvtColor(cropped_images[3], cv2.COLOR_BGR2RGB))"
      ],
      "metadata": {
        "colab": {
          "base_uri": "https://localhost:8080/",
          "height": 284
        },
        "id": "v-46yYJ7t4kD",
        "outputId": "2cf76a71-6a91-4ad4-ffd5-2e2ab392bf8c"
      },
      "execution_count": 5,
      "outputs": [
        {
          "output_type": "execute_result",
          "data": {
            "text/plain": [
              "<matplotlib.image.AxesImage at 0x7feb1a2bfb10>"
            ]
          },
          "metadata": {},
          "execution_count": 5
        },
        {
          "output_type": "display_data",
          "data": {
            "text/plain": [
              "<Figure size 432x288 with 4 Axes>"
            ],
            "image/png": "[encoded data removed]"
          },
          "metadata": {
            "needs_background": "light"
          }
        }
      ]
    },
    {
      "cell_type": "code",
      "source": [
        "def paint_pixels(img, crop_size):\n",
        "\n",
        "  #Criando uma imagem cópia da original\n",
        "  pixeled_img = img.copy()\n",
        "\n",
        "  for row in range(0, img.shape[0], crop_size):\n",
        "    if (row + crop_size) <= img.shape[0]:\n",
        "      for column in range(0, img.shape[1], crop_size):\n",
        "        if (column + crop_size) <= img.shape[1]:\n",
        "          crop_img = img[row:row+crop_size, column:column+crop_size]\n",
        "          #Substituir essa condição pela resposta do modelo à imagem recortada\n",
        "          if len(np.unique(crop_img)) == 3:\n",
        "            #Essa linha pinta os pixels \n",
        "            pixeled_img[row:row+crop_size, column:column+crop_size] = (255,255,255)\n",
        "          else:\n",
        "            pixeled_img[row:row+crop_size, column:column+crop_size] = (0,0,0)\n",
        "  \n",
        "  img_gray = cv2.cvtColor(pixeled_img, cv2.COLOR_BGR2GRAY)\n",
        "  \n",
        "  bin_method = cv2.THRESH_BINARY\n",
        "  ret, bin_img = cv2.threshold(img_gray, 135, 255, bin_method)\n",
        "\n",
        "  return bin_img\n",
        "\n",
        "bin_img = paint_pixels(img, 10)\n",
        "plt.imshow(cv2.cvtColor(bin_img, cv2.COLOR_BGR2RGB))\n",
        "plt.show()\n",
        "print(img.shape)\n"
      ],
      "metadata": {
        "colab": {
          "base_uri": "https://localhost:8080/",
          "height": 285
        },
        "id": "_2d-10GGeX81",
        "outputId": "c4b82e66-b14b-4feb-f174-e2e01be7900e"
      },
      "execution_count": 6,
      "outputs": [
        {
          "output_type": "display_data",
          "data": {
            "text/plain": [
              "<Figure size 432x288 with 1 Axes>"
            ],
            "image/png": "[encoded data removed]"
          },
          "metadata": {
            "needs_background": "light"
          }
        },
        {
          "output_type": "stream",
          "name": "stdout",
          "text": [
            "(100, 100, 3)\n"
          ]
        }
      ]
    }
  ]
}