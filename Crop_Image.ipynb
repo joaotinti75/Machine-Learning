{
  "nbformat": 4,
  "nbformat_minor": 0,
  "metadata": {
    "colab": {
      "provenance": [],
      "toc_visible": true,
      "authorship_tag": "ABX9TyOAMIQbrzAl0c0jXOIkTBaq",
      "include_colab_link": true
    },
    "kernelspec": {
      "name": "python3",
      "display_name": "Python 3"
    },
    "language_info": {
      "name": "python"
    }
  },
  "cells": [
    {
      "cell_type": "markdown",
      "metadata": {
        "id": "view-in-github",
        "colab_type": "text"
      },
      "source": [
        "<a href=\"https://colab.research.google.com/github/joaotinti75/Machine-Learning/blob/main/Crop_Image.ipynb\" target=\"_parent\"><img src=\"https://colab.research.google.com/assets/colab-badge.svg\" alt=\"Open In Colab\"/></a>"
      ]
    },
    {
      "cell_type": "markdown",
      "source": [
        "## **Importando as bibliotecas**\n"
      ],
      "metadata": {
        "id": "0kceGK-9vSOj"
      }
    },
    {
      "cell_type": "code",
      "execution_count": 1,
      "metadata": {
        "id": "h_MHjllqBnMo"
      },
      "outputs": [],
      "source": [
        "import numpy as np\n",
        "import cv2\n",
        "import matplotlib.pyplot as plt"
      ]
    },
    {
      "cell_type": "markdown",
      "source": [
        "## **Exibindo a imagem utilizada para teste**"
      ],
      "metadata": {
        "id": "SZFpE1T9vaLV"
      }
    },
    {
      "cell_type": "code",
      "source": [
        "img = cv2.imread('imagem.png')\n",
        "\n",
        "plt.imshow(cv2.cvtColor(img, cv2.COLOR_BGR2RGB))\n",
        "plt.show()\n",
        "#rows, columns, channels\n",
        "print(img.shape)"
      ],
      "metadata": {
        "colab": {
          "base_uri": "https://localhost:8080/",
          "height": 285
        },
        "id": "mzcAlUmpgcVs",
        "outputId": "abecc564-660e-4f00-a488-6e42df7ae9e1"
      },
      "execution_count": 2,
      "outputs": [
        {
          "output_type": "display_data",
          "data": {
            "text/plain": [
              "<Figure size 432x288 with 1 Axes>"
            ],
            "image/png": "[encoded data removed]"
          },
          "metadata": {
            "needs_background": "light"
          }
        },
        {
          "output_type": "stream",
          "name": "stdout",
          "text": [
            "(100, 100, 3)\n"
          ]
        }
      ]
    },
    {
      "cell_type": "markdown",
      "source": [
        "## **Função que recorta a imagem**"
      ],
      "metadata": {
        "id": "4KrHuRO-vGaW"
      }
    },
    {
      "cell_type": "code",
      "source": [
        "def crop_image(img, crop_size):\n",
        "  '''\n",
        "  Função que recorta uma imagem e retorna uma lista com os pedaços recortados \n",
        "  1° parâmetro: imagem\n",
        "  2° parâmetro: dimensão do recorte\n",
        "  retorno: lista contendo os pedaços recortados (cada item da lista é um numpy array)\n",
        "  '''\n",
        "  cropped_images = []\n",
        "\n",
        "  for row in range(0, img.shape[0], crop_size):\n",
        "    if (row + crop_size) <= img.shape[0]:\n",
        "      for column in range(0, img.shape[1], crop_size):\n",
        "        if (column + crop_size) <= img.shape[1]:\n",
        "          crop_img = img[row:row+crop_size, column:column+crop_size]\n",
        "          if np.any(np.unique(crop_img)) == True: #Excluindo imagens totalmente escuras\n",
        "            cropped_images.append(crop_img)\n",
        "\n",
        "  return cropped_images\n",
        "\n",
        "cropped_images = crop_image(img, 25)\n"
      ],
      "metadata": {
        "id": "EvvZo6nkgtRn"
      },
      "execution_count": 3,
      "outputs": []
    },
    {
      "cell_type": "markdown",
      "source": [
        "## **Plotando as imagens recortadas**"
      ],
      "metadata": {
        "id": "-uA4awnDt0UO"
      }
    },
    {
      "cell_type": "code",
      "source": [
        "f, axarr = plt.subplots(2,2)\n",
        "axarr[0,0].imshow(cv2.cvtColor(cropped_images[0], cv2.COLOR_BGR2RGB))\n",
        "axarr[0,1].imshow(cv2.cvtColor(cropped_images[1], cv2.COLOR_BGR2RGB))\n",
        "axarr[1,0].imshow(cv2.cvtColor(cropped_images[2], cv2.COLOR_BGR2RGB))\n",
        "axarr[1,1].imshow(cv2.cvtColor(cropped_images[3], cv2.COLOR_BGR2RGB))"
      ],
      "metadata": {
        "colab": {
          "base_uri": "https://localhost:8080/",
          "height": 284
        },
        "id": "v-46yYJ7t4kD",
        "outputId": "ab5ff0a5-909a-4de8-cc37-0d077b2fdf88"
      },
      "execution_count": 4,
      "outputs": [
        {
          "output_type": "execute_result",
          "data": {
            "text/plain": [
              "<matplotlib.image.AxesImage at 0x7fe7a6ddd990>"
            ]
          },
          "metadata": {},
          "execution_count": 4
        },
        {
          "output_type": "display_data",
          "data": {
            "text/plain": [
              "<Figure size 432x288 with 4 Axes>"
            ],
            "image/png": "[encoded data removed]"
          },
          "metadata": {
            "needs_background": "light"
          }
        }
      ]
    }
  ]
}